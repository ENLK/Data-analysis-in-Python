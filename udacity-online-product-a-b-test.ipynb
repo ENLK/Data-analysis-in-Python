{
 "cells": [
  {
   "cell_type": "code",
   "execution_count": 1,
   "metadata": {},
   "outputs": [],
   "source": [
    "import math as mt\n",
    "import numpy as np\n",
    "import pandas as pd\n",
    "from scipy.stats import norm"
   ]
  },
  {
   "cell_type": "markdown",
   "metadata": {},
   "source": [
    "# **1. Udacity screener **\n",
    "- Goal to maximize course completion by user \n",
    "\n",
    "- Two options: 'start free trial', 'access course materials'"
   ]
  },
  {
   "cell_type": "markdown",
   "metadata": {},
   "source": [
    "### **1.1 Experiment description **\n",
    "\n",
    "- If user clicked free trial, they are given a prompt to indicate how much of their time can be devoted\n",
    "\n",
    "- If time >= 5 hours / week, proceed to checkout \n",
    "\n",
    "- If t < 5 / week, message popup indicating courses generally require higher time commitments\n",
    "\n",
    "#### Units \n",
    "- Unit of diversion = cookie \n",
    "\n",
    "- Users enrolled on free trials are tracked by user-id \n",
    "\n",
    "- Same user id cannot enroll free trial twice\n",
    "\n",
    "#### Tracking method \n",
    "\n",
    "- Pre-enrollment = cookies \n",
    "\n",
    "- Post enrollment = user-id \n",
    "\n",
    "- Non-enrolled = not tracked in experiment, even if they were signed when viewing course overview page "
   ]
  },
  {
   "cell_type": "markdown",
   "metadata": {},
   "source": [
    "### **1.2 Hypothesis **\n",
    "\n",
    "1) By setting clearer expectations upfront, there is a reduction of frustrated users leaving the free trial \n",
    "\n",
    "2) No significant reduction in user numbers continuing to the free trial and eventual completion. \n",
    "\n",
    "3) Overall improvement in user experience"
   ]
  },
  {
   "cell_type": "markdown",
   "metadata": {},
   "source": [
    "# **2. Metric choice **\n",
    "\n",
    "- 2 types: Invariate + evaluation metrics \n",
    "\n",
    "\n",
    "## 2.1 Invar metrics\n",
    "\n",
    "- Invariate = sanity checks (ensure ways of presenting changes + collecting data is not wrong)\n",
    "\n",
    "- Invariate metrics should not be affected due to experiment and don't change drastically between control + experiment groups\n",
    "\n",
    "| Metric Name  | Metric Formula  | $Dmin$  | Notation |\n",
    "|:-:|:-:|:-:|:-:|\n",
    "| Number of Cookies in Course Overview Page  | # unique daily cookies on page | 3000 cookies  | $C_k$ |\n",
    "| Number of Clicks on Free Trial Button  | # unique daily cookies who clicked  | 240 clicks | $C_l$ |\n",
    "| Free Trial button Click-Through-Probability  | $\\frac{C_l}{C_k}$ | 0.01  | $CTP$ | "
   ]
  },
  {
   "cell_type": "markdown",
   "metadata": {},
   "source": [
    "## Invar metrics explained \n",
    "\n",
    "#### Number of cookies \n",
    "- Number of unique cookies to view course overiew \n",
    "\n",
    "#### Number of clicks \n",
    "\n",
    "- Number of unique cookies to click start free trial\n",
    "\n",
    "#### Click through probability \n",
    "\n",
    "- Number of unique cookies to click start free trial / number of cookies to view course overview page "
   ]
  },
  {
   "cell_type": "markdown",
   "metadata": {},
   "source": [
    "## 2.3. Eval metrics\n",
    "\n",
    "- Evaluation = metrics expected to change, relevant to business goals \n",
    "\n",
    "- Each eval. metric is marked by *Dmin*, a minimum change that is significant to the business e.g. user retention rates. \n",
    "\n",
    "- What may be statisically significant may not be practically significant to business objectives. \n",
    "\n",
    "| Metric Name  | Metric Formula  | $Dmin$  | Notation |\n",
    "|:-:|:-:|:-:|:-:|\n",
    "| Gross Conversion   |  $\\frac{enrolled}{C_l}$  | 0.01  | $Conversion_{Gross}$ |\n",
    "| Retention   | $\\frac{paid}{enrolled}$  | 0.01  | $Retention$ |\n",
    "| Net Conversion  |  $\\frac{paid}{C_l}$  | 0.0075 | $Conversion_{Net}$ |"
   ]
  },
  {
   "cell_type": "markdown",
   "metadata": {},
   "source": [
    "## Eval metrics\n",
    "\n",
    "#### Gross conversion\n",
    "\n",
    "- Number of user-ids to complete checkout & enroll in free trial / number of unique cookies to click Start Free Trial \n",
    "\n",
    "- Indicate validity of** H1 **\n",
    "\n",
    "#### Net conversion \n",
    "\n",
    "- Number of usder-ids to complete, enroll, and pay / number of unique cookies to ckick Start Free Trial \n",
    "\n",
    "- 14 day boundary applies to net \n",
    "\n",
    "- Indicate validity of **H2 **"
   ]
  },
  {
   "cell_type": "markdown",
   "metadata": {},
   "source": [
    "### 2.2. Metric & Hypothesis \n",
    "\n",
    "#### Correlation \n",
    "\n",
    "- Gconversion & Nconversion = correlated \n",
    "\n",
    "#### H1 expectation\n",
    "- If H1 is true, test ***should indicate*** a statistically signfiicant ** reduction in Gross conversion** of experiment group \n",
    "\n",
    "- i.e. should not be the same / higher than control group \n",
    "\n",
    "#### H2 expectation \n",
    "- If H2 is true, test ***should NOT indicate*** a statistically **significant reduction in Net conversion** of experiment group \n",
    "\n",
    "- i.e. should be the same / higher than control group "
   ]
  },
  {
   "cell_type": "markdown",
   "metadata": {},
   "source": [
    "#### 2.3 Unused Metrics\n",
    "\n",
    "- User ID \n",
    "\n",
    "- (Used) Retention (number of users enrolled past 14-day boundary) "
   ]
  },
  {
   "cell_type": "markdown",
   "metadata": {},
   "source": [
    "### **3. Estimator data**\n",
    "\n",
    "- Identify baseline values of metrics (how metrics behave before the change)\n",
    "\n",
    "\n",
    "| Item | Description  | Estimator  |\n",
    "|:-:|:-:|:-:|\n",
    "| Number of cookies | Daily unique cookies to view course overview page  | 40,000  |\n",
    "| Number of clicks | Daily unique cookies to click Free Trial button  | 3,200 |\n",
    "| Number of enrollments | Free Trial enrollments per day  | 660  |\n",
    "| CTP | CTP on Free Trial button  | 0.08  |\n",
    "| Gross Conversion | Probability of enrolling, given a click  | 0.20625  |\n",
    "| Retention | Probability of payment, given enrollment  | 0.53  |\n",
    "| Net Conversion | Probability of payment, given click  | 0.109313 |"
   ]
  },
  {
   "cell_type": "markdown",
   "metadata": {},
   "source": [
    "#### ***Note***: CTP + GConversion = 1"
   ]
  },
  {
   "cell_type": "code",
   "execution_count": 2,
   "metadata": {
    "_cell_guid": "79c7e3d0-c299-4dcb-8224-4455121ee9b0",
    "_uuid": "d629ff2d2480ee46fbb7e2d37f6b5fab8052498a"
   },
   "outputs": [
    {
     "data": {
      "text/plain": [
       "{'cookies': 40000,\n",
       " 'clicks': 3200,\n",
       " 'enrollment': 660,\n",
       " 'CTP': 0.08,\n",
       " 'Gconversion': 0.20625,\n",
       " 'retention': 0.53,\n",
       " 'Nconversion': 0.109313}"
      ]
     },
     "execution_count": 2,
     "metadata": {},
     "output_type": "execute_result"
    }
   ],
   "source": [
    "# Place estimators into dictionary \n",
    "\n",
    "baseline = {'cookies': 40000,\n",
    "            'clicks': 3200,\n",
    "            'enrollment': 660,\n",
    "            'CTP': 0.08,\n",
    "            'Gconversion': 0.20625,\n",
    "            'retention': 0.53,\n",
    "            'Nconversion': 0.109313}\n",
    "\n",
    "baseline"
   ]
  },
  {
   "cell_type": "markdown",
   "metadata": {},
   "source": [
    "## 4. Standard deviation estimation\n",
    "\n",
    "<br>\n",
    "<center><font size=\"4\">$SD=\\sqrt{\\frac{\\hat{p}*(1-\\hat{p})}{n}}$</font></center><br>\n",
    "\n",
    "- SD necessary for sample size calcs & confidence intervals of results \n",
    "\n",
    "- Estimate the SD of each eval. metric, given the information of the collected metric estimates. \n",
    "\n",
    "- Higher variation in metrics = harder to achieve significant result.\n",
    "\n",
    "- Gconversion & Nconversion are measured as probabilities, expected a norma binomial distribution if sample size is sufficently large \n",
    "\n",
    "- Assume sample size of 5k cookies / day (in each group) for experiment, given the baseline values"
   ]
  },
  {
   "cell_type": "markdown",
   "metadata": {},
   "source": [
    "#### 4.1 Data scaling \n",
    "\n",
    "- All following calculations requires collected count estimates of metrics to be scaled with sample size, specified for var estimation. \n",
    "\n",
    "- Change 40000 unique cookies to visit page to 5000"
   ]
  },
  {
   "cell_type": "code",
   "execution_count": 3,
   "metadata": {},
   "outputs": [
    {
     "data": {
      "text/plain": [
       "{'cookies': 5000,\n",
       " 'clicks': 400.0,\n",
       " 'enrollment': 82.5,\n",
       " 'CTP': 0.08,\n",
       " 'Gconversion': 0.20625,\n",
       " 'retention': 0.53,\n",
       " 'Nconversion': 0.109313}"
      ]
     },
     "execution_count": 3,
     "metadata": {},
     "output_type": "execute_result"
    }
   ],
   "source": [
    "# Scaling count estimates \n",
    "\n",
    "baseline['cookies'] = 5000\n",
    "\n",
    "# cookies / daily number of unique cookies per day \n",
    "baseline['clicks'] = baseline['clicks']*(5000/40000)\n",
    "\n",
    "baseline['enrollment'] = baseline['enrollment']*(5000/40000)\n",
    "\n",
    "baseline"
   ]
  },
  {
   "cell_type": "markdown",
   "metadata": {},
   "source": [
    "#### 4.2 Assumption: metrics are binomially distributed\n",
    "\n",
    "- Assumption only holds when unit of diversion = unit of analysis\n",
    "\n",
    "- unit of analysis = denominator of metric formula "
   ]
  },
  {
   "cell_type": "markdown",
   "metadata": {},
   "source": [
    "#### 4.3 Units \n",
    "\n",
    "- Unit of diversion = element used to differentiate samples, assign them to control & experiment groups\n",
    "\n",
    "- Unit of analysis = denominator of the formula to calc. Gconversion \n",
    "\n",
    "- Unit of diversion = Unit of analysis \n",
    "\n",
    "- Cookies = unique cookies to click (Start free trial)  "
   ]
  },
  {
   "cell_type": "markdown",
   "metadata": {},
   "source": [
    "#### 4.4 Each metric requires two variables to be plugged:\n",
    "\n",
    "<br>$\\hat{p}$ - baseline probability of the event to occur <br>\n",
    "$ n $ - sample size <br>\n",
    "\n",
    "- Estimate metric variance for eval. metrics \n"
   ]
  },
  {
   "cell_type": "markdown",
   "metadata": {},
   "source": [
    "#### 4.5 Gconversion (Gc)\n",
    "\n",
    "- Baseline proba = P(enrollment | a click) \n",
    "\n",
    "- number of users to enroll in free trial / number of unique cookies to click 'Start Free Trial'\n",
    "\n",
    "- Unit of diversion = Unit of analysis\n",
    "\n",
    "- Cookies = number of unique cookies to click \n",
    "\n",
    "- Sufficient condition for analytical estimation of var\n"
   ]
  },
  {
   "cell_type": "code",
   "execution_count": 4,
   "metadata": {},
   "outputs": [
    {
     "data": {
      "text/plain": [
       "0.0202"
      ]
     },
     "execution_count": 4,
     "metadata": {},
     "output_type": "execute_result"
    }
   ],
   "source": [
    "# Create p-hat & n \n",
    "\n",
    "Gc = {}\n",
    "\n",
    "Gc['D_min'] = 0.01\n",
    "\n",
    "# p-hat already given \n",
    "    # Alternatively, calc from enrollments / clicks \n",
    "Gc['p'] = baseline['Gconversion']\n",
    "\n",
    "# Sample \n",
    "Gc['n'] = baseline['clicks']\n",
    "\n",
    "# Compute SD, round to 4 decimals\n",
    "Gc['sd'] = round(mt.sqrt((Gc['p']*(1-Gc['p']))/Gc['n']), 4)\n",
    "Gc['sd']"
   ]
  },
  {
   "cell_type": "markdown",
   "metadata": {},
   "source": [
    "#### 4.6 Retention\n",
    "\n",
    "- Baseline proba = P(payment | enrollment)\n",
    "\n",
    "- Number of paying users enrolled after 14 days / number of total enrolled users \n",
    "\n",
    "- Unit of diversion != unit of analysis \n",
    "\n",
    "- Cookies = users enrolled \n",
    "\n",
    "- Analytical estimation of var is insufficient "
   ]
  },
  {
   "cell_type": "code",
   "execution_count": 5,
   "metadata": {},
   "outputs": [
    {
     "data": {
      "text/plain": [
       "0.0549"
      ]
     },
     "execution_count": 5,
     "metadata": {},
     "output_type": "execute_result"
    }
   ],
   "source": [
    "R = {}\n",
    "R['D_min'] = 0.01\n",
    "\n",
    "R['p'] = baseline['retention']\n",
    "\n",
    "# sample size = enrolled users \n",
    "R['n'] = baseline['enrollment']\n",
    "\n",
    "R['sd'] = round(mt.sqrt((R['p']*(1-R['p']))/R['n']), 4)\n",
    "R['sd']"
   ]
  },
  {
   "cell_type": "markdown",
   "metadata": {},
   "source": [
    "#### 4.7 Nconversion\n",
    "\n",
    "- Baseline proba = P(payment | a click) \n",
    "\n",
    "- Number of PAYING users / number of unique cookies to click start free trial \n",
    "\n",
    "- Cookies = number of cookies to click \n",
    "\n",
    "- Diversion = analysis \n",
    "\n",
    "- Analytical estimation = sufficient "
   ]
  },
  {
   "cell_type": "code",
   "execution_count": 6,
   "metadata": {},
   "outputs": [
    {
     "data": {
      "text/plain": [
       "0.0156"
      ]
     },
     "execution_count": 6,
     "metadata": {},
     "output_type": "execute_result"
    }
   ],
   "source": [
    "Nc = {}\n",
    "Nc['D_min'] = 0.075\n",
    "\n",
    "Nc['p'] = baseline['Nconversion']\n",
    "\n",
    "# sample size = number of cookies clicked \n",
    "Nc['n'] = baseline['clicks']\n",
    "\n",
    "Nc['sd'] = round(mt.sqrt((Nc['p']*(1-Nc['p']))/Nc['n']), 4)\n",
    "Nc['sd']"
   ]
  },
  {
   "cell_type": "markdown",
   "metadata": {},
   "source": [
    "## 5. Experiment Sizing \n",
    "\n",
    "- Calc. min. number of samples needed for sufficient statistical power & significant \n",
    "\n",
    "#### 5.1 Assumptions:\n",
    "\n",
    "- $a$ = 0.05\n",
    "- $B$ = 0.2\n",
    "\n",
    "#### 5.2 Objective:\n",
    "\n",
    "- estimate number of total number of page views needed i.e. unique cookies who viewed the product overview page \n",
    "\n",
    "- divide page views into 2 groups: control & experiment \n"
   ]
  },
  {
   "cell_type": "markdown",
   "metadata": {},
   "source": [
    "### 5.3 min. sample size \n",
    "\n",
    "<center> <font size=\"5\"> $n = \\frac{(Z_{1-\\frac{\\alpha}{2}}sd_1 + Z_{1-\\beta}sd_2)^2}{d^2}$</font>, with: <br><br>\n",
    "$sd_1 = \\sqrt{p(1-p)+p(1-p)}$<br><br>\n",
    "$sd_2 = \\sqrt{p(1-p)+(p+d)(1-(1-(p+d))}$ </center><br>\n",
    "\n",
    "- $d$ = detectable effect \n",
    "\n",
    "- $\\hat{p}$ = baseline conversion rate \n",
    "\n",
    "### 5.4 Simple Hypothesis \n",
    "- $H_0 : P_{cont} - P_{exp} = 0$\n",
    "\n",
    "- $H_1 : P_{cont} - P_{exp} = d$\n",
    "\n",
    "### 5.5 Necessary inputs & calcs \n",
    "\n",
    "#### inputs:\n",
    "\n",
    "- $a,  $1-\\beta$ ,  d, \\hat{p}$\n",
    "\n",
    "- where $d = D_{min}$\n",
    "\n",
    "#### calcs:\n",
    "\n",
    "- $Z$ score for $1-\\frac{\\alpha}{2}$ \n",
    "- $Z$ score for $1-\\beta$ \n",
    "- SD1 & SD2 for baseline & expected change rate "
   ]
  },
  {
   "cell_type": "markdown",
   "metadata": {},
   "source": [
    "## 6. Z-score crit value & SD \n",
    "\n",
    "- scipy.stats.norm "
   ]
  },
  {
   "cell_type": "code",
   "execution_count": 7,
   "metadata": {},
   "outputs": [],
   "source": [
    "def get_sd(p,d):\n",
    "    sd1 = mt.sqrt(2 * p *(1 - p))\n",
    "    sd2 = mt.sqrt(p * (1 - p) + (p + d) * (1-(p + d)\n",
    "                                          )\n",
    "                 )\n",
    "    x = [sd1,sd2]\n",
    "    return x"
   ]
  },
  {
   "cell_type": "markdown",
   "metadata": {},
   "source": [
    "### 6.1 ppf method: percent point function or quantile function\n",
    "\n",
    "- functions return required critical z-score "
   ]
  },
  {
   "cell_type": "code",
   "execution_count": 8,
   "metadata": {},
   "outputs": [],
   "source": [
    "# alpha should already fit required test\n",
    "    #Return z-score for alpha \n",
    "    \n",
    "def get_z_score(alpha):\n",
    "    return norm.ppf(alpha)"
   ]
  },
  {
   "cell_type": "markdown",
   "metadata": {},
   "source": [
    "### 6.2 SD1 & SD2 \n",
    "\n",
    "- Baseline = SD1 - SD \n",
    "\n",
    "- Expected change = SD2 - SD"
   ]
  },
  {
   "cell_type": "code",
   "execution_count": 9,
   "metadata": {},
   "outputs": [],
   "source": [
    "def get_sd(p,d):\n",
    "    sd1 = mt.sqrt(2 * p * (1 - p))\n",
    "    sd2 = mt.sqrt(p * (1 - p)+(p + d) * (1 - (p + d)\n",
    "                                        )\n",
    "                 )\n",
    "    sd = [sd1,sd2]\n",
    "    return sd\n"
   ]
  },
  {
   "cell_type": "code",
   "execution_count": 10,
   "metadata": {},
   "outputs": [],
   "source": [
    "def get_sampSize(sd,alpha,beta,d):\n",
    "    n = pow((get_z_score(1 - alpha / 2) * sd[0] + get_z_score(1 - beta) * sd[1]),\n",
    "            2) / pow(d, 2)\n",
    "    return n"
   ]
  },
  {
   "cell_type": "markdown",
   "metadata": {},
   "source": [
    "## 7. Calc sample size per metric \n",
    "\n",
    "- highest sample size will be the effective size \n",
    "\n",
    "- Size should account for duration & exposure\n",
    "\n",
    "- duration & exposure = time to acquire given number of samples in experiment  "
   ]
  },
  {
   "cell_type": "code",
   "execution_count": 11,
   "metadata": {},
   "outputs": [],
   "source": [
    "# Add detectable effect parameter to each metric characteristics for all eval metrics \n",
    "\n",
    "Gc['d'] = 0.01\n",
    "R['d'] = 0.01\n",
    "Nc['d'] = 0.0075"
   ]
  },
  {
   "cell_type": "markdown",
   "metadata": {},
   "source": [
    "### 7.1 Gross conversion sample size calc."
   ]
  },
  {
   "cell_type": "code",
   "execution_count": 12,
   "metadata": {},
   "outputs": [
    {
     "data": {
      "text/plain": [
       "25835.0"
      ]
     },
     "execution_count": 12,
     "metadata": {},
     "output_type": "execute_result"
    }
   ],
   "source": [
    "Gc[\"SamSiz\"]=round(get_sampSize(get_sd(Gc[\"p\"], \n",
    "                                          Gc[\"d\"]),\n",
    "                                  0.05,0.2,\n",
    "                                  Gc[\"d\"])\n",
    "                  )\n",
    "\n",
    "Gc[\"SamSiz\"]"
   ]
  },
  {
   "cell_type": "markdown",
   "metadata": {},
   "source": [
    "#### Gross conversion sample size required = at least 25,835 cookies who clicked Start Free Trial per group \n",
    "\n",
    "- For example, 800 'start free trial' clicks out of 5000 page views, 500/5000 = 0.16\n",
    "\n",
    "- then Gc['SamSiz]/0.16 = 161,468.75 pageviews "
   ]
  },
  {
   "cell_type": "code",
   "execution_count": 13,
   "metadata": {},
   "outputs": [
    {
     "data": {
      "text/plain": [
       "322938.0"
      ]
     },
     "execution_count": 13,
     "metadata": {},
     "output_type": "execute_result"
    }
   ],
   "source": [
    "Gc['SamSiz'] = round(Gc['SamSiz'] / 0.16*2)\n",
    "\n",
    "Gc['SamSiz']"
   ]
  },
  {
   "cell_type": "markdown",
   "metadata": {},
   "source": [
    "#### Total amount of samples per Gross Conversion metric = 322938.0"
   ]
  },
  {
   "cell_type": "markdown",
   "metadata": {},
   "source": [
    "### 7.2 Retention sample size calc."
   ]
  },
  {
   "cell_type": "code",
   "execution_count": 14,
   "metadata": {},
   "outputs": [
    {
     "data": {
      "text/plain": [
       "39087.0"
      ]
     },
     "execution_count": 14,
     "metadata": {},
     "output_type": "execute_result"
    }
   ],
   "source": [
    "R['SamSiz'] = round(get_sampSize(get_sd(R['p'],\n",
    "                                        R['d']),\n",
    "                                        0.05, 0.2,\n",
    "                                       R['d']\n",
    "                                )\n",
    "                   )\n",
    "                \n",
    "\n",
    "R['SamSiz']"
   ]
  },
  {
   "cell_type": "markdown",
   "metadata": {},
   "source": [
    "#### At least 39087.0 users enrolled per group \n",
    "\n",
    "- Convert this val to cookies who clicked & cookies who viewed page\n",
    "\n",
    "- Multiply both groups by 2 "
   ]
  },
  {
   "cell_type": "code",
   "execution_count": 15,
   "metadata": {},
   "outputs": [
    {
     "data": {
      "text/plain": [
       "4737818.181818182"
      ]
     },
     "execution_count": 15,
     "metadata": {},
     "output_type": "execute_result"
    }
   ],
   "source": [
    "# 0.08 = CTF\n",
    "# 0.20625 = GConversion\n",
    "    # 0.20625 = base conversion rate (probability of enrolling, given click)\n",
    "    \n",
    "R['SamSiz'] = R['SamSiz'] / 0.08 / 0.20625 * 2\n",
    "\n",
    "R['SamSiz']"
   ]
  },
  {
   "cell_type": "markdown",
   "metadata": {},
   "source": [
    "#### > 4 million page views total\n",
    "\n",
    "- not possible, only 40,000 cookies (pageviews) a day\n",
    "\n",
    "- Drop metric because results of experiment will be biased, since it is smaller in scale "
   ]
  },
  {
   "cell_type": "markdown",
   "metadata": {},
   "source": [
    "### 7.3 Net conversion sample size calc."
   ]
  },
  {
   "cell_type": "code",
   "execution_count": 16,
   "metadata": {},
   "outputs": [
    {
     "data": {
      "text/plain": [
       "27413.0"
      ]
     },
     "execution_count": 16,
     "metadata": {},
     "output_type": "execute_result"
    }
   ],
   "source": [
    "Nc['SamSiz'] = round(get_sampSize(get_sd(Nc['p'], \n",
    "                                         Nc['d']), \n",
    "                                  0.05, 0.2, \n",
    "                                  Nc['d']\n",
    "                                 )\n",
    "                    )\n",
    "Nc['SamSiz']"
   ]
  },
  {
   "cell_type": "markdown",
   "metadata": {},
   "source": [
    "#### At least 27,413 cookies who click per group required \n",
    "\n",
    "- Convert to cookies who clicked through (CTP)"
   ]
  },
  {
   "cell_type": "code",
   "execution_count": 17,
   "metadata": {},
   "outputs": [
    {
     "data": {
      "text/plain": [
       "685325.0"
      ]
     },
     "execution_count": 17,
     "metadata": {},
     "output_type": "execute_result"
    }
   ],
   "source": [
    "Nc['SamSiz'] = Nc['SamSiz']/0.08*2\n",
    "\n",
    "Nc['SamSiz']"
   ]
  },
  {
   "cell_type": "markdown",
   "metadata": {},
   "source": [
    "- 685,325 cookies who viewed the page\n",
    "\n",
    "- Choose Nc sample size since it is greater than Gross Conversion "
   ]
  },
  {
   "cell_type": "markdown",
   "metadata": {},
   "source": [
    "## 8. Experimental Analysis\n",
    "\n",
    "- Sanity checks for INVAR metrics "
   ]
  },
  {
   "cell_type": "code",
   "execution_count": 18,
   "metadata": {},
   "outputs": [],
   "source": [
    "cont = pd.read_csv('../input/control-data/control_data.csv')\n",
    "\n",
    "exp = pd.read_csv('../input/experiment-data/experiment_data.csv')"
   ]
  },
  {
   "cell_type": "code",
   "execution_count": 19,
   "metadata": {},
   "outputs": [
    {
     "data": {
      "text/html": [
       "<div>\n",
       "<style scoped>\n",
       "    .dataframe tbody tr th:only-of-type {\n",
       "        vertical-align: middle;\n",
       "    }\n",
       "\n",
       "    .dataframe tbody tr th {\n",
       "        vertical-align: top;\n",
       "    }\n",
       "\n",
       "    .dataframe thead th {\n",
       "        text-align: right;\n",
       "    }\n",
       "</style>\n",
       "<table border=\"1\" class=\"dataframe\">\n",
       "  <thead>\n",
       "    <tr style=\"text-align: right;\">\n",
       "      <th></th>\n",
       "      <th>Date</th>\n",
       "      <th>Pageviews</th>\n",
       "      <th>Clicks</th>\n",
       "      <th>Enrollments</th>\n",
       "      <th>Payments</th>\n",
       "    </tr>\n",
       "  </thead>\n",
       "  <tbody>\n",
       "    <tr>\n",
       "      <td>0</td>\n",
       "      <td>Sat, Oct 11</td>\n",
       "      <td>7723</td>\n",
       "      <td>687</td>\n",
       "      <td>134.0</td>\n",
       "      <td>70.0</td>\n",
       "    </tr>\n",
       "    <tr>\n",
       "      <td>1</td>\n",
       "      <td>Sun, Oct 12</td>\n",
       "      <td>9102</td>\n",
       "      <td>779</td>\n",
       "      <td>147.0</td>\n",
       "      <td>70.0</td>\n",
       "    </tr>\n",
       "    <tr>\n",
       "      <td>2</td>\n",
       "      <td>Mon, Oct 13</td>\n",
       "      <td>10511</td>\n",
       "      <td>909</td>\n",
       "      <td>167.0</td>\n",
       "      <td>95.0</td>\n",
       "    </tr>\n",
       "    <tr>\n",
       "      <td>3</td>\n",
       "      <td>Tue, Oct 14</td>\n",
       "      <td>9871</td>\n",
       "      <td>836</td>\n",
       "      <td>156.0</td>\n",
       "      <td>105.0</td>\n",
       "    </tr>\n",
       "    <tr>\n",
       "      <td>4</td>\n",
       "      <td>Wed, Oct 15</td>\n",
       "      <td>10014</td>\n",
       "      <td>837</td>\n",
       "      <td>163.0</td>\n",
       "      <td>64.0</td>\n",
       "    </tr>\n",
       "  </tbody>\n",
       "</table>\n",
       "</div>"
      ],
      "text/plain": [
       "          Date  Pageviews  Clicks  Enrollments  Payments\n",
       "0  Sat, Oct 11       7723     687        134.0      70.0\n",
       "1  Sun, Oct 12       9102     779        147.0      70.0\n",
       "2  Mon, Oct 13      10511     909        167.0      95.0\n",
       "3  Tue, Oct 14       9871     836        156.0     105.0\n",
       "4  Wed, Oct 15      10014     837        163.0      64.0"
      ]
     },
     "execution_count": 19,
     "metadata": {},
     "output_type": "execute_result"
    }
   ],
   "source": [
    "cont.head()"
   ]
  },
  {
   "cell_type": "markdown",
   "metadata": {},
   "source": [
    "### 8.1 Sanity Checks\n",
    "\n",
    "- Verify experiment is conducted as expected \n",
    "\n",
    "- Confirm other factors did not influence data collected \n",
    "\n",
    "- Ensure data collection method was correct \n",
    "\n",
    "### 3 INVAR metrics \n",
    "\n",
    "1) Number of cookies in course overview \n",
    "\n",
    "2) Number of clicks on free trial \n",
    "\n",
    "3) Free Trial CTP\n",
    "\n",
    "### Check if these observed values behave as expected i.e. if experiment is damaged "
   ]
  },
  {
   "cell_type": "markdown",
   "metadata": {},
   "source": [
    "### 8.1.1 Sanity checks for differences between cookie counts \n",
    "\n",
    "- Check if there is significant quantity difference in the total number of cookie pageviews diverted to each group\n",
    "\n",
    "- Significant difference implies biased experiment \n",
    "\n",
    "- Check pageview cookies & click on free trial cookies "
   ]
  },
  {
   "cell_type": "markdown",
   "metadata": {},
   "source": [
    "### Pageviews "
   ]
  },
  {
   "cell_type": "code",
   "execution_count": 20,
   "metadata": {},
   "outputs": [
    {
     "name": "stdout",
     "output_type": "stream",
     "text": [
      "number of control pageviews:  345543\n",
      "number of experiment pageviews:  344660\n"
     ]
    }
   ],
   "source": [
    "pageviews_cont = cont['Pageviews'].sum()\n",
    "pageviews_exp = exp['Pageviews'].sum()\n",
    "\n",
    "pageviews_total = pageviews_cont + pageviews_exp\n",
    "\n",
    "print('number of control pageviews: ', pageviews_cont)\n",
    "\n",
    "print('number of experiment pageviews: ', pageviews_exp)"
   ]
  },
  {
   "cell_type": "markdown",
   "metadata": {},
   "source": [
    "### 8.1.2 Check if difference is random i.e. not significant \n",
    "\n",
    "- Expectation = number of pageviews in cont is 50% of total pageviews \n",
    "\n",
    "- Test if observed $\\hat{p}$ is not significantly different from $\\hat{p} = 0.5$\n",
    "\n",
    "- Calc Margin of Error (ME) at 95% confidence level \n",
    "\n",
    "<center> <font size=\"4\"> $ ME=Z_{1-\\frac{\\alpha}{2}}SD$ </font></center>\n",
    "\n",
    "- Where confidence interval is: \n",
    "\n",
    "<center> <font size=\"4\"> $ CI=[\\hat{p}-ME,\\hat{p}+ME]$ </font></center>\n",
    "\n",
    "- if obsereved $\\hat{p}$ is within CI range, then experiment is fine"
   ]
  },
  {
   "cell_type": "code",
   "execution_count": 21,
   "metadata": {},
   "outputs": [
    {
     "name": "stdout",
     "output_type": "stream",
     "text": [
      "Confidence interval is between 0.4988 and 0.5012 ; Verify 0.5006 is within this range\n"
     ]
    }
   ],
   "source": [
    "p = 0.5\n",
    "\n",
    "alpha = 0.05\n",
    "\n",
    "# Proportion of total \n",
    "p_hat = round(pageviews_cont / (pageviews_total), 4)\n",
    "\n",
    "sd = mt.sqrt(p * (1 - p) / (pageviews_total))\n",
    "\n",
    "ME = round(get_z_score(1 - (alpha / 2)) * sd, 4)\n",
    "\n",
    "print('Confidence interval is between', p - ME, 'and', p + ME, '; Verify', p_hat, 'is within this range')"
   ]
  },
  {
   "cell_type": "markdown",
   "metadata": {},
   "source": [
    "### Click counts"
   ]
  },
  {
   "cell_type": "code",
   "execution_count": 22,
   "metadata": {},
   "outputs": [
    {
     "name": "stdout",
     "output_type": "stream",
     "text": [
      "Confidence interval is between 0.4959 and 0.5041 ; Verify 0.5005 is within this range\n"
     ]
    }
   ],
   "source": [
    "clicks_cont = cont['Clicks'].sum()\n",
    "clicks_exp = exp['Clicks'].sum()\n",
    "clicks_total = clicks_cont + clicks_exp\n",
    "\n",
    "p_hat = round(clicks_cont / clicks_total, 4)\n",
    "sd = mt.sqrt(p * (1 - p) / clicks_total)\n",
    "\n",
    "ME = round(get_z_score(1 - (alpha / 2)) * sd, 4)\n",
    "\n",
    "print('Confidence interval is between', p - ME, 'and', p + ME, '; Verify', p_hat, 'is within this range')"
   ]
  },
  {
   "cell_type": "markdown",
   "metadata": {},
   "source": [
    "### 8.1.4 Check for differences between probabilities\n",
    "\n",
    "- Verify proportion of clicks is approx. the same in both groups \n",
    "\n",
    "- CTP is not expected to change due to experiment. \n",
    "\n",
    "- Calc CTP in each group and calc confidence interval for expected difference between them \n",
    "\n",
    "- Confirm if $CTP_{exp}-CTP_{cont} = 0$ under an acceptable ME and calculated confidence interval \n",
    "\n",
    "- CTP is a proportion of the population, similar to how amount of clicks is a proportion of amount of pageviews i.e. amount of events x in population n\n",
    "\n",
    "- Detectable changes should be calc of standard error i.e. pooled standard error "
   ]
  },
  {
   "cell_type": "code",
   "execution_count": 23,
   "metadata": {},
   "outputs": [
    {
     "name": "stdout",
     "output_type": "stream",
     "text": [
      "Confidence interval is between -0.0013 and 0.0013 ; Verify 0.0001 is within this range\n"
     ]
    }
   ],
   "source": [
    "ctp_cont = clicks_cont / pageviews_cont\n",
    "ctp_exp = clicks_exp / pageviews_exp\n",
    "\n",
    "# Detecable change\n",
    "d_hat = round(ctp_exp - ctp_cont, 4)\n",
    "\n",
    "p_pooled = clicks_total / pageviews_total\n",
    "\n",
    "sd_pooled = mt.sqrt(p_pooled * (1 - p_pooled) * (1 / pageviews_cont + 1 / pageviews_exp))\n",
    "\n",
    "ME = round(get_z_score(1-(alpha / 2)) * sd_pooled, 4)\n",
    "\n",
    "print('Confidence interval is between', 0-ME, 'and', 0+ME, '; Verify', d_hat, 'is within this range')"
   ]
  },
  {
   "cell_type": "markdown",
   "metadata": {},
   "source": [
    "### Test passes on all INVAR metrics "
   ]
  },
  {
   "cell_type": "markdown",
   "metadata": {},
   "source": [
    "## 9. Effect size computation\n",
    "\n",
    "- Check changes between control & experiwment groups for EVAL metrics \n",
    "\n",
    "- Ensure difference exists, is statistically significant & practically significant \n",
    "\n",
    "- Practical significance = detectable difference is large enough to justify experiment change \n",
    "\n",
    "\n",
    "> * **Signficance:**\n",
    "A metric is statistically significant if the confidence interval does not include 0 at lower bound, i.e. confident there is a change. Similarly, practically significant if the confidence interval does not include the practical significance boundary, i.e. confident there is a change that matters to the business.)"
   ]
  },
  {
   "cell_type": "code",
   "execution_count": 24,
   "metadata": {},
   "outputs": [
    {
     "name": "stdout",
     "output_type": "stream",
     "text": [
      "17293 17260\n"
     ]
    }
   ],
   "source": [
    "# Count total clicks from complete records \n",
    "    # i.e. where rows with pageviews and clicks have corresponding values with enrollments and payments\n",
    "    \n",
    "clicks_cont = cont['Clicks'].loc[cont['Enrollments'].notnull()].sum()\n",
    "\n",
    "clicks_exp = exp['Clicks'].loc[exp['Enrollments'].notnull()].sum()\n",
    "\n",
    "print(clicks_cont, clicks_exp)"
   ]
  },
  {
   "cell_type": "markdown",
   "metadata": {},
   "source": [
    "### 9.1 H1 validity \n",
    "\n",
    "- Less user frustration due to time commitments = less users enrollments after advisory popup \n",
    "\n",
    "<br> <center><font size=\"5\"> \n",
    "$\\hat{p_{pool}}=\\frac{x_{cont}+x_{exp}}{N_{cont}+N_{exp}}$ </font></center>\n",
    "\n",
    "<center><font size=\"4\">$SD_{pool}=\\sqrt{\\hat{p_{pool}}(1-\\hat{p_{pool}}(\\frac{1}{N_{cont}}+\\frac{1}{N_{exp}})}$</font></center>"
   ]
  },
  {
   "cell_type": "code",
   "execution_count": 25,
   "metadata": {},
   "outputs": [
    {
     "name": "stdout",
     "output_type": "stream",
     "text": [
      "Change due to experiment is -2.06 %\n",
      "Confidence interval: [ -0.0292 , -0.012 ]\n",
      "Statistically signfiicant if interval does not include 0\n",
      "Practically significant if interval does not contain -0.01\n"
     ]
    }
   ],
   "source": [
    "# Gross conversion = P(enrollment | click)\n",
    "\n",
    "enrol_cont = cont['Enrollments'].sum()\n",
    "enrol_exp = exp['Enrollments'].sum()\n",
    "\n",
    "GC_cont = enrol_cont / clicks_cont \n",
    "GC_exp = enrol_exp / clicks_exp\n",
    "\n",
    "total_enrol = enrol_cont + enrol_exp # xcont + xexp\n",
    "total_clicks = clicks_cont + clicks_exp\n",
    "\n",
    "# p_hat pool \n",
    "GC_pooled = total_enrol / total_clicks \n",
    "\n",
    "GC_sd_pooled = mt.sqrt(GC_pooled * (1 - GC_pooled) * (1 / clicks_cont + 1 / clicks_exp))\n",
    "\n",
    "GC_ME = round(get_z_score(1 - alpha / 2) * GC_sd_pooled, 4)\n",
    "\n",
    "GC_diff = round(GC_exp - GC_cont, 4)\n",
    "\n",
    "print('Change due to experiment is', GC_diff * 100, '%')\n",
    "\n",
    "print('Confidence interval: [', GC_diff - GC_ME, ',', GC_diff + GC_ME, ']')\n",
    "\n",
    "print('Statistically signfiicant if interval does not include 0')\n",
    "\n",
    "print('Practically significant if interval does not contain', -Gc['D_min'])"
   ]
  },
  {
   "cell_type": "markdown",
   "metadata": {},
   "source": [
    "### Gross Conversion results \n",
    "\n",
    "- Negative change in experiment that is both statistically & practically significant \n",
    "\n",
    ">  -2.06% change = Gross Conversion rate of experiment group decreased as expected by 2% and this change was signfiicant i.e. less users enrolled after the advisory popup \n",
    "\n",
    "- H1 is valid, significant reduction "
   ]
  },
  {
   "cell_type": "markdown",
   "metadata": {},
   "source": [
    "### 9.2 H2 validity \n",
    "\n",
    "- No significant loss in user numbers continuing to free trial, **NO significant reduction"
   ]
  },
  {
   "cell_type": "code",
   "execution_count": 26,
   "metadata": {},
   "outputs": [
    {
     "name": "stdout",
     "output_type": "stream",
     "text": [
      "Change due to experiment is -0.49 %\n",
      "Confidence interval: [ -0.0135 , 0.0037 ]\n",
      "Statistically significant if interval does not include 0.\n",
      "Practically significant if interval does not include 0.075\n"
     ]
    }
   ],
   "source": [
    "# Net conversion = number of paying users after 14-day boundary / number of clicks on Start Free Trial \n",
    "    # P(payment | clicks)\n",
    "    \n",
    "payments_cont = cont['Payments'].sum()\n",
    "payments_exp = exp['Payments'].sum()\n",
    "\n",
    "NC_cont = payments_cont / clicks_cont \n",
    "NC_exp = payments_exp / clicks_exp \n",
    "\n",
    "total_payments = NC_cont + NC_exp \n",
    "\n",
    "NC_pooled = total_payments / total_clicks \n",
    "\n",
    "NC_sd_pooled =  mt.sqrt(NC_pooled * (1 - NC_pooled) * (1 / clicks_cont + 1 / clicks_exp))\n",
    "\n",
    "NC_ME = round(get_z_score(1 - alpha / 2) * GC_sd_pooled, 4)\n",
    "\n",
    "NC_diff = round(NC_exp - NC_cont, 4)\n",
    "\n",
    "print('Change due to experiment is', NC_diff * 100, '%')\n",
    "print('Confidence interval: [', NC_diff - NC_ME, ',', NC_diff + NC_ME, ']')\n",
    "print('Statistically significant if interval does not include 0.')\n",
    "print('Practically significant if interval does not include', Nc['D_min'])"
   ]
  },
  {
   "cell_type": "markdown",
   "metadata": {},
   "source": [
    "### Net Conversion results \n",
    "\n",
    "- Negative change of 0.5% \n",
    "\n",
    "> Experiment group decreased by 5% after pop-up \n",
    "\n",
    "- Statistically & practically insignificant \n",
    "\n",
    "- Within ranges "
   ]
  },
  {
   "cell_type": "markdown",
   "metadata": {},
   "source": [
    "## 10. Sign tests double check\n",
    "\n",
    "- Check if differences are consistent between pairs of observations i.e. decrease / increase\n",
    "\n",
    "- Check if trend of change observed (decreases) is consistently evident in daily observations \n",
    "\n",
    "- Compute daily metric value \n",
    "\n",
    "- Compute number of days metric is lower in experiment group\n",
    "\n",
    "> - Day count = number of successes for binominal variable \n",
    "> - where binomial variable = number of successes expected to achive from N experiments, given P(success)"
   ]
  },
  {
   "cell_type": "markdown",
   "metadata": {},
   "source": [
    "### 10.1 Processing "
   ]
  },
  {
   "cell_type": "code",
   "execution_count": 27,
   "metadata": {},
   "outputs": [
    {
     "name": "stdout",
     "output_type": "stream",
     "text": [
      "Date_cont           37\n",
      "Pageviews_cont      37\n",
      "Clicks_cont         37\n",
      "Enrollments_cont    23\n",
      "Payments_cont       23\n",
      "Date_exp            37\n",
      "Pageviews_exp       37\n",
      "Clicks_exp          37\n",
      "Enrollments_exp     23\n",
      "Payments_exp        23\n",
      "dtype: int64\n"
     ]
    },
    {
     "data": {
      "text/html": [
       "<div>\n",
       "<style scoped>\n",
       "    .dataframe tbody tr th:only-of-type {\n",
       "        vertical-align: middle;\n",
       "    }\n",
       "\n",
       "    .dataframe tbody tr th {\n",
       "        vertical-align: top;\n",
       "    }\n",
       "\n",
       "    .dataframe thead th {\n",
       "        text-align: right;\n",
       "    }\n",
       "</style>\n",
       "<table border=\"1\" class=\"dataframe\">\n",
       "  <thead>\n",
       "    <tr style=\"text-align: right;\">\n",
       "      <th></th>\n",
       "      <th>Date_cont</th>\n",
       "      <th>Pageviews_cont</th>\n",
       "      <th>Clicks_cont</th>\n",
       "      <th>Enrollments_cont</th>\n",
       "      <th>Payments_cont</th>\n",
       "      <th>Date_exp</th>\n",
       "      <th>Pageviews_exp</th>\n",
       "      <th>Clicks_exp</th>\n",
       "      <th>Enrollments_exp</th>\n",
       "      <th>Payments_exp</th>\n",
       "    </tr>\n",
       "  </thead>\n",
       "  <tbody>\n",
       "    <tr>\n",
       "      <td>0</td>\n",
       "      <td>Sat, Oct 11</td>\n",
       "      <td>7723</td>\n",
       "      <td>687</td>\n",
       "      <td>134.0</td>\n",
       "      <td>70.0</td>\n",
       "      <td>Sat, Oct 11</td>\n",
       "      <td>7716</td>\n",
       "      <td>686</td>\n",
       "      <td>105.0</td>\n",
       "      <td>34.0</td>\n",
       "    </tr>\n",
       "    <tr>\n",
       "      <td>1</td>\n",
       "      <td>Sun, Oct 12</td>\n",
       "      <td>9102</td>\n",
       "      <td>779</td>\n",
       "      <td>147.0</td>\n",
       "      <td>70.0</td>\n",
       "      <td>Sun, Oct 12</td>\n",
       "      <td>9288</td>\n",
       "      <td>785</td>\n",
       "      <td>116.0</td>\n",
       "      <td>91.0</td>\n",
       "    </tr>\n",
       "    <tr>\n",
       "      <td>2</td>\n",
       "      <td>Mon, Oct 13</td>\n",
       "      <td>10511</td>\n",
       "      <td>909</td>\n",
       "      <td>167.0</td>\n",
       "      <td>95.0</td>\n",
       "      <td>Mon, Oct 13</td>\n",
       "      <td>10480</td>\n",
       "      <td>884</td>\n",
       "      <td>145.0</td>\n",
       "      <td>79.0</td>\n",
       "    </tr>\n",
       "    <tr>\n",
       "      <td>3</td>\n",
       "      <td>Tue, Oct 14</td>\n",
       "      <td>9871</td>\n",
       "      <td>836</td>\n",
       "      <td>156.0</td>\n",
       "      <td>105.0</td>\n",
       "      <td>Tue, Oct 14</td>\n",
       "      <td>9867</td>\n",
       "      <td>827</td>\n",
       "      <td>138.0</td>\n",
       "      <td>92.0</td>\n",
       "    </tr>\n",
       "    <tr>\n",
       "      <td>4</td>\n",
       "      <td>Wed, Oct 15</td>\n",
       "      <td>10014</td>\n",
       "      <td>837</td>\n",
       "      <td>163.0</td>\n",
       "      <td>64.0</td>\n",
       "      <td>Wed, Oct 15</td>\n",
       "      <td>9793</td>\n",
       "      <td>832</td>\n",
       "      <td>140.0</td>\n",
       "      <td>94.0</td>\n",
       "    </tr>\n",
       "  </tbody>\n",
       "</table>\n",
       "</div>"
      ],
      "text/plain": [
       "     Date_cont  Pageviews_cont  Clicks_cont  Enrollments_cont  Payments_cont  \\\n",
       "0  Sat, Oct 11            7723          687             134.0           70.0   \n",
       "1  Sun, Oct 12            9102          779             147.0           70.0   \n",
       "2  Mon, Oct 13           10511          909             167.0           95.0   \n",
       "3  Tue, Oct 14            9871          836             156.0          105.0   \n",
       "4  Wed, Oct 15           10014          837             163.0           64.0   \n",
       "\n",
       "      Date_exp  Pageviews_exp  Clicks_exp  Enrollments_exp  Payments_exp  \n",
       "0  Sat, Oct 11           7716         686            105.0          34.0  \n",
       "1  Sun, Oct 12           9288         785            116.0          91.0  \n",
       "2  Mon, Oct 13          10480         884            145.0          79.0  \n",
       "3  Tue, Oct 14           9867         827            138.0          92.0  \n",
       "4  Wed, Oct 15           9793         832            140.0          94.0  "
      ]
     },
     "execution_count": 27,
     "metadata": {},
     "output_type": "execute_result"
    }
   ],
   "source": [
    "# Merge datasets \n",
    "\n",
    "merge = cont.join(other = exp,\n",
    "                  how = 'inner',\n",
    "                      lsuffix = '_cont',\n",
    "                      rsuffix = '_exp')\n",
    "\n",
    "print(merge.count())\n",
    "merge.head()"
   ]
  },
  {
   "cell_type": "code",
   "execution_count": 28,
   "metadata": {},
   "outputs": [
    {
     "data": {
      "text/plain": [
       "Date_cont           23\n",
       "Pageviews_cont      23\n",
       "Clicks_cont         23\n",
       "Enrollments_cont    23\n",
       "Payments_cont       23\n",
       "Date_exp            23\n",
       "Pageviews_exp       23\n",
       "Clicks_exp          23\n",
       "Enrollments_exp     23\n",
       "Payments_exp        23\n",
       "dtype: int64"
      ]
     },
     "execution_count": 28,
     "metadata": {},
     "output_type": "execute_result"
    }
   ],
   "source": [
    "# Drop incomplete rows (on any col with 23 observations)\n",
    "\n",
    "merge = merge.loc[merge['Payments_exp'].notnull()]\n",
    "merge.count()"
   ]
  },
  {
   "cell_type": "code",
   "execution_count": 29,
   "metadata": {},
   "outputs": [
    {
     "data": {
      "text/html": [
       "<div>\n",
       "<style scoped>\n",
       "    .dataframe tbody tr th:only-of-type {\n",
       "        vertical-align: middle;\n",
       "    }\n",
       "\n",
       "    .dataframe tbody tr th {\n",
       "        vertical-align: top;\n",
       "    }\n",
       "\n",
       "    .dataframe thead th {\n",
       "        text-align: right;\n",
       "    }\n",
       "</style>\n",
       "<table border=\"1\" class=\"dataframe\">\n",
       "  <thead>\n",
       "    <tr style=\"text-align: right;\">\n",
       "      <th></th>\n",
       "      <th>Date_cont</th>\n",
       "      <th>Pageviews_cont</th>\n",
       "      <th>Clicks_cont</th>\n",
       "      <th>Enrollments_cont</th>\n",
       "      <th>Payments_cont</th>\n",
       "      <th>Date_exp</th>\n",
       "      <th>Pageviews_exp</th>\n",
       "      <th>Clicks_exp</th>\n",
       "      <th>Enrollments_exp</th>\n",
       "      <th>Payments_exp</th>\n",
       "      <th>GC</th>\n",
       "      <th>NC</th>\n",
       "    </tr>\n",
       "  </thead>\n",
       "  <tbody>\n",
       "    <tr>\n",
       "      <td>0</td>\n",
       "      <td>Sat, Oct 11</td>\n",
       "      <td>7723</td>\n",
       "      <td>687</td>\n",
       "      <td>134.0</td>\n",
       "      <td>70.0</td>\n",
       "      <td>Sat, Oct 11</td>\n",
       "      <td>7716</td>\n",
       "      <td>686</td>\n",
       "      <td>105.0</td>\n",
       "      <td>34.0</td>\n",
       "      <td>0</td>\n",
       "      <td>0</td>\n",
       "    </tr>\n",
       "    <tr>\n",
       "      <td>1</td>\n",
       "      <td>Sun, Oct 12</td>\n",
       "      <td>9102</td>\n",
       "      <td>779</td>\n",
       "      <td>147.0</td>\n",
       "      <td>70.0</td>\n",
       "      <td>Sun, Oct 12</td>\n",
       "      <td>9288</td>\n",
       "      <td>785</td>\n",
       "      <td>116.0</td>\n",
       "      <td>91.0</td>\n",
       "      <td>0</td>\n",
       "      <td>1</td>\n",
       "    </tr>\n",
       "    <tr>\n",
       "      <td>2</td>\n",
       "      <td>Mon, Oct 13</td>\n",
       "      <td>10511</td>\n",
       "      <td>909</td>\n",
       "      <td>167.0</td>\n",
       "      <td>95.0</td>\n",
       "      <td>Mon, Oct 13</td>\n",
       "      <td>10480</td>\n",
       "      <td>884</td>\n",
       "      <td>145.0</td>\n",
       "      <td>79.0</td>\n",
       "      <td>0</td>\n",
       "      <td>0</td>\n",
       "    </tr>\n",
       "    <tr>\n",
       "      <td>3</td>\n",
       "      <td>Tue, Oct 14</td>\n",
       "      <td>9871</td>\n",
       "      <td>836</td>\n",
       "      <td>156.0</td>\n",
       "      <td>105.0</td>\n",
       "      <td>Tue, Oct 14</td>\n",
       "      <td>9867</td>\n",
       "      <td>827</td>\n",
       "      <td>138.0</td>\n",
       "      <td>92.0</td>\n",
       "      <td>0</td>\n",
       "      <td>0</td>\n",
       "    </tr>\n",
       "    <tr>\n",
       "      <td>4</td>\n",
       "      <td>Wed, Oct 15</td>\n",
       "      <td>10014</td>\n",
       "      <td>837</td>\n",
       "      <td>163.0</td>\n",
       "      <td>64.0</td>\n",
       "      <td>Wed, Oct 15</td>\n",
       "      <td>9793</td>\n",
       "      <td>832</td>\n",
       "      <td>140.0</td>\n",
       "      <td>94.0</td>\n",
       "      <td>0</td>\n",
       "      <td>1</td>\n",
       "    </tr>\n",
       "  </tbody>\n",
       "</table>\n",
       "</div>"
      ],
      "text/plain": [
       "     Date_cont  Pageviews_cont  Clicks_cont  Enrollments_cont  Payments_cont  \\\n",
       "0  Sat, Oct 11            7723          687             134.0           70.0   \n",
       "1  Sun, Oct 12            9102          779             147.0           70.0   \n",
       "2  Mon, Oct 13           10511          909             167.0           95.0   \n",
       "3  Tue, Oct 14            9871          836             156.0          105.0   \n",
       "4  Wed, Oct 15           10014          837             163.0           64.0   \n",
       "\n",
       "      Date_exp  Pageviews_exp  Clicks_exp  Enrollments_exp  Payments_exp  GC  \\\n",
       "0  Sat, Oct 11           7716         686            105.0          34.0   0   \n",
       "1  Sun, Oct 12           9288         785            116.0          91.0   0   \n",
       "2  Mon, Oct 13          10480         884            145.0          79.0   0   \n",
       "3  Tue, Oct 14           9867         827            138.0          92.0   0   \n",
       "4  Wed, Oct 15           9793         832            140.0          94.0   0   \n",
       "\n",
       "   NC  \n",
       "0   0  \n",
       "1   1  \n",
       "2   0  \n",
       "3   0  \n",
       "4   1  "
      ]
     },
     "execution_count": 29,
     "metadata": {},
     "output_type": "execute_result"
    }
   ],
   "source": [
    "# Create binary daily col for each metric \n",
    "\n",
    "    # Return 0 if control > experiment \n",
    "        # Return 1 if experiment > control \n",
    "\n",
    "# GC\n",
    "x = merge['Enrollments_cont'] / merge['Clicks_cont']\n",
    "\n",
    "y = merge['Enrollments_exp'] / merge['Clicks_exp']\n",
    "\n",
    "merge['GC'] = np.where(x > y, 0, 1)\n",
    "\n",
    "# NC\n",
    "a = merge['Payments_cont'] / merge['Clicks_cont']\n",
    "\n",
    "b = merge['Payments_exp'] / merge['Clicks_exp']\n",
    "\n",
    "merge['NC'] = np.where(a > b, 0, 1)\n",
    "\n",
    "merge.head()"
   ]
  },
  {
   "cell_type": "code",
   "execution_count": 30,
   "metadata": {},
   "outputs": [
    {
     "name": "stdout",
     "output_type": "stream",
     "text": [
      "Number of cases for GC_x: 4 \n",
      " Number of cases for NC_x: 10 \n",
      " Number of total cases: 23\n",
      "Number of cases for GC_y: 19 \n",
      " Number of cases for NC_y: 13 \n",
      "\n"
     ]
    }
   ],
   "source": [
    "# Experiment > control\n",
    "GC_x = merge.GC[merge['GC'] == 1].count()\n",
    "NC_x = merge.NC[merge['NC'] == 1].count()\n",
    "\n",
    "GC_y = merge.GC[merge['GC'] == 0].count()\n",
    "NC_y = merge.NC[merge['NC'] == 0].count()\n",
    "\n",
    "n = merge.NC.count()\n",
    "\n",
    "print('Number of cases for GC_x:', GC_x, '\\n',\n",
    "      'Number of cases for NC_x:', NC_x, '\\n',\n",
    "      'Number of total cases:', n)\n",
    "\n",
    "print('Number of cases for GC_y:', GC_y, '\\n',\n",
    "      'Number of cases for NC_y:', NC_y, '\\n')"
   ]
  },
  {
   "cell_type": "markdown",
   "metadata": {},
   "source": [
    "## 10.2 Sign test construction \n",
    "\n",
    "- Check if number of days where exp > cont is likely to be observed again in new experiment (consistently)\n",
    "\n",
    "- Assume $P(exp > cont, on a day)$ = 50% \n",
    "\n",
    "- Use binomial distribution\n",
    "> where $p = 0.5$ and number of experiment days to inform of the $P(exp > cont, on a day)$\n",
    "\n",
    "- Compute probability of $x$ days being a success\n",
    "> where success = higher metric experiment value relative to control \n",
    "\n",
    "- Double the $P(success)$, given this is a two-tailed test\n",
    "\n",
    "> Doubled value = p-value (proba of observing a more extreme value than or equal to actual observed results | null is true)\n",
    "\n",
    "- If p-value > $a$, then result is not significant i.e. not consistent \n",
    "\n",
    "> If 5 extreme days are observed,then p-val for the test is $p-val = P(x <= 2)$\n",
    "where $P(x < = 5) = P(0) + P(1) + P(2) + P(3) + P(4) + P(5)$"
   ]
  },
  {
   "cell_type": "code",
   "execution_count": 31,
   "metadata": {},
   "outputs": [],
   "source": [
    "# Function for calculating probability of x i.e. number of successes \n",
    "\n",
    "def get_proba(x, n):\n",
    "    p = round(mt.factorial(n) / (mt.factorial(x) * mt.factorial(n - x)) * 0.5 ** x * 0.5 ** (n - x), 4)\n",
    "    return p \n",
    "\n",
    "# Function to compute p-val from probabilities of maximum x \n",
    "\n",
    "def get_2tail_pval(x, n):\n",
    "    p = 0\n",
    "    for i in range(0, x + 1):\n",
    "        p = p + get_proba(i, n)\n",
    "    return 2 * p "
   ]
  },
  {
   "cell_type": "markdown",
   "metadata": {},
   "source": [
    "## 10.3 Test\n",
    "\n",
    "- calc p-val for each metrics using GC_x, NC_x, n, and functions\n",
    "\n",
    "- $a = 0.05$"
   ]
  },
  {
   "cell_type": "code",
   "execution_count": 32,
   "metadata": {},
   "outputs": [
    {
     "name": "stdout",
     "output_type": "stream",
     "text": [
      "GC change significant if 0.0026000000000000003 is lower than 0.05\n",
      "NC change significant if 0.6774 is lower than 0.05\n"
     ]
    }
   ],
   "source": [
    "# Significance of obsering extreme values \n",
    "\n",
    "print('GC change significant if', get_2tail_pval(GC_x, n), 'is lower than 0.05')\n",
    "print('NC change significant if', get_2tail_pval(NC_x, n), 'is lower than 0.05')"
   ]
  },
  {
   "cell_type": "markdown",
   "metadata": {},
   "source": [
    "### 10.4 Sign test result \n",
    "\n",
    "- GC change = significant \n",
    "\n",
    "- NC change = insignificant \n",
    "\n",
    "> Identical to effect size calculation "
   ]
  },
  {
   "cell_type": "markdown",
   "metadata": {},
   "source": [
    "# 11. Conclusion\n",
    "\n",
    "- Experiment failed to increase proportion of paying users with time advisory pop-up. \n",
    "\n",
    "- Experiment negatively changed gross conversion, little change for net conversion. \n",
    "\n",
    "- Decrease in enrollment not coupled with increase in users staying for 14 days boundary of payment. \n",
    "\n",
    "- Experiment launch is not recommended."
   ]
  }
 ],
 "metadata": {
  "kernelspec": {
   "display_name": "Python 3",
   "language": "python",
   "name": "python3"
  },
  "language_info": {
   "codemirror_mode": {
    "name": "ipython",
    "version": 3
   },
   "file_extension": ".py",
   "mimetype": "text/x-python",
   "name": "python",
   "nbconvert_exporter": "python",
   "pygments_lexer": "ipython3",
   "version": "3.6.6"
  }
 },
 "nbformat": 4,
 "nbformat_minor": 1
}
