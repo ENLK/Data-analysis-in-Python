{
 "cells": [
  {
   "cell_type": "code",
   "execution_count": 258,
   "metadata": {},
   "outputs": [
    {
     "data": {
      "text/html": [
       "<script type=\"text/javascript\">window.PlotlyConfig = {MathJaxConfig: 'local'};</script><script type=\"text/javascript\">if (window.MathJax) {MathJax.Hub.Config({SVG: {font: \"STIX-Web\"}});}</script><script>requirejs.config({paths: { 'plotly': ['https://cdn.plot.ly/plotly-latest.min']},});if(!window._Plotly) {require(['plotly'],function(plotly) {window._Plotly=plotly;});}</script>"
      ],
      "text/vnd.plotly.v1+html": [
       "<script type=\"text/javascript\">window.PlotlyConfig = {MathJaxConfig: 'local'};</script><script type=\"text/javascript\">if (window.MathJax) {MathJax.Hub.Config({SVG: {font: \"STIX-Web\"}});}</script><script>requirejs.config({paths: { 'plotly': ['https://cdn.plot.ly/plotly-latest.min']},});if(!window._Plotly) {require(['plotly'],function(plotly) {window._Plotly=plotly;});}</script>"
      ]
     },
     "metadata": {},
     "output_type": "display_data"
    }
   ],
   "source": [
    "import pandas as pd\n",
    "import numpy as np\n",
    "from nltk.corpus import stopwords\n",
    "from sklearn.metrics.pairwise import linear_kernel\n",
    "from sklearn.feature_extraction.text import CountVectorizer\n",
    "from sklearn.decomposition import LatentDirichletAllocation\n",
    "import re\n",
    "import random\n",
    "import plotly.graph_objs as go\n",
    "import plotly.plotly as py\n",
    "import cufflinks\n",
    "pd.options.display.max_columns = 30\n",
    "from IPython.core.interactiveshell import InteractiveShell\n",
    "import plotly.figure_factory as ff\n",
    "InteractiveShell.ast_node_interactivity = 'all'\n",
    "from plotly.offline import iplot\n",
    "cufflinks.go_offline()\n",
    "cufflinks.set_config_file(world_readable=True, theme='solar')"
   ]
  },
  {
   "cell_type": "code",
   "execution_count": 259,
   "metadata": {},
   "outputs": [
    {
     "name": "stdout",
     "output_type": "stream",
     "text": [
      "152 hotels in the data\n"
     ]
    },
    {
     "data": {
      "text/html": [
       "<div>\n",
       "<style scoped>\n",
       "    .dataframe tbody tr th:only-of-type {\n",
       "        vertical-align: middle;\n",
       "    }\n",
       "\n",
       "    .dataframe tbody tr th {\n",
       "        vertical-align: top;\n",
       "    }\n",
       "\n",
       "    .dataframe thead th {\n",
       "        text-align: right;\n",
       "    }\n",
       "</style>\n",
       "<table border=\"1\" class=\"dataframe\">\n",
       "  <thead>\n",
       "    <tr style=\"text-align: right;\">\n",
       "      <th></th>\n",
       "      <th>name</th>\n",
       "      <th>address</th>\n",
       "      <th>desc</th>\n",
       "    </tr>\n",
       "  </thead>\n",
       "  <tbody>\n",
       "    <tr>\n",
       "      <th>0</th>\n",
       "      <td>Hilton Garden Seattle Downtown</td>\n",
       "      <td>1821 Boren Avenue, Seattle Washington 98101 USA</td>\n",
       "      <td>Located on the southern tip of Lake Union, the...</td>\n",
       "    </tr>\n",
       "    <tr>\n",
       "      <th>1</th>\n",
       "      <td>Sheraton Grand Seattle</td>\n",
       "      <td>1400 6th Avenue, Seattle, Washington 98101 USA</td>\n",
       "      <td>Located in the city's vibrant core, the Sherat...</td>\n",
       "    </tr>\n",
       "    <tr>\n",
       "      <th>2</th>\n",
       "      <td>Crowne Plaza Seattle Downtown</td>\n",
       "      <td>1113 6th Ave, Seattle, WA 98101</td>\n",
       "      <td>Located in the heart of downtown Seattle, the ...</td>\n",
       "    </tr>\n",
       "    <tr>\n",
       "      <th>3</th>\n",
       "      <td>Kimpton Hotel Monaco Seattle</td>\n",
       "      <td>1101 4th Ave, Seattle, WA98101</td>\n",
       "      <td>What?s near our hotel downtown Seattle locatio...</td>\n",
       "    </tr>\n",
       "    <tr>\n",
       "      <th>4</th>\n",
       "      <td>The Westin Seattle</td>\n",
       "      <td>1900 5th Avenue, Seattle, Washington 98101 USA</td>\n",
       "      <td>Situated amid incredible shopping and iconic a...</td>\n",
       "    </tr>\n",
       "  </tbody>\n",
       "</table>\n",
       "</div>"
      ],
      "text/plain": [
       "                             name  \\\n",
       "0  Hilton Garden Seattle Downtown   \n",
       "1          Sheraton Grand Seattle   \n",
       "2   Crowne Plaza Seattle Downtown   \n",
       "3   Kimpton Hotel Monaco Seattle    \n",
       "4              The Westin Seattle   \n",
       "\n",
       "                                           address  \\\n",
       "0  1821 Boren Avenue, Seattle Washington 98101 USA   \n",
       "1   1400 6th Avenue, Seattle, Washington 98101 USA   \n",
       "2                  1113 6th Ave, Seattle, WA 98101   \n",
       "3                   1101 4th Ave, Seattle, WA98101   \n",
       "4   1900 5th Avenue, Seattle, Washington 98101 USA   \n",
       "\n",
       "                                                desc  \n",
       "0  Located on the southern tip of Lake Union, the...  \n",
       "1  Located in the city's vibrant core, the Sherat...  \n",
       "2  Located in the heart of downtown Seattle, the ...  \n",
       "3  What?s near our hotel downtown Seattle locatio...  \n",
       "4  Situated amid incredible shopping and iconic a...  "
      ]
     },
     "execution_count": 259,
     "metadata": {},
     "output_type": "execute_result"
    }
   ],
   "source": [
    "df = pd.read_csv('Seattle_Hotels.csv', encoding = 'latin-1')\n",
    "print(len(df), 'hotels in the data')\n",
    "df.head()"
   ]
  },
  {
   "cell_type": "code",
   "execution_count": 260,
   "metadata": {},
   "outputs": [],
   "source": [
    "def description(index):\n",
    "    example = df[df.index == index][['desc', 'name']].values[0]\n",
    "    if len(example) > 0:\n",
    "        print(example[0])\n",
    "        print('Name:', example[1])"
   ]
  },
  {
   "cell_type": "code",
   "execution_count": 261,
   "metadata": {},
   "outputs": [
    {
     "name": "stdout",
     "output_type": "stream",
     "text": [
      "Welcome to the Crowne Plaza Seattle Airport Located across the sky bridge from Seattle Tacoma International Airport and adjacent to the train station, where the light rail train leaves every 12 minutes to downtown Seattle. Take the train to visit the Space Needle, Pike Place Market, Westlake Shopping Center, Nordstroms flag ship store, Century Link, Safeco Field, and the University of Washington.Just beyond our front doors are headquarters of Fortune 500 companies such as Boeing, Microsoft, Amazon, Apple, Google, Tableaux, Facebook and Starbucks. Seattle offers everything from professional sports to hiking up Mt. Rainier, leisure guests planning cruises from Seattle love our hotel's \"Park, Stay and Go\" package. Join us in Reflections Bar and Grill for a Pacific Northwest dining experience featuring local beers and wine with light bites.Crowne Plaza Seattle Airport has over 12,000 square feet of private event space onsite, with 7 meeting rooms, and two Ballrooms, including our 5,000 square feet Summit Ballroom with 20-feet ceilings. Our dedicated Crowne Meeting Director and banquets team will cater to your every need and ensure your event is a success. Above all, our hotel approach offers guests everything they need for a comfortable stay. From our warm and friendly staff to the full-service restaurant and lounge, Crowne Plaza Seattle Airport hotel is the friendliest and best choice around!\n",
      "Name: Crowne Plaza Seattle Airport\n"
     ]
    }
   ],
   "source": [
    "# function(index)\n",
    "description(50)"
   ]
  },
  {
   "cell_type": "code",
   "execution_count": 262,
   "metadata": {},
   "outputs": [],
   "source": [
    "# vocabulary frequency before removing stop-words \n",
    "def top_n_words(corpus, n = None):\n",
    "    vec = CountVectorizer().fit(corpus)\n",
    "    bag_of_words = vec.transform(corpus)\n",
    "    sum_words = bag_of_words.sum(axis = 0)\n",
    "    words_freq = [(word, sum_words[0, idx]) for word, idx in vec.vocabulary_.items()]\n",
    "    words_freq = sorted(words_freq, \n",
    "                        key = lambda x: x[1], \n",
    "                        reverse = True)\n",
    "    return words_freq[:n]"
   ]
  },
  {
   "cell_type": "code",
   "execution_count": 263,
   "metadata": {},
   "outputs": [
    {
     "data": {
      "application/vnd.plotly.v1+json": {
       "config": {
        "linkText": "Export to plot.ly",
        "plotlyServerURL": "https://plot.ly",
        "showLink": true
       },
       "data": [
        {
         "marker": {
          "color": "rgba(255, 153, 51, 0.6)",
          "line": {
           "color": "rgba(255, 153, 51, 1.0)",
           "width": 1
          }
         },
         "name": "count",
         "orientation": "h",
         "text": "",
         "type": "bar",
         "uid": "3a110f45-ce11-41a8-a995-58e3d987ba0d",
         "x": [
          129,
          133,
          136,
          151,
          161,
          186,
          216,
          224,
          231,
          271,
          280,
          295,
          304,
          359,
          449,
          471,
          533,
          536,
          1062,
          1258
         ],
         "y": [
          "on",
          "downtown",
          "are",
          "center",
          "or",
          "your",
          "for",
          "from",
          "at",
          "is",
          "with",
          "hotel",
          "you",
          "our",
          "in",
          "to",
          "seattle",
          "of",
          "and",
          "the"
         ]
        }
       ],
       "layout": {
        "legend": {
         "bgcolor": "#151516",
         "font": {
          "color": "#D9D9D9"
         }
        },
        "paper_bgcolor": "#151516",
        "plot_bgcolor": "#151516",
        "title": {
         "font": {
          "color": "#D9D9D9"
         },
         "text": "Top 20 word frequency before removing stop-words"
        },
        "xaxis": {
         "gridcolor": "#434343",
         "linecolor": "black",
         "showgrid": true,
         "tickfont": {
          "color": "#C2C2C2"
         },
         "title": {
          "font": {
           "color": "#D9D9D9"
          },
          "text": ""
         },
         "zerolinecolor": "#666570"
        },
        "yaxis": {
         "gridcolor": "#434343",
         "linecolor": "black",
         "showgrid": true,
         "tickfont": {
          "color": "#C2C2C2"
         },
         "title": {
          "font": {
           "color": "#D9D9D9"
          },
          "text": "count"
         },
         "zerolinecolor": "#666570"
        }
       }
      },
      "text/html": [
       "<div id=\"e97b2797-0eb5-4d1c-a38e-0e527a11a94b\" style=\"height: 525px; width: 100%;\" class=\"plotly-graph-div\"></div><script type=\"text/javascript\">require([\"plotly\"], function(Plotly) { window.PLOTLYENV=window.PLOTLYENV || {};window.PLOTLYENV.BASE_URL=\"https://plot.ly\";\n",
       "if (document.getElementById(\"e97b2797-0eb5-4d1c-a38e-0e527a11a94b\")) {\n",
       "    Plotly.newPlot(\"e97b2797-0eb5-4d1c-a38e-0e527a11a94b\", [{\"marker\": {\"color\": \"rgba(255, 153, 51, 0.6)\", \"line\": {\"color\": \"rgba(255, 153, 51, 1.0)\", \"width\": 1}}, \"name\": \"count\", \"orientation\": \"h\", \"text\": \"\", \"x\": [129, 133, 136, 151, 161, 186, 216, 224, 231, 271, 280, 295, 304, 359, 449, 471, 533, 536, 1062, 1258], \"y\": [\"on\", \"downtown\", \"are\", \"center\", \"or\", \"your\", \"for\", \"from\", \"at\", \"is\", \"with\", \"hotel\", \"you\", \"our\", \"in\", \"to\", \"seattle\", \"of\", \"and\", \"the\"], \"type\": \"bar\", \"uid\": \"ad580e4e-f6af-4815-86cc-2776a748cb2c\"}], {\"legend\": {\"bgcolor\": \"#151516\", \"font\": {\"color\": \"#D9D9D9\"}}, \"paper_bgcolor\": \"#151516\", \"plot_bgcolor\": \"#151516\", \"title\": {\"text\": \"Top 20 word frequency before removing stop-words\", \"font\": {\"color\": \"#D9D9D9\"}}, \"xaxis\": {\"gridcolor\": \"#434343\", \"linecolor\": \"black\", \"showgrid\": true, \"tickfont\": {\"color\": \"#C2C2C2\"}, \"title\": {\"text\": \"\", \"font\": {\"color\": \"#D9D9D9\"}}, \"zerolinecolor\": \"#666570\"}, \"yaxis\": {\"gridcolor\": \"#434343\", \"linecolor\": \"black\", \"showgrid\": true, \"tickfont\": {\"color\": \"#C2C2C2\"}, \"title\": {\"text\": \"count\", \"font\": {\"color\": \"#D9D9D9\"}}, \"zerolinecolor\": \"#666570\"}}, {\"showLink\": true, \"linkText\": \"Export to plot.ly\", \"plotlyServerURL\": \"https://plot.ly\"}); \n",
       "}\n",
       "});</script><script type=\"text/javascript\">window.addEventListener(\"resize\", function(){if (document.getElementById(\"e97b2797-0eb5-4d1c-a38e-0e527a11a94b\")) {window._Plotly.Plots.resize(document.getElementById(\"e97b2797-0eb5-4d1c-a38e-0e527a11a94b\"));};})</script>"
      ],
      "text/vnd.plotly.v1+html": [
       "<div id=\"e97b2797-0eb5-4d1c-a38e-0e527a11a94b\" style=\"height: 525px; width: 100%;\" class=\"plotly-graph-div\"></div><script type=\"text/javascript\">require([\"plotly\"], function(Plotly) { window.PLOTLYENV=window.PLOTLYENV || {};window.PLOTLYENV.BASE_URL=\"https://plot.ly\";\n",
       "if (document.getElementById(\"e97b2797-0eb5-4d1c-a38e-0e527a11a94b\")) {\n",
       "    Plotly.newPlot(\"e97b2797-0eb5-4d1c-a38e-0e527a11a94b\", [{\"marker\": {\"color\": \"rgba(255, 153, 51, 0.6)\", \"line\": {\"color\": \"rgba(255, 153, 51, 1.0)\", \"width\": 1}}, \"name\": \"count\", \"orientation\": \"h\", \"text\": \"\", \"x\": [129, 133, 136, 151, 161, 186, 216, 224, 231, 271, 280, 295, 304, 359, 449, 471, 533, 536, 1062, 1258], \"y\": [\"on\", \"downtown\", \"are\", \"center\", \"or\", \"your\", \"for\", \"from\", \"at\", \"is\", \"with\", \"hotel\", \"you\", \"our\", \"in\", \"to\", \"seattle\", \"of\", \"and\", \"the\"], \"type\": \"bar\", \"uid\": \"ad580e4e-f6af-4815-86cc-2776a748cb2c\"}], {\"legend\": {\"bgcolor\": \"#151516\", \"font\": {\"color\": \"#D9D9D9\"}}, \"paper_bgcolor\": \"#151516\", \"plot_bgcolor\": \"#151516\", \"title\": {\"text\": \"Top 20 word frequency before removing stop-words\", \"font\": {\"color\": \"#D9D9D9\"}}, \"xaxis\": {\"gridcolor\": \"#434343\", \"linecolor\": \"black\", \"showgrid\": true, \"tickfont\": {\"color\": \"#C2C2C2\"}, \"title\": {\"text\": \"\", \"font\": {\"color\": \"#D9D9D9\"}}, \"zerolinecolor\": \"#666570\"}, \"yaxis\": {\"gridcolor\": \"#434343\", \"linecolor\": \"black\", \"showgrid\": true, \"tickfont\": {\"color\": \"#C2C2C2\"}, \"title\": {\"text\": \"count\", \"font\": {\"color\": \"#D9D9D9\"}}, \"zerolinecolor\": \"#666570\"}}, {\"showLink\": true, \"linkText\": \"Export to plot.ly\", \"plotlyServerURL\": \"https://plot.ly\"}); \n",
       "}\n",
       "});</script><script type=\"text/javascript\">window.addEventListener(\"resize\", function(){if (document.getElementById(\"e97b2797-0eb5-4d1c-a38e-0e527a11a94b\")) {window._Plotly.Plots.resize(document.getElementById(\"e97b2797-0eb5-4d1c-a38e-0e527a11a94b\"));};})</script>"
      ]
     },
     "metadata": {},
     "output_type": "display_data"
    }
   ],
   "source": [
    "# Apply function to grab from dataframe\n",
    "top_words = top_n_words(df['desc'], 20)\n",
    "\n",
    "# Group by word count in descending order \n",
    "df1 = pd.DataFrame(top_words, columns = ['desc', 'count'])\n",
    "df1.groupby('desc').sum()['count'].sort_values().iplot(kind = 'barh',\n",
    "                                                       yTitle = 'count',\n",
    "                                                       linecolor = 'black',\n",
    "                                                       title = 'Top 20 word frequency before removing stop-words')"
   ]
  },
  {
   "cell_type": "code",
   "execution_count": 264,
   "metadata": {},
   "outputs": [],
   "source": [
    "# Vocabulary tokens after removing stop-words\n",
    "\n",
    "def top_n_words(corpus, n = None):\n",
    "    vec = CountVectorizer(stop_words = 'english').fit(corpus)\n",
    "    bag_of_words = vec.transform(corpus)\n",
    "    sum_words = bag_of_words.sum(axis = 0)\n",
    "    words_freq = [(word, sum_words[0, idx]) for word, idx in vec.vocabulary_.items()]\n",
    "    words_freq = sorted(words_freq, \n",
    "                        key = lambda x: x[1], \n",
    "                        reverse = True)\n",
    "    return words_freq[:n]"
   ]
  },
  {
   "cell_type": "code",
   "execution_count": 265,
   "metadata": {},
   "outputs": [
    {
     "data": {
      "application/vnd.plotly.v1+json": {
       "config": {
        "linkText": "Export to plot.ly",
        "plotlyServerURL": "https://plot.ly",
        "showLink": true
       },
       "data": [
        {
         "marker": {
          "color": "rgba(255, 153, 51, 0.6)",
          "line": {
           "color": "rgba(255, 153, 51, 1.0)",
           "width": 1
          }
         },
         "name": "count",
         "orientation": "h",
         "text": "",
         "type": "bar",
         "uid": "67e139c6-7397-416a-8bdb-58ca2c650db9",
         "x": [
          533,
          295,
          151,
          133,
          123,
          108,
          106,
          105,
          102,
          99,
          97,
          97,
          93,
          90,
          89,
          87,
          82,
          79,
          77,
          68
         ],
         "y": [
          "seattle",
          "hotel",
          "center",
          "downtown",
          "free",
          "located",
          "rooms",
          "stay",
          "place",
          "airport",
          "space",
          "market",
          "enjoy",
          "pike",
          "inn",
          "business",
          "just",
          "city",
          "room",
          "breakfast"
         ]
        }
       ],
       "layout": {
        "legend": {
         "bgcolor": "#151516",
         "font": {
          "color": "#D9D9D9"
         }
        },
        "paper_bgcolor": "#151516",
        "plot_bgcolor": "#151516",
        "title": {
         "font": {
          "color": "#D9D9D9"
         },
         "text": "Top 20 word frequency before removing stop-words"
        },
        "xaxis": {
         "gridcolor": "#434343",
         "linecolor": "black",
         "showgrid": true,
         "tickfont": {
          "color": "#C2C2C2"
         },
         "title": {
          "font": {
           "color": "#D9D9D9"
          },
          "text": ""
         },
         "zerolinecolor": "#666570"
        },
        "yaxis": {
         "gridcolor": "#434343",
         "linecolor": "black",
         "showgrid": true,
         "tickfont": {
          "color": "#C2C2C2"
         },
         "title": {
          "font": {
           "color": "#D9D9D9"
          },
          "text": "count"
         },
         "zerolinecolor": "#666570"
        }
       }
      },
      "text/html": [
       "<div id=\"deb4fa6a-2fec-416e-ac01-323bbd7d4cca\" style=\"height: 525px; width: 100%;\" class=\"plotly-graph-div\"></div><script type=\"text/javascript\">require([\"plotly\"], function(Plotly) { window.PLOTLYENV=window.PLOTLYENV || {};window.PLOTLYENV.BASE_URL=\"https://plot.ly\";\n",
       "if (document.getElementById(\"deb4fa6a-2fec-416e-ac01-323bbd7d4cca\")) {\n",
       "    Plotly.newPlot(\"deb4fa6a-2fec-416e-ac01-323bbd7d4cca\", [{\"marker\": {\"color\": \"rgba(255, 153, 51, 0.6)\", \"line\": {\"color\": \"rgba(255, 153, 51, 1.0)\", \"width\": 1}}, \"name\": \"count\", \"orientation\": \"h\", \"text\": \"\", \"x\": [533, 295, 151, 133, 123, 108, 106, 105, 102, 99, 97, 97, 93, 90, 89, 87, 82, 79, 77, 68], \"y\": [\"seattle\", \"hotel\", \"center\", \"downtown\", \"free\", \"located\", \"rooms\", \"stay\", \"place\", \"airport\", \"space\", \"market\", \"enjoy\", \"pike\", \"inn\", \"business\", \"just\", \"city\", \"room\", \"breakfast\"], \"type\": \"bar\", \"uid\": \"f64bb1a3-f865-42ae-8b77-b69a8c12c632\"}], {\"legend\": {\"bgcolor\": \"#151516\", \"font\": {\"color\": \"#D9D9D9\"}}, \"paper_bgcolor\": \"#151516\", \"plot_bgcolor\": \"#151516\", \"title\": {\"text\": \"Top 20 word frequency before removing stop-words\", \"font\": {\"color\": \"#D9D9D9\"}}, \"xaxis\": {\"gridcolor\": \"#434343\", \"linecolor\": \"black\", \"showgrid\": true, \"tickfont\": {\"color\": \"#C2C2C2\"}, \"title\": {\"text\": \"\", \"font\": {\"color\": \"#D9D9D9\"}}, \"zerolinecolor\": \"#666570\"}, \"yaxis\": {\"gridcolor\": \"#434343\", \"linecolor\": \"black\", \"showgrid\": true, \"tickfont\": {\"color\": \"#C2C2C2\"}, \"title\": {\"text\": \"count\", \"font\": {\"color\": \"#D9D9D9\"}}, \"zerolinecolor\": \"#666570\"}}, {\"showLink\": true, \"linkText\": \"Export to plot.ly\", \"plotlyServerURL\": \"https://plot.ly\"}); \n",
       "}\n",
       "});</script><script type=\"text/javascript\">window.addEventListener(\"resize\", function(){if (document.getElementById(\"deb4fa6a-2fec-416e-ac01-323bbd7d4cca\")) {window._Plotly.Plots.resize(document.getElementById(\"deb4fa6a-2fec-416e-ac01-323bbd7d4cca\"));};})</script>"
      ],
      "text/vnd.plotly.v1+html": [
       "<div id=\"deb4fa6a-2fec-416e-ac01-323bbd7d4cca\" style=\"height: 525px; width: 100%;\" class=\"plotly-graph-div\"></div><script type=\"text/javascript\">require([\"plotly\"], function(Plotly) { window.PLOTLYENV=window.PLOTLYENV || {};window.PLOTLYENV.BASE_URL=\"https://plot.ly\";\n",
       "if (document.getElementById(\"deb4fa6a-2fec-416e-ac01-323bbd7d4cca\")) {\n",
       "    Plotly.newPlot(\"deb4fa6a-2fec-416e-ac01-323bbd7d4cca\", [{\"marker\": {\"color\": \"rgba(255, 153, 51, 0.6)\", \"line\": {\"color\": \"rgba(255, 153, 51, 1.0)\", \"width\": 1}}, \"name\": \"count\", \"orientation\": \"h\", \"text\": \"\", \"x\": [533, 295, 151, 133, 123, 108, 106, 105, 102, 99, 97, 97, 93, 90, 89, 87, 82, 79, 77, 68], \"y\": [\"seattle\", \"hotel\", \"center\", \"downtown\", \"free\", \"located\", \"rooms\", \"stay\", \"place\", \"airport\", \"space\", \"market\", \"enjoy\", \"pike\", \"inn\", \"business\", \"just\", \"city\", \"room\", \"breakfast\"], \"type\": \"bar\", \"uid\": \"f64bb1a3-f865-42ae-8b77-b69a8c12c632\"}], {\"legend\": {\"bgcolor\": \"#151516\", \"font\": {\"color\": \"#D9D9D9\"}}, \"paper_bgcolor\": \"#151516\", \"plot_bgcolor\": \"#151516\", \"title\": {\"text\": \"Top 20 word frequency before removing stop-words\", \"font\": {\"color\": \"#D9D9D9\"}}, \"xaxis\": {\"gridcolor\": \"#434343\", \"linecolor\": \"black\", \"showgrid\": true, \"tickfont\": {\"color\": \"#C2C2C2\"}, \"title\": {\"text\": \"\", \"font\": {\"color\": \"#D9D9D9\"}}, \"zerolinecolor\": \"#666570\"}, \"yaxis\": {\"gridcolor\": \"#434343\", \"linecolor\": \"black\", \"showgrid\": true, \"tickfont\": {\"color\": \"#C2C2C2\"}, \"title\": {\"text\": \"count\", \"font\": {\"color\": \"#D9D9D9\"}}, \"zerolinecolor\": \"#666570\"}}, {\"showLink\": true, \"linkText\": \"Export to plot.ly\", \"plotlyServerURL\": \"https://plot.ly\"}); \n",
       "}\n",
       "});</script><script type=\"text/javascript\">window.addEventListener(\"resize\", function(){if (document.getElementById(\"deb4fa6a-2fec-416e-ac01-323bbd7d4cca\")) {window._Plotly.Plots.resize(document.getElementById(\"deb4fa6a-2fec-416e-ac01-323bbd7d4cca\"));};})</script>"
      ]
     },
     "metadata": {},
     "output_type": "display_data"
    }
   ],
   "source": [
    "common_words = top_n_words(df['desc'], 20)\n",
    "\n",
    "df2 = pd.DataFrame(common_words, columns = ['desc', 'count'])\n",
    "df2.groupby('desc').sum()['count'].sort_values(ascending = False).iplot(kind = 'barh',\n",
    "                                                       yTitle = 'count',\n",
    "                                                       linecolor = 'black',\n",
    "                                                       title = 'Top 20 word frequency before removing stop-words')"
   ]
  },
  {
   "cell_type": "code",
   "execution_count": 266,
   "metadata": {},
   "outputs": [],
   "source": [
    "# Bigrams freq before removing stop-words \n",
    "def top_n_bigrams(corpus, n = None):\n",
    "    vec = CountVectorizer(ngram_range = (2, 2)).fit(corpus)\n",
    "    bag_of_words = vec.transform(corpus)\n",
    "    sum_words = bag_of_words.sum(axis = 0)\n",
    "    words_freq = [(word, sum_words[0, idx]) for word, idx in vec.vocabulary_.items()]\n",
    "    words_freq = sorted(words_freq, \n",
    "                        key = lambda x: x[1], \n",
    "                        reverse = True)\n",
    "    return words_freq[:n]"
   ]
  },
  {
   "cell_type": "code",
   "execution_count": 267,
   "metadata": {},
   "outputs": [],
   "source": [
    "common_bigrams = top_n_bigrams(df['desc'], 20)\n",
    "df3 = pd.DataFrame(common_bigrams, columns = ['desc', 'count'])"
   ]
  },
  {
   "cell_type": "code",
   "execution_count": 268,
   "metadata": {},
   "outputs": [
    {
     "data": {
      "text/html": [
       "<div>\n",
       "<style scoped>\n",
       "    .dataframe tbody tr th:only-of-type {\n",
       "        vertical-align: middle;\n",
       "    }\n",
       "\n",
       "    .dataframe tbody tr th {\n",
       "        vertical-align: top;\n",
       "    }\n",
       "\n",
       "    .dataframe thead th {\n",
       "        text-align: right;\n",
       "    }\n",
       "</style>\n",
       "<table border=\"1\" class=\"dataframe\">\n",
       "  <thead>\n",
       "    <tr style=\"text-align: right;\">\n",
       "      <th></th>\n",
       "      <th>desc</th>\n",
       "      <th>count</th>\n",
       "    </tr>\n",
       "  </thead>\n",
       "  <tbody>\n",
       "    <tr>\n",
       "      <th>0</th>\n",
       "      <td>in the</td>\n",
       "      <td>147</td>\n",
       "    </tr>\n",
       "    <tr>\n",
       "      <th>1</th>\n",
       "      <td>of the</td>\n",
       "      <td>133</td>\n",
       "    </tr>\n",
       "    <tr>\n",
       "      <th>2</th>\n",
       "      <td>pike place</td>\n",
       "      <td>86</td>\n",
       "    </tr>\n",
       "    <tr>\n",
       "      <th>3</th>\n",
       "      <td>place market</td>\n",
       "      <td>85</td>\n",
       "    </tr>\n",
       "    <tr>\n",
       "      <th>4</th>\n",
       "      <td>to the</td>\n",
       "      <td>81</td>\n",
       "    </tr>\n",
       "  </tbody>\n",
       "</table>\n",
       "</div>"
      ],
      "text/plain": [
       "           desc  count\n",
       "0        in the    147\n",
       "1        of the    133\n",
       "2    pike place     86\n",
       "3  place market     85\n",
       "4        to the     81"
      ]
     },
     "execution_count": 268,
     "metadata": {},
     "output_type": "execute_result"
    }
   ],
   "source": [
    "df3.head()"
   ]
  },
  {
   "cell_type": "code",
   "execution_count": 269,
   "metadata": {},
   "outputs": [
    {
     "data": {
      "application/vnd.plotly.v1+json": {
       "config": {
        "linkText": "Export to plot.ly",
        "plotlyServerURL": "https://plot.ly",
        "showLink": true
       },
       "data": [
        {
         "marker": {
          "color": "rgba(255, 153, 51, 0.6)",
          "line": {
           "color": "rgba(255, 153, 51, 1.0)",
           "width": 1
          }
         },
         "name": "count",
         "orientation": "v",
         "text": "",
         "type": "bar",
         "uid": "f0764edc-5939-442f-b590-2e405e5574c5",
         "x": [
          "the space",
          "you ll",
          "one of",
          "of seattle",
          "the city",
          "of our",
          "hotel is",
          "our hotel",
          "the seattle",
          "in seattle",
          "at the",
          "space needle",
          "and the",
          "from the",
          "downtown seattle",
          "to the",
          "place market",
          "pike place",
          "of the",
          "in the"
         ],
         "y": [
          40,
          41,
          42,
          44,
          45,
          45,
          49,
          54,
          57,
          60,
          67,
          68,
          72,
          79,
          79,
          81,
          85,
          86,
          133,
          147
         ]
        }
       ],
       "layout": {
        "legend": {
         "bgcolor": "#151516",
         "font": {
          "color": "#D9D9D9"
         }
        },
        "paper_bgcolor": "#151516",
        "plot_bgcolor": "#151516",
        "title": {
         "font": {
          "color": "#D9D9D9"
         },
         "text": "Top bigrams before removing stop-words"
        },
        "xaxis": {
         "gridcolor": "#434343",
         "linecolor": "black",
         "showgrid": true,
         "tickfont": {
          "color": "#C2C2C2"
         },
         "title": {
          "font": {
           "color": "#D9D9D9"
          },
          "text": ""
         },
         "zerolinecolor": "#666570"
        },
        "yaxis": {
         "gridcolor": "#434343",
         "linecolor": "black",
         "showgrid": true,
         "tickfont": {
          "color": "#C2C2C2"
         },
         "title": {
          "font": {
           "color": "#D9D9D9"
          },
          "text": "count"
         },
         "zerolinecolor": "#666570"
        }
       }
      },
      "text/html": [
       "<div id=\"846ed733-7bab-4d30-8d63-cbdd574e393c\" style=\"height: 525px; width: 100%;\" class=\"plotly-graph-div\"></div><script type=\"text/javascript\">require([\"plotly\"], function(Plotly) { window.PLOTLYENV=window.PLOTLYENV || {};window.PLOTLYENV.BASE_URL=\"https://plot.ly\";\n",
       "if (document.getElementById(\"846ed733-7bab-4d30-8d63-cbdd574e393c\")) {\n",
       "    Plotly.newPlot(\"846ed733-7bab-4d30-8d63-cbdd574e393c\", [{\"marker\": {\"color\": \"rgba(255, 153, 51, 0.6)\", \"line\": {\"color\": \"rgba(255, 153, 51, 1.0)\", \"width\": 1}}, \"name\": \"count\", \"orientation\": \"v\", \"text\": \"\", \"x\": [\"the space\", \"you ll\", \"one of\", \"of seattle\", \"the city\", \"of our\", \"hotel is\", \"our hotel\", \"the seattle\", \"in seattle\", \"at the\", \"space needle\", \"and the\", \"from the\", \"downtown seattle\", \"to the\", \"place market\", \"pike place\", \"of the\", \"in the\"], \"y\": [40, 41, 42, 44, 45, 45, 49, 54, 57, 60, 67, 68, 72, 79, 79, 81, 85, 86, 133, 147], \"type\": \"bar\", \"uid\": \"42f81a34-944f-419d-b361-6220560c9a7f\"}], {\"legend\": {\"bgcolor\": \"#151516\", \"font\": {\"color\": \"#D9D9D9\"}}, \"paper_bgcolor\": \"#151516\", \"plot_bgcolor\": \"#151516\", \"title\": {\"text\": \"Top bigrams before removing stop-words\", \"font\": {\"color\": \"#D9D9D9\"}}, \"xaxis\": {\"gridcolor\": \"#434343\", \"linecolor\": \"black\", \"showgrid\": true, \"tickfont\": {\"color\": \"#C2C2C2\"}, \"title\": {\"text\": \"\", \"font\": {\"color\": \"#D9D9D9\"}}, \"zerolinecolor\": \"#666570\"}, \"yaxis\": {\"gridcolor\": \"#434343\", \"linecolor\": \"black\", \"showgrid\": true, \"tickfont\": {\"color\": \"#C2C2C2\"}, \"title\": {\"text\": \"count\", \"font\": {\"color\": \"#D9D9D9\"}}, \"zerolinecolor\": \"#666570\"}}, {\"showLink\": true, \"linkText\": \"Export to plot.ly\", \"plotlyServerURL\": \"https://plot.ly\"}); \n",
       "}\n",
       "});</script><script type=\"text/javascript\">window.addEventListener(\"resize\", function(){if (document.getElementById(\"846ed733-7bab-4d30-8d63-cbdd574e393c\")) {window._Plotly.Plots.resize(document.getElementById(\"846ed733-7bab-4d30-8d63-cbdd574e393c\"));};})</script>"
      ],
      "text/vnd.plotly.v1+html": [
       "<div id=\"846ed733-7bab-4d30-8d63-cbdd574e393c\" style=\"height: 525px; width: 100%;\" class=\"plotly-graph-div\"></div><script type=\"text/javascript\">require([\"plotly\"], function(Plotly) { window.PLOTLYENV=window.PLOTLYENV || {};window.PLOTLYENV.BASE_URL=\"https://plot.ly\";\n",
       "if (document.getElementById(\"846ed733-7bab-4d30-8d63-cbdd574e393c\")) {\n",
       "    Plotly.newPlot(\"846ed733-7bab-4d30-8d63-cbdd574e393c\", [{\"marker\": {\"color\": \"rgba(255, 153, 51, 0.6)\", \"line\": {\"color\": \"rgba(255, 153, 51, 1.0)\", \"width\": 1}}, \"name\": \"count\", \"orientation\": \"v\", \"text\": \"\", \"x\": [\"the space\", \"you ll\", \"one of\", \"of seattle\", \"the city\", \"of our\", \"hotel is\", \"our hotel\", \"the seattle\", \"in seattle\", \"at the\", \"space needle\", \"and the\", \"from the\", \"downtown seattle\", \"to the\", \"place market\", \"pike place\", \"of the\", \"in the\"], \"y\": [40, 41, 42, 44, 45, 45, 49, 54, 57, 60, 67, 68, 72, 79, 79, 81, 85, 86, 133, 147], \"type\": \"bar\", \"uid\": \"42f81a34-944f-419d-b361-6220560c9a7f\"}], {\"legend\": {\"bgcolor\": \"#151516\", \"font\": {\"color\": \"#D9D9D9\"}}, \"paper_bgcolor\": \"#151516\", \"plot_bgcolor\": \"#151516\", \"title\": {\"text\": \"Top bigrams before removing stop-words\", \"font\": {\"color\": \"#D9D9D9\"}}, \"xaxis\": {\"gridcolor\": \"#434343\", \"linecolor\": \"black\", \"showgrid\": true, \"tickfont\": {\"color\": \"#C2C2C2\"}, \"title\": {\"text\": \"\", \"font\": {\"color\": \"#D9D9D9\"}}, \"zerolinecolor\": \"#666570\"}, \"yaxis\": {\"gridcolor\": \"#434343\", \"linecolor\": \"black\", \"showgrid\": true, \"tickfont\": {\"color\": \"#C2C2C2\"}, \"title\": {\"text\": \"count\", \"font\": {\"color\": \"#D9D9D9\"}}, \"zerolinecolor\": \"#666570\"}}, {\"showLink\": true, \"linkText\": \"Export to plot.ly\", \"plotlyServerURL\": \"https://plot.ly\"}); \n",
       "}\n",
       "});</script><script type=\"text/javascript\">window.addEventListener(\"resize\", function(){if (document.getElementById(\"846ed733-7bab-4d30-8d63-cbdd574e393c\")) {window._Plotly.Plots.resize(document.getElementById(\"846ed733-7bab-4d30-8d63-cbdd574e393c\"));};})</script>"
      ]
     },
     "metadata": {},
     "output_type": "display_data"
    }
   ],
   "source": [
    "df3.groupby('desc').sum()['count'].sort_values().iplot(kind = 'bar',\n",
    "                                                       yTitle = 'count',\n",
    "                                                       linecolor = 'black',\n",
    "                                                       title = 'Top bigrams before removing stop-words')"
   ]
  },
  {
   "cell_type": "code",
   "execution_count": 270,
   "metadata": {},
   "outputs": [],
   "source": [
    "# Bigram frequneyc after removing stop-words\n",
    "def top_n_bigrams(corpus, n = None):\n",
    "    vec = CountVectorizer(ngram_range = (2, 2), \n",
    "                         stop_words = 'english').fit(corpus)\n",
    "    bag_of_words = vec.transform(corpus)\n",
    "    sum_words = bag_of_words.sum(axis = 0)\n",
    "    words_freq = [(word, sum_words[0, idx]) for word, idx in vec.vocabulary_.items()]\n",
    "    words_freq = sorted(words_freq, \n",
    "                        key = lambda x: x[1], \n",
    "                        reverse = True)\n",
    "    return words_freq[:n]"
   ]
  },
  {
   "cell_type": "code",
   "execution_count": 271,
   "metadata": {},
   "outputs": [
    {
     "data": {
      "application/vnd.plotly.v1+json": {
       "config": {
        "linkText": "Export to plot.ly",
        "plotlyServerURL": "https://plot.ly",
        "showLink": true
       },
       "data": [
        {
         "marker": {
          "color": "rgba(255, 153, 51, 0.6)",
          "line": {
           "color": "rgba(255, 153, 51, 1.0)",
           "width": 1
          }
         },
         "name": "count",
         "orientation": "v",
         "text": "",
         "type": "bar",
         "uid": "53f21269-0c0b-42f9-8865-a57127565d0f",
         "x": [
          "convention center",
          "seattle center",
          "university washington",
          "seattle tacoma",
          "high speed",
          "seattle airport",
          "business center",
          "international airport",
          "24 hour",
          "lake union",
          "hotel seattle",
          "fitness center",
          "pacific northwest",
          "seattle hotel",
          "guest rooms",
          "wi fi",
          "space needle",
          "downtown seattle",
          "place market",
          "pike place"
         ],
         "y": [
          21,
          24,
          24,
          25,
          25,
          26,
          27,
          27,
          28,
          30,
          30,
          32,
          33,
          33,
          34,
          37,
          68,
          80,
          85,
          86
         ]
        }
       ],
       "layout": {
        "legend": {
         "bgcolor": "#151516",
         "font": {
          "color": "#D9D9D9"
         }
        },
        "paper_bgcolor": "#151516",
        "plot_bgcolor": "#151516",
        "title": {
         "font": {
          "color": "#D9D9D9"
         },
         "text": "Top bigrams after removing stop-words"
        },
        "xaxis": {
         "gridcolor": "#434343",
         "linecolor": "black",
         "showgrid": true,
         "tickfont": {
          "color": "#C2C2C2"
         },
         "title": {
          "font": {
           "color": "#D9D9D9"
          },
          "text": ""
         },
         "zerolinecolor": "#666570"
        },
        "yaxis": {
         "gridcolor": "#434343",
         "linecolor": "black",
         "showgrid": true,
         "tickfont": {
          "color": "#C2C2C2"
         },
         "title": {
          "font": {
           "color": "#D9D9D9"
          },
          "text": "count"
         },
         "zerolinecolor": "#666570"
        }
       }
      },
      "text/html": [
       "<div id=\"4948cc69-4b69-4857-ba70-9446de0358aa\" style=\"height: 525px; width: 100%;\" class=\"plotly-graph-div\"></div><script type=\"text/javascript\">require([\"plotly\"], function(Plotly) { window.PLOTLYENV=window.PLOTLYENV || {};window.PLOTLYENV.BASE_URL=\"https://plot.ly\";\n",
       "if (document.getElementById(\"4948cc69-4b69-4857-ba70-9446de0358aa\")) {\n",
       "    Plotly.newPlot(\"4948cc69-4b69-4857-ba70-9446de0358aa\", [{\"marker\": {\"color\": \"rgba(255, 153, 51, 0.6)\", \"line\": {\"color\": \"rgba(255, 153, 51, 1.0)\", \"width\": 1}}, \"name\": \"count\", \"orientation\": \"v\", \"text\": \"\", \"x\": [\"convention center\", \"seattle center\", \"university washington\", \"seattle tacoma\", \"high speed\", \"seattle airport\", \"business center\", \"international airport\", \"24 hour\", \"lake union\", \"hotel seattle\", \"fitness center\", \"pacific northwest\", \"seattle hotel\", \"guest rooms\", \"wi fi\", \"space needle\", \"downtown seattle\", \"place market\", \"pike place\"], \"y\": [21, 24, 24, 25, 25, 26, 27, 27, 28, 30, 30, 32, 33, 33, 34, 37, 68, 80, 85, 86], \"type\": \"bar\", \"uid\": \"65939fca-ee46-4318-b2dc-9c6eaf92d1b0\"}], {\"legend\": {\"bgcolor\": \"#151516\", \"font\": {\"color\": \"#D9D9D9\"}}, \"paper_bgcolor\": \"#151516\", \"plot_bgcolor\": \"#151516\", \"title\": {\"text\": \"Top bigrams after removing stop-words\", \"font\": {\"color\": \"#D9D9D9\"}}, \"xaxis\": {\"gridcolor\": \"#434343\", \"linecolor\": \"black\", \"showgrid\": true, \"tickfont\": {\"color\": \"#C2C2C2\"}, \"title\": {\"text\": \"\", \"font\": {\"color\": \"#D9D9D9\"}}, \"zerolinecolor\": \"#666570\"}, \"yaxis\": {\"gridcolor\": \"#434343\", \"linecolor\": \"black\", \"showgrid\": true, \"tickfont\": {\"color\": \"#C2C2C2\"}, \"title\": {\"text\": \"count\", \"font\": {\"color\": \"#D9D9D9\"}}, \"zerolinecolor\": \"#666570\"}}, {\"showLink\": true, \"linkText\": \"Export to plot.ly\", \"plotlyServerURL\": \"https://plot.ly\"}); \n",
       "}\n",
       "});</script><script type=\"text/javascript\">window.addEventListener(\"resize\", function(){if (document.getElementById(\"4948cc69-4b69-4857-ba70-9446de0358aa\")) {window._Plotly.Plots.resize(document.getElementById(\"4948cc69-4b69-4857-ba70-9446de0358aa\"));};})</script>"
      ],
      "text/vnd.plotly.v1+html": [
       "<div id=\"4948cc69-4b69-4857-ba70-9446de0358aa\" style=\"height: 525px; width: 100%;\" class=\"plotly-graph-div\"></div><script type=\"text/javascript\">require([\"plotly\"], function(Plotly) { window.PLOTLYENV=window.PLOTLYENV || {};window.PLOTLYENV.BASE_URL=\"https://plot.ly\";\n",
       "if (document.getElementById(\"4948cc69-4b69-4857-ba70-9446de0358aa\")) {\n",
       "    Plotly.newPlot(\"4948cc69-4b69-4857-ba70-9446de0358aa\", [{\"marker\": {\"color\": \"rgba(255, 153, 51, 0.6)\", \"line\": {\"color\": \"rgba(255, 153, 51, 1.0)\", \"width\": 1}}, \"name\": \"count\", \"orientation\": \"v\", \"text\": \"\", \"x\": [\"convention center\", \"seattle center\", \"university washington\", \"seattle tacoma\", \"high speed\", \"seattle airport\", \"business center\", \"international airport\", \"24 hour\", \"lake union\", \"hotel seattle\", \"fitness center\", \"pacific northwest\", \"seattle hotel\", \"guest rooms\", \"wi fi\", \"space needle\", \"downtown seattle\", \"place market\", \"pike place\"], \"y\": [21, 24, 24, 25, 25, 26, 27, 27, 28, 30, 30, 32, 33, 33, 34, 37, 68, 80, 85, 86], \"type\": \"bar\", \"uid\": \"65939fca-ee46-4318-b2dc-9c6eaf92d1b0\"}], {\"legend\": {\"bgcolor\": \"#151516\", \"font\": {\"color\": \"#D9D9D9\"}}, \"paper_bgcolor\": \"#151516\", \"plot_bgcolor\": \"#151516\", \"title\": {\"text\": \"Top bigrams after removing stop-words\", \"font\": {\"color\": \"#D9D9D9\"}}, \"xaxis\": {\"gridcolor\": \"#434343\", \"linecolor\": \"black\", \"showgrid\": true, \"tickfont\": {\"color\": \"#C2C2C2\"}, \"title\": {\"text\": \"\", \"font\": {\"color\": \"#D9D9D9\"}}, \"zerolinecolor\": \"#666570\"}, \"yaxis\": {\"gridcolor\": \"#434343\", \"linecolor\": \"black\", \"showgrid\": true, \"tickfont\": {\"color\": \"#C2C2C2\"}, \"title\": {\"text\": \"count\", \"font\": {\"color\": \"#D9D9D9\"}}, \"zerolinecolor\": \"#666570\"}}, {\"showLink\": true, \"linkText\": \"Export to plot.ly\", \"plotlyServerURL\": \"https://plot.ly\"}); \n",
       "}\n",
       "});</script><script type=\"text/javascript\">window.addEventListener(\"resize\", function(){if (document.getElementById(\"4948cc69-4b69-4857-ba70-9446de0358aa\")) {window._Plotly.Plots.resize(document.getElementById(\"4948cc69-4b69-4857-ba70-9446de0358aa\"));};})</script>"
      ]
     },
     "metadata": {},
     "output_type": "display_data"
    }
   ],
   "source": [
    "top_bigrams = top_n_bigrams(df['desc'], 20)\n",
    "df4 = pd.DataFrame(top_bigrams, columns = ['desc', 'count'])\n",
    "\n",
    "df4.groupby('desc').sum()['count'].sort_values().iplot(kind = 'bar',\n",
    "                                                                        yTitle = 'count',\n",
    "                                                                        linecolor = 'black',\n",
    "                                                                        title = 'Top bigrams after removing stop-words')"
   ]
  },
  {
   "cell_type": "code",
   "execution_count": 272,
   "metadata": {},
   "outputs": [],
   "source": [
    "# Trigram freq before removing stop words \n",
    "\n",
    "def top_n_trigrams(corpus, n = None):\n",
    "    vec = CountVectorizer(ngram_range = (3, 3)).fit(corpus)\n",
    "    bag_of_words = vec.transform(corpus)\n",
    "    sum_of_words = bag_of_words.sum(axis = 0)\n",
    "    words_freq = [(word, sum_of_words[0, idx]) for word, \n",
    "                  idx in vec.vocabulary_.items()]\n",
    "    words_freq = sorted(words_freq, \n",
    "                        key = lambda x: x[1], \n",
    "                        reverse = True)\n",
    "    return words_freq[:n]"
   ]
  },
  {
   "cell_type": "code",
   "execution_count": 273,
   "metadata": {},
   "outputs": [],
   "source": [
    "top_trigrams = top_n_trigrams(df['desc'], 20)\n",
    "\n",
    "df5 = pd.DataFrame(top_trigrams, columns = ['desc', 'count'])"
   ]
  },
  {
   "cell_type": "code",
   "execution_count": 274,
   "metadata": {},
   "outputs": [
    {
     "data": {
      "text/html": [
       "<div>\n",
       "<style scoped>\n",
       "    .dataframe tbody tr th:only-of-type {\n",
       "        vertical-align: middle;\n",
       "    }\n",
       "\n",
       "    .dataframe tbody tr th {\n",
       "        vertical-align: top;\n",
       "    }\n",
       "\n",
       "    .dataframe thead th {\n",
       "        text-align: right;\n",
       "    }\n",
       "</style>\n",
       "<table border=\"1\" class=\"dataframe\">\n",
       "  <thead>\n",
       "    <tr style=\"text-align: right;\">\n",
       "      <th></th>\n",
       "      <th>desc</th>\n",
       "      <th>count</th>\n",
       "    </tr>\n",
       "  </thead>\n",
       "  <tbody>\n",
       "    <tr>\n",
       "      <th>0</th>\n",
       "      <td>pike place market</td>\n",
       "      <td>85</td>\n",
       "    </tr>\n",
       "    <tr>\n",
       "      <th>1</th>\n",
       "      <td>the space needle</td>\n",
       "      <td>39</td>\n",
       "    </tr>\n",
       "    <tr>\n",
       "      <th>2</th>\n",
       "      <td>the heart of</td>\n",
       "      <td>33</td>\n",
       "    </tr>\n",
       "    <tr>\n",
       "      <th>3</th>\n",
       "      <td>in the heart</td>\n",
       "      <td>28</td>\n",
       "    </tr>\n",
       "    <tr>\n",
       "      <th>4</th>\n",
       "      <td>located in the</td>\n",
       "      <td>26</td>\n",
       "    </tr>\n",
       "  </tbody>\n",
       "</table>\n",
       "</div>"
      ],
      "text/plain": [
       "                desc  count\n",
       "0  pike place market     85\n",
       "1   the space needle     39\n",
       "2       the heart of     33\n",
       "3       in the heart     28\n",
       "4     located in the     26"
      ]
     },
     "execution_count": 274,
     "metadata": {},
     "output_type": "execute_result"
    }
   ],
   "source": [
    "df5.head()"
   ]
  },
  {
   "cell_type": "code",
   "execution_count": 275,
   "metadata": {},
   "outputs": [
    {
     "data": {
      "application/vnd.plotly.v1+json": {
       "config": {
        "linkText": "Export to plot.ly",
        "plotlyServerURL": "https://plot.ly",
        "showLink": true
       },
       "data": [
        {
         "marker": {
          "color": "rgba(255, 153, 51, 0.6)",
          "line": {
           "color": "rgba(255, 153, 51, 1.0)",
           "width": 1
          }
         },
         "name": "count",
         "orientation": "v",
         "text": "",
         "type": "bar",
         "uid": "8f181795-028f-41c4-8901-92204f8df7a7",
         "x": [
          "hotel in seattle",
          "state convention center",
          "seattle art museum",
          "of downtown seattle",
          "our hotel is",
          "washington state convention",
          "of the city",
          "free wi fi",
          "easy access to",
          "seattle tacoma international",
          "tacoma international airport",
          "one of the",
          "university of washington",
          "the pacific northwest",
          "place market and",
          "located in the",
          "in the heart",
          "the heart of",
          "the space needle",
          "pike place market"
         ],
         "y": [
          15,
          15,
          16,
          16,
          16,
          17,
          17,
          19,
          20,
          21,
          21,
          22,
          23,
          23,
          24,
          26,
          28,
          33,
          39,
          85
         ]
        }
       ],
       "layout": {
        "legend": {
         "bgcolor": "#151516",
         "font": {
          "color": "#D9D9D9"
         }
        },
        "paper_bgcolor": "#151516",
        "plot_bgcolor": "#151516",
        "title": {
         "font": {
          "color": "#D9D9D9"
         },
         "text": "Top trigrams before removing stop-words"
        },
        "xaxis": {
         "gridcolor": "#434343",
         "linecolor": "black",
         "showgrid": true,
         "tickfont": {
          "color": "#C2C2C2"
         },
         "title": {
          "font": {
           "color": "#D9D9D9"
          },
          "text": ""
         },
         "zerolinecolor": "#666570"
        },
        "yaxis": {
         "gridcolor": "#434343",
         "linecolor": "black",
         "showgrid": true,
         "tickfont": {
          "color": "#C2C2C2"
         },
         "title": {
          "font": {
           "color": "#D9D9D9"
          },
          "text": ""
         },
         "zerolinecolor": "#666570"
        }
       }
      },
      "text/html": [
       "<div id=\"ed1175bd-6ee1-4483-ac78-a9fbf61caa0f\" style=\"height: 525px; width: 100%;\" class=\"plotly-graph-div\"></div><script type=\"text/javascript\">require([\"plotly\"], function(Plotly) { window.PLOTLYENV=window.PLOTLYENV || {};window.PLOTLYENV.BASE_URL=\"https://plot.ly\";\n",
       "if (document.getElementById(\"ed1175bd-6ee1-4483-ac78-a9fbf61caa0f\")) {\n",
       "    Plotly.newPlot(\"ed1175bd-6ee1-4483-ac78-a9fbf61caa0f\", [{\"marker\": {\"color\": \"rgba(255, 153, 51, 0.6)\", \"line\": {\"color\": \"rgba(255, 153, 51, 1.0)\", \"width\": 1}}, \"name\": \"count\", \"orientation\": \"v\", \"text\": \"\", \"x\": [\"hotel in seattle\", \"state convention center\", \"seattle art museum\", \"of downtown seattle\", \"our hotel is\", \"washington state convention\", \"of the city\", \"free wi fi\", \"easy access to\", \"seattle tacoma international\", \"tacoma international airport\", \"one of the\", \"university of washington\", \"the pacific northwest\", \"place market and\", \"located in the\", \"in the heart\", \"the heart of\", \"the space needle\", \"pike place market\"], \"y\": [15, 15, 16, 16, 16, 17, 17, 19, 20, 21, 21, 22, 23, 23, 24, 26, 28, 33, 39, 85], \"type\": \"bar\", \"uid\": \"edcc17b2-0c07-43f6-b970-e1ca8bf71453\"}], {\"legend\": {\"bgcolor\": \"#151516\", \"font\": {\"color\": \"#D9D9D9\"}}, \"paper_bgcolor\": \"#151516\", \"plot_bgcolor\": \"#151516\", \"title\": {\"text\": \"Top trigrams before removing stop-words\", \"font\": {\"color\": \"#D9D9D9\"}}, \"xaxis\": {\"gridcolor\": \"#434343\", \"linecolor\": \"black\", \"showgrid\": true, \"tickfont\": {\"color\": \"#C2C2C2\"}, \"title\": {\"text\": \"\", \"font\": {\"color\": \"#D9D9D9\"}}, \"zerolinecolor\": \"#666570\"}, \"yaxis\": {\"gridcolor\": \"#434343\", \"linecolor\": \"black\", \"showgrid\": true, \"tickfont\": {\"color\": \"#C2C2C2\"}, \"title\": {\"text\": \"\", \"font\": {\"color\": \"#D9D9D9\"}}, \"zerolinecolor\": \"#666570\"}}, {\"showLink\": true, \"linkText\": \"Export to plot.ly\", \"plotlyServerURL\": \"https://plot.ly\"}); \n",
       "}\n",
       "});</script><script type=\"text/javascript\">window.addEventListener(\"resize\", function(){if (document.getElementById(\"ed1175bd-6ee1-4483-ac78-a9fbf61caa0f\")) {window._Plotly.Plots.resize(document.getElementById(\"ed1175bd-6ee1-4483-ac78-a9fbf61caa0f\"));};})</script>"
      ],
      "text/vnd.plotly.v1+html": [
       "<div id=\"ed1175bd-6ee1-4483-ac78-a9fbf61caa0f\" style=\"height: 525px; width: 100%;\" class=\"plotly-graph-div\"></div><script type=\"text/javascript\">require([\"plotly\"], function(Plotly) { window.PLOTLYENV=window.PLOTLYENV || {};window.PLOTLYENV.BASE_URL=\"https://plot.ly\";\n",
       "if (document.getElementById(\"ed1175bd-6ee1-4483-ac78-a9fbf61caa0f\")) {\n",
       "    Plotly.newPlot(\"ed1175bd-6ee1-4483-ac78-a9fbf61caa0f\", [{\"marker\": {\"color\": \"rgba(255, 153, 51, 0.6)\", \"line\": {\"color\": \"rgba(255, 153, 51, 1.0)\", \"width\": 1}}, \"name\": \"count\", \"orientation\": \"v\", \"text\": \"\", \"x\": [\"hotel in seattle\", \"state convention center\", \"seattle art museum\", \"of downtown seattle\", \"our hotel is\", \"washington state convention\", \"of the city\", \"free wi fi\", \"easy access to\", \"seattle tacoma international\", \"tacoma international airport\", \"one of the\", \"university of washington\", \"the pacific northwest\", \"place market and\", \"located in the\", \"in the heart\", \"the heart of\", \"the space needle\", \"pike place market\"], \"y\": [15, 15, 16, 16, 16, 17, 17, 19, 20, 21, 21, 22, 23, 23, 24, 26, 28, 33, 39, 85], \"type\": \"bar\", \"uid\": \"edcc17b2-0c07-43f6-b970-e1ca8bf71453\"}], {\"legend\": {\"bgcolor\": \"#151516\", \"font\": {\"color\": \"#D9D9D9\"}}, \"paper_bgcolor\": \"#151516\", \"plot_bgcolor\": \"#151516\", \"title\": {\"text\": \"Top trigrams before removing stop-words\", \"font\": {\"color\": \"#D9D9D9\"}}, \"xaxis\": {\"gridcolor\": \"#434343\", \"linecolor\": \"black\", \"showgrid\": true, \"tickfont\": {\"color\": \"#C2C2C2\"}, \"title\": {\"text\": \"\", \"font\": {\"color\": \"#D9D9D9\"}}, \"zerolinecolor\": \"#666570\"}, \"yaxis\": {\"gridcolor\": \"#434343\", \"linecolor\": \"black\", \"showgrid\": true, \"tickfont\": {\"color\": \"#C2C2C2\"}, \"title\": {\"text\": \"\", \"font\": {\"color\": \"#D9D9D9\"}}, \"zerolinecolor\": \"#666570\"}}, {\"showLink\": true, \"linkText\": \"Export to plot.ly\", \"plotlyServerURL\": \"https://plot.ly\"}); \n",
       "}\n",
       "});</script><script type=\"text/javascript\">window.addEventListener(\"resize\", function(){if (document.getElementById(\"ed1175bd-6ee1-4483-ac78-a9fbf61caa0f\")) {window._Plotly.Plots.resize(document.getElementById(\"ed1175bd-6ee1-4483-ac78-a9fbf61caa0f\"));};})</script>"
      ]
     },
     "metadata": {},
     "output_type": "display_data"
    }
   ],
   "source": [
    "df5.groupby('desc').sum()['count'].sort_values().iplot(kind = 'bar', \n",
    "                                                       linecolor = 'black',\n",
    "                                                       title = 'Top trigrams before removing stop-words')"
   ]
  },
  {
   "cell_type": "code",
   "execution_count": 276,
   "metadata": {},
   "outputs": [],
   "source": [
    "# Top trigrams after removing stopwords \n",
    "\n",
    "def top_n_trigrams(corpus, n = None):\n",
    "    vec = CountVectorizer(ngram_range = (3, 3), \n",
    "                          stop_words = 'english').fit(corpus)\n",
    "    bag_of_words = vec.transform(corpus)\n",
    "    sum_of_words = bag_of_words.sum(axis = 0)\n",
    "    words_freq = [(word, sum_of_words[0, idx]) for word, \n",
    "                  idx in vec.vocabulary_.items()]\n",
    "    words_freq = sorted(words_freq,\n",
    "                        key = lambda x: x[1], \n",
    "                        reverse = True)\n",
    "    return words_freq[:n]"
   ]
  },
  {
   "cell_type": "code",
   "execution_count": 277,
   "metadata": {},
   "outputs": [
    {
     "data": {
      "text/html": [
       "<div>\n",
       "<style scoped>\n",
       "    .dataframe tbody tr th:only-of-type {\n",
       "        vertical-align: middle;\n",
       "    }\n",
       "\n",
       "    .dataframe tbody tr th {\n",
       "        vertical-align: top;\n",
       "    }\n",
       "\n",
       "    .dataframe thead th {\n",
       "        text-align: right;\n",
       "    }\n",
       "</style>\n",
       "<table border=\"1\" class=\"dataframe\">\n",
       "  <thead>\n",
       "    <tr style=\"text-align: right;\">\n",
       "      <th></th>\n",
       "      <th>desc</th>\n",
       "      <th>count</th>\n",
       "    </tr>\n",
       "  </thead>\n",
       "  <tbody>\n",
       "    <tr>\n",
       "      <th>0</th>\n",
       "      <td>pike place market</td>\n",
       "      <td>85</td>\n",
       "    </tr>\n",
       "    <tr>\n",
       "      <th>1</th>\n",
       "      <td>seattle tacoma international</td>\n",
       "      <td>21</td>\n",
       "    </tr>\n",
       "    <tr>\n",
       "      <th>2</th>\n",
       "      <td>tacoma international airport</td>\n",
       "      <td>21</td>\n",
       "    </tr>\n",
       "    <tr>\n",
       "      <th>3</th>\n",
       "      <td>free wi fi</td>\n",
       "      <td>19</td>\n",
       "    </tr>\n",
       "    <tr>\n",
       "      <th>4</th>\n",
       "      <td>washington state convention</td>\n",
       "      <td>17</td>\n",
       "    </tr>\n",
       "  </tbody>\n",
       "</table>\n",
       "</div>"
      ],
      "text/plain": [
       "                           desc  count\n",
       "0             pike place market     85\n",
       "1  seattle tacoma international     21\n",
       "2  tacoma international airport     21\n",
       "3                    free wi fi     19\n",
       "4   washington state convention     17"
      ]
     },
     "execution_count": 277,
     "metadata": {},
     "output_type": "execute_result"
    }
   ],
   "source": [
    "top_trigrams = top_n_trigrams(df['desc'], 20)\n",
    "\n",
    "df6 = pd.DataFrame(top_trigrams, columns = ['desc', 'count'])\n",
    "\n",
    "df6.head()"
   ]
  },
  {
   "cell_type": "code",
   "execution_count": 278,
   "metadata": {},
   "outputs": [
    {
     "data": {
      "application/vnd.plotly.v1+json": {
       "config": {
        "linkText": "Export to plot.ly",
        "plotlyServerURL": "https://plot.ly",
        "showLink": true
       },
       "data": [
        {
         "marker": {
          "color": "rgba(255, 153, 51, 0.6)",
          "line": {
           "color": "rgba(255, 153, 51, 1.0)",
           "width": 1
          }
         },
         "name": "count",
         "orientation": "v",
         "text": "",
         "type": "bar",
         "uid": "2cf1fceb-7ebc-4c59-8c54-61fa88de6659",
         "x": [
          "24 hour fitness",
          "free high speed",
          "heart downtown seattle",
          "just minutes away",
          "link light rail",
          "home away home",
          "downtown seattle hotel",
          "sea tac airport",
          "south lake union",
          "needle pike place",
          "space needle pike",
          "high speed internet",
          "state convention center",
          "place market seattle",
          "seattle art museum",
          "washington state convention",
          "free wi fi",
          "seattle tacoma international",
          "tacoma international airport",
          "pike place market"
         ],
         "y": [
          7,
          8,
          8,
          8,
          8,
          9,
          10,
          10,
          11,
          11,
          12,
          14,
          15,
          16,
          16,
          17,
          19,
          21,
          21,
          85
         ]
        }
       ],
       "layout": {
        "legend": {
         "bgcolor": "#151516",
         "font": {
          "color": "#D9D9D9"
         }
        },
        "paper_bgcolor": "#151516",
        "plot_bgcolor": "#151516",
        "title": {
         "font": {
          "color": "#D9D9D9"
         },
         "text": "Top trigrams after removing stop-words"
        },
        "xaxis": {
         "gridcolor": "#434343",
         "linecolor": "black",
         "showgrid": true,
         "tickfont": {
          "color": "#C2C2C2"
         },
         "title": {
          "font": {
           "color": "#D9D9D9"
          },
          "text": ""
         },
         "zerolinecolor": "#666570"
        },
        "yaxis": {
         "gridcolor": "#434343",
         "linecolor": "black",
         "showgrid": true,
         "tickfont": {
          "color": "#C2C2C2"
         },
         "title": {
          "font": {
           "color": "#D9D9D9"
          },
          "text": ""
         },
         "zerolinecolor": "#666570"
        }
       }
      },
      "text/html": [
       "<div id=\"d9e762ab-d9f8-47d5-906b-c47d23917ca2\" style=\"height: 525px; width: 100%;\" class=\"plotly-graph-div\"></div><script type=\"text/javascript\">require([\"plotly\"], function(Plotly) { window.PLOTLYENV=window.PLOTLYENV || {};window.PLOTLYENV.BASE_URL=\"https://plot.ly\";\n",
       "if (document.getElementById(\"d9e762ab-d9f8-47d5-906b-c47d23917ca2\")) {\n",
       "    Plotly.newPlot(\"d9e762ab-d9f8-47d5-906b-c47d23917ca2\", [{\"marker\": {\"color\": \"rgba(255, 153, 51, 0.6)\", \"line\": {\"color\": \"rgba(255, 153, 51, 1.0)\", \"width\": 1}}, \"name\": \"count\", \"orientation\": \"v\", \"text\": \"\", \"x\": [\"24 hour fitness\", \"free high speed\", \"heart downtown seattle\", \"just minutes away\", \"link light rail\", \"home away home\", \"downtown seattle hotel\", \"sea tac airport\", \"south lake union\", \"needle pike place\", \"space needle pike\", \"high speed internet\", \"state convention center\", \"place market seattle\", \"seattle art museum\", \"washington state convention\", \"free wi fi\", \"seattle tacoma international\", \"tacoma international airport\", \"pike place market\"], \"y\": [7, 8, 8, 8, 8, 9, 10, 10, 11, 11, 12, 14, 15, 16, 16, 17, 19, 21, 21, 85], \"type\": \"bar\", \"uid\": \"1bc4ed4e-a047-4618-aa9a-e13ec155d9ed\"}], {\"legend\": {\"bgcolor\": \"#151516\", \"font\": {\"color\": \"#D9D9D9\"}}, \"paper_bgcolor\": \"#151516\", \"plot_bgcolor\": \"#151516\", \"title\": {\"text\": \"Top trigrams after removing stop-words\", \"font\": {\"color\": \"#D9D9D9\"}}, \"xaxis\": {\"gridcolor\": \"#434343\", \"linecolor\": \"black\", \"showgrid\": true, \"tickfont\": {\"color\": \"#C2C2C2\"}, \"title\": {\"text\": \"\", \"font\": {\"color\": \"#D9D9D9\"}}, \"zerolinecolor\": \"#666570\"}, \"yaxis\": {\"gridcolor\": \"#434343\", \"linecolor\": \"black\", \"showgrid\": true, \"tickfont\": {\"color\": \"#C2C2C2\"}, \"title\": {\"text\": \"\", \"font\": {\"color\": \"#D9D9D9\"}}, \"zerolinecolor\": \"#666570\"}}, {\"showLink\": true, \"linkText\": \"Export to plot.ly\", \"plotlyServerURL\": \"https://plot.ly\"}); \n",
       "}\n",
       "});</script><script type=\"text/javascript\">window.addEventListener(\"resize\", function(){if (document.getElementById(\"d9e762ab-d9f8-47d5-906b-c47d23917ca2\")) {window._Plotly.Plots.resize(document.getElementById(\"d9e762ab-d9f8-47d5-906b-c47d23917ca2\"));};})</script>"
      ],
      "text/vnd.plotly.v1+html": [
       "<div id=\"d9e762ab-d9f8-47d5-906b-c47d23917ca2\" style=\"height: 525px; width: 100%;\" class=\"plotly-graph-div\"></div><script type=\"text/javascript\">require([\"plotly\"], function(Plotly) { window.PLOTLYENV=window.PLOTLYENV || {};window.PLOTLYENV.BASE_URL=\"https://plot.ly\";\n",
       "if (document.getElementById(\"d9e762ab-d9f8-47d5-906b-c47d23917ca2\")) {\n",
       "    Plotly.newPlot(\"d9e762ab-d9f8-47d5-906b-c47d23917ca2\", [{\"marker\": {\"color\": \"rgba(255, 153, 51, 0.6)\", \"line\": {\"color\": \"rgba(255, 153, 51, 1.0)\", \"width\": 1}}, \"name\": \"count\", \"orientation\": \"v\", \"text\": \"\", \"x\": [\"24 hour fitness\", \"free high speed\", \"heart downtown seattle\", \"just minutes away\", \"link light rail\", \"home away home\", \"downtown seattle hotel\", \"sea tac airport\", \"south lake union\", \"needle pike place\", \"space needle pike\", \"high speed internet\", \"state convention center\", \"place market seattle\", \"seattle art museum\", \"washington state convention\", \"free wi fi\", \"seattle tacoma international\", \"tacoma international airport\", \"pike place market\"], \"y\": [7, 8, 8, 8, 8, 9, 10, 10, 11, 11, 12, 14, 15, 16, 16, 17, 19, 21, 21, 85], \"type\": \"bar\", \"uid\": \"1bc4ed4e-a047-4618-aa9a-e13ec155d9ed\"}], {\"legend\": {\"bgcolor\": \"#151516\", \"font\": {\"color\": \"#D9D9D9\"}}, \"paper_bgcolor\": \"#151516\", \"plot_bgcolor\": \"#151516\", \"title\": {\"text\": \"Top trigrams after removing stop-words\", \"font\": {\"color\": \"#D9D9D9\"}}, \"xaxis\": {\"gridcolor\": \"#434343\", \"linecolor\": \"black\", \"showgrid\": true, \"tickfont\": {\"color\": \"#C2C2C2\"}, \"title\": {\"text\": \"\", \"font\": {\"color\": \"#D9D9D9\"}}, \"zerolinecolor\": \"#666570\"}, \"yaxis\": {\"gridcolor\": \"#434343\", \"linecolor\": \"black\", \"showgrid\": true, \"tickfont\": {\"color\": \"#C2C2C2\"}, \"title\": {\"text\": \"\", \"font\": {\"color\": \"#D9D9D9\"}}, \"zerolinecolor\": \"#666570\"}}, {\"showLink\": true, \"linkText\": \"Export to plot.ly\", \"plotlyServerURL\": \"https://plot.ly\"}); \n",
       "}\n",
       "});</script><script type=\"text/javascript\">window.addEventListener(\"resize\", function(){if (document.getElementById(\"d9e762ab-d9f8-47d5-906b-c47d23917ca2\")) {window._Plotly.Plots.resize(document.getElementById(\"d9e762ab-d9f8-47d5-906b-c47d23917ca2\"));};})</script>"
      ]
     },
     "metadata": {},
     "output_type": "display_data"
    }
   ],
   "source": [
    "df6.groupby('desc').sum()['count'].sort_values().iplot(kind = 'bar', \n",
    "                                                      linecolor = 'black',\n",
    "                                                      title = 'Top trigrams after removing stop-words')"
   ]
  },
  {
   "cell_type": "code",
   "execution_count": 279,
   "metadata": {},
   "outputs": [],
   "source": [
    "# Word count distribution \n",
    "\n",
    "df['word_count'] = df['desc'].apply(lambda x: len(str(x).split()))"
   ]
  },
  {
   "cell_type": "code",
   "execution_count": 280,
   "metadata": {},
   "outputs": [
    {
     "name": "stdout",
     "output_type": "stream",
     "text": [
      "Description count: 152 \n",
      "Average word count 156.94736842105263 \n",
      "Minimum word count 16 \n",
      "Maximum word count 494\n"
     ]
    }
   ],
   "source": [
    "desc_lengths = list(df['word_count'])\n",
    "\n",
    "print('Description count:', len(desc_lengths),\n",
    "     '\\nAverage word count', np.average(desc_lengths), \n",
    "     '\\nMinimum word count', min(desc_lengths),\n",
    "     '\\nMaximum word count', max(desc_lengths))"
   ]
  },
  {
   "cell_type": "code",
   "execution_count": 281,
   "metadata": {},
   "outputs": [
    {
     "data": {
      "application/vnd.plotly.v1+json": {
       "config": {
        "linkText": "Export to plot.ly",
        "plotlyServerURL": "https://plot.ly",
        "showLink": true
       },
       "data": [
        {
         "histfunc": "count",
         "histnorm": "",
         "marker": {
          "color": "rgba(255, 153, 51, 1.0)",
          "line": {
           "color": "#000000",
           "width": 1.3
          }
         },
         "name": "word_count",
         "nbinsx": 50,
         "opacity": 0.8,
         "orientation": "v",
         "type": "histogram",
         "uid": "db751212-8673-4aec-8b08-12c5c19e7163",
         "x": [
          184,
          152,
          147,
          150,
          151,
          136,
          70,
          117,
          106,
          118,
          105,
          80,
          133,
          50,
          80,
          155,
          140,
          163,
          100,
          260,
          163,
          39,
          171,
          134,
          168,
          199,
          161,
          173,
          220,
          169,
          128,
          195,
          253,
          120,
          306,
          178,
          169,
          100,
          221,
          195,
          105,
          90,
          155,
          165,
          214,
          112,
          230,
          167,
          151,
          74,
          218,
          157,
          219,
          135,
          319,
          124,
          266,
          176,
          133,
          403,
          200,
          172,
          190,
          235,
          177,
          72,
          225,
          42,
          113,
          166,
          164,
          200,
          65,
          51,
          167,
          147,
          27,
          72,
          91,
          224,
          47,
          93,
          41,
          68,
          114,
          231,
          62,
          59,
          69,
          207,
          48,
          46,
          219,
          146,
          213,
          148,
          86,
          133,
          120,
          187,
          200,
          100,
          38,
          161,
          119,
          206,
          212,
          266,
          149,
          159,
          149,
          54,
          193,
          219,
          204,
          213,
          325,
          214,
          103,
          193,
          102,
          166,
          144,
          38,
          129,
          157,
          213,
          227,
          166,
          116,
          160,
          285,
          143,
          459,
          244,
          73,
          274,
          126,
          143,
          192,
          265,
          494,
          225,
          53,
          36,
          16,
          178,
          198,
          98,
          143,
          57,
          250
         ]
        }
       ],
       "layout": {
        "barmode": "overlay",
        "legend": {
         "bgcolor": "#151516",
         "font": {
          "color": "#D9D9D9"
         }
        },
        "paper_bgcolor": "#151516",
        "plot_bgcolor": "#151516",
        "title": {
         "font": {
          "color": "#D9D9D9"
         },
         "text": "Distribution of word counts in description"
        },
        "xaxis": {
         "gridcolor": "#434343",
         "linecolor": "black",
         "showgrid": true,
         "tickfont": {
          "color": "#C2C2C2"
         },
         "title": {
          "font": {
           "color": "#D9D9D9"
          },
          "text": "Desc word count"
         },
         "zerolinecolor": "#666570"
        },
        "yaxis": {
         "gridcolor": "#434343",
         "linecolor": "black",
         "showgrid": true,
         "tickfont": {
          "color": "#C2C2C2"
         },
         "title": {
          "font": {
           "color": "#D9D9D9"
          },
          "text": "frequency"
         },
         "zerolinecolor": "#666570"
        }
       }
      },
      "text/html": [
       "<div id=\"178ee9ed-5289-4cf0-b0f4-ff913f1b61d2\" style=\"height: 525px; width: 100%;\" class=\"plotly-graph-div\"></div><script type=\"text/javascript\">require([\"plotly\"], function(Plotly) { window.PLOTLYENV=window.PLOTLYENV || {};window.PLOTLYENV.BASE_URL=\"https://plot.ly\";\n",
       "if (document.getElementById(\"178ee9ed-5289-4cf0-b0f4-ff913f1b61d2\")) {\n",
       "    Plotly.newPlot(\"178ee9ed-5289-4cf0-b0f4-ff913f1b61d2\", [{\"histfunc\": \"count\", \"histnorm\": \"\", \"marker\": {\"color\": \"rgba(255, 153, 51, 1.0)\", \"line\": {\"color\": \"#000000\", \"width\": 1.3}}, \"name\": \"word_count\", \"nbinsx\": 50, \"opacity\": 0.8, \"orientation\": \"v\", \"x\": [184, 152, 147, 150, 151, 136, 70, 117, 106, 118, 105, 80, 133, 50, 80, 155, 140, 163, 100, 260, 163, 39, 171, 134, 168, 199, 161, 173, 220, 169, 128, 195, 253, 120, 306, 178, 169, 100, 221, 195, 105, 90, 155, 165, 214, 112, 230, 167, 151, 74, 218, 157, 219, 135, 319, 124, 266, 176, 133, 403, 200, 172, 190, 235, 177, 72, 225, 42, 113, 166, 164, 200, 65, 51, 167, 147, 27, 72, 91, 224, 47, 93, 41, 68, 114, 231, 62, 59, 69, 207, 48, 46, 219, 146, 213, 148, 86, 133, 120, 187, 200, 100, 38, 161, 119, 206, 212, 266, 149, 159, 149, 54, 193, 219, 204, 213, 325, 214, 103, 193, 102, 166, 144, 38, 129, 157, 213, 227, 166, 116, 160, 285, 143, 459, 244, 73, 274, 126, 143, 192, 265, 494, 225, 53, 36, 16, 178, 198, 98, 143, 57, 250], \"type\": \"histogram\", \"uid\": \"301dce47-7bb0-420c-923f-d140d42ffdd0\"}], {\"barmode\": \"overlay\", \"legend\": {\"bgcolor\": \"#151516\", \"font\": {\"color\": \"#D9D9D9\"}}, \"paper_bgcolor\": \"#151516\", \"plot_bgcolor\": \"#151516\", \"title\": {\"text\": \"Distribution of word counts in description\", \"font\": {\"color\": \"#D9D9D9\"}}, \"xaxis\": {\"gridcolor\": \"#434343\", \"linecolor\": \"black\", \"showgrid\": true, \"tickfont\": {\"color\": \"#C2C2C2\"}, \"title\": {\"text\": \"Desc word count\", \"font\": {\"color\": \"#D9D9D9\"}}, \"zerolinecolor\": \"#666570\"}, \"yaxis\": {\"gridcolor\": \"#434343\", \"linecolor\": \"black\", \"showgrid\": true, \"tickfont\": {\"color\": \"#C2C2C2\"}, \"title\": {\"text\": \"frequency\", \"font\": {\"color\": \"#D9D9D9\"}}, \"zerolinecolor\": \"#666570\"}}, {\"showLink\": true, \"linkText\": \"Export to plot.ly\", \"plotlyServerURL\": \"https://plot.ly\"}); \n",
       "}\n",
       "});</script><script type=\"text/javascript\">window.addEventListener(\"resize\", function(){if (document.getElementById(\"178ee9ed-5289-4cf0-b0f4-ff913f1b61d2\")) {window._Plotly.Plots.resize(document.getElementById(\"178ee9ed-5289-4cf0-b0f4-ff913f1b61d2\"));};})</script>"
      ],
      "text/vnd.plotly.v1+html": [
       "<div id=\"178ee9ed-5289-4cf0-b0f4-ff913f1b61d2\" style=\"height: 525px; width: 100%;\" class=\"plotly-graph-div\"></div><script type=\"text/javascript\">require([\"plotly\"], function(Plotly) { window.PLOTLYENV=window.PLOTLYENV || {};window.PLOTLYENV.BASE_URL=\"https://plot.ly\";\n",
       "if (document.getElementById(\"178ee9ed-5289-4cf0-b0f4-ff913f1b61d2\")) {\n",
       "    Plotly.newPlot(\"178ee9ed-5289-4cf0-b0f4-ff913f1b61d2\", [{\"histfunc\": \"count\", \"histnorm\": \"\", \"marker\": {\"color\": \"rgba(255, 153, 51, 1.0)\", \"line\": {\"color\": \"#000000\", \"width\": 1.3}}, \"name\": \"word_count\", \"nbinsx\": 50, \"opacity\": 0.8, \"orientation\": \"v\", \"x\": [184, 152, 147, 150, 151, 136, 70, 117, 106, 118, 105, 80, 133, 50, 80, 155, 140, 163, 100, 260, 163, 39, 171, 134, 168, 199, 161, 173, 220, 169, 128, 195, 253, 120, 306, 178, 169, 100, 221, 195, 105, 90, 155, 165, 214, 112, 230, 167, 151, 74, 218, 157, 219, 135, 319, 124, 266, 176, 133, 403, 200, 172, 190, 235, 177, 72, 225, 42, 113, 166, 164, 200, 65, 51, 167, 147, 27, 72, 91, 224, 47, 93, 41, 68, 114, 231, 62, 59, 69, 207, 48, 46, 219, 146, 213, 148, 86, 133, 120, 187, 200, 100, 38, 161, 119, 206, 212, 266, 149, 159, 149, 54, 193, 219, 204, 213, 325, 214, 103, 193, 102, 166, 144, 38, 129, 157, 213, 227, 166, 116, 160, 285, 143, 459, 244, 73, 274, 126, 143, 192, 265, 494, 225, 53, 36, 16, 178, 198, 98, 143, 57, 250], \"type\": \"histogram\", \"uid\": \"301dce47-7bb0-420c-923f-d140d42ffdd0\"}], {\"barmode\": \"overlay\", \"legend\": {\"bgcolor\": \"#151516\", \"font\": {\"color\": \"#D9D9D9\"}}, \"paper_bgcolor\": \"#151516\", \"plot_bgcolor\": \"#151516\", \"title\": {\"text\": \"Distribution of word counts in description\", \"font\": {\"color\": \"#D9D9D9\"}}, \"xaxis\": {\"gridcolor\": \"#434343\", \"linecolor\": \"black\", \"showgrid\": true, \"tickfont\": {\"color\": \"#C2C2C2\"}, \"title\": {\"text\": \"Desc word count\", \"font\": {\"color\": \"#D9D9D9\"}}, \"zerolinecolor\": \"#666570\"}, \"yaxis\": {\"gridcolor\": \"#434343\", \"linecolor\": \"black\", \"showgrid\": true, \"tickfont\": {\"color\": \"#C2C2C2\"}, \"title\": {\"text\": \"frequency\", \"font\": {\"color\": \"#D9D9D9\"}}, \"zerolinecolor\": \"#666570\"}}, {\"showLink\": true, \"linkText\": \"Export to plot.ly\", \"plotlyServerURL\": \"https://plot.ly\"}); \n",
       "}\n",
       "});</script><script type=\"text/javascript\">window.addEventListener(\"resize\", function(){if (document.getElementById(\"178ee9ed-5289-4cf0-b0f4-ff913f1b61d2\")) {window._Plotly.Plots.resize(document.getElementById(\"178ee9ed-5289-4cf0-b0f4-ff913f1b61d2\"));};})</script>"
      ]
     },
     "metadata": {},
     "output_type": "display_data"
    }
   ],
   "source": [
    "df['word_count'].iplot(kind = 'hist',\n",
    "                       bins = 50,\n",
    "                       linecolor = 'black',\n",
    "                       xTitle = 'Desc word count',\n",
    "                       yTitle = 'frequency',\n",
    "                       title = 'Distribution of word counts in description')"
   ]
  },
  {
   "cell_type": "code",
   "execution_count": 282,
   "metadata": {},
   "outputs": [
    {
     "name": "stderr",
     "output_type": "stream",
     "text": [
      "[nltk_data] Downloading package stopwords to\n",
      "[nltk_data]     C:\\Users\\ke117\\AppData\\Roaming\\nltk_data...\n",
      "[nltk_data]   Package stopwords is already up-to-date!\n"
     ]
    },
    {
     "data": {
      "text/plain": [
       "True"
      ]
     },
     "execution_count": 282,
     "metadata": {},
     "output_type": "execute_result"
    }
   ],
   "source": [
    "# Text cleaning \n",
    "import nltk\n",
    "nltk.download('stopwords')\n",
    "\n",
    "SPACE_REPLACE = re.compile('[/(){}\\[\\]\\|@,;]')\n",
    "SYMBOL_REPLACE = re.compile('[^0-9a-z #+_]')\n",
    "STOPWORDS = set(stopwords.words('english'))"
   ]
  },
  {
   "cell_type": "code",
   "execution_count": 283,
   "metadata": {},
   "outputs": [],
   "source": [
    "def clean_text(text):\n",
    "    '''\n",
    "    text: a string\n",
    "    return: modified initial string\n",
    "    '''\n",
    "    text = text.lower() # lowercase\n",
    "    text = SPACE_REPLACE.sub(' ', text) # replace symbols & string with space\n",
    "    text = SYMBOL_REPLACE.sub('', text) # replace symbols with nothing\n",
    "    text = ' '.join(word for word in text.split() if word not in STOPWORDS) # remove stopwords\n",
    "    return text\n",
    "\n",
    "df['clean_desc'] = df['desc'].apply(clean_text)"
   ]
  },
  {
   "cell_type": "code",
   "execution_count": 284,
   "metadata": {},
   "outputs": [
    {
     "data": {
      "text/html": [
       "<div>\n",
       "<style scoped>\n",
       "    .dataframe tbody tr th:only-of-type {\n",
       "        vertical-align: middle;\n",
       "    }\n",
       "\n",
       "    .dataframe tbody tr th {\n",
       "        vertical-align: top;\n",
       "    }\n",
       "\n",
       "    .dataframe thead th {\n",
       "        text-align: right;\n",
       "    }\n",
       "</style>\n",
       "<table border=\"1\" class=\"dataframe\">\n",
       "  <thead>\n",
       "    <tr style=\"text-align: right;\">\n",
       "      <th></th>\n",
       "      <th>name</th>\n",
       "      <th>address</th>\n",
       "      <th>desc</th>\n",
       "      <th>word_count</th>\n",
       "      <th>clean_desc</th>\n",
       "    </tr>\n",
       "  </thead>\n",
       "  <tbody>\n",
       "    <tr>\n",
       "      <th>0</th>\n",
       "      <td>Hilton Garden Seattle Downtown</td>\n",
       "      <td>1821 Boren Avenue, Seattle Washington 98101 USA</td>\n",
       "      <td>Located on the southern tip of Lake Union, the...</td>\n",
       "      <td>184</td>\n",
       "      <td>located southern tip lake union hilton garden ...</td>\n",
       "    </tr>\n",
       "    <tr>\n",
       "      <th>1</th>\n",
       "      <td>Sheraton Grand Seattle</td>\n",
       "      <td>1400 6th Avenue, Seattle, Washington 98101 USA</td>\n",
       "      <td>Located in the city's vibrant core, the Sherat...</td>\n",
       "      <td>152</td>\n",
       "      <td>located citys vibrant core sheraton grand seat...</td>\n",
       "    </tr>\n",
       "    <tr>\n",
       "      <th>2</th>\n",
       "      <td>Crowne Plaza Seattle Downtown</td>\n",
       "      <td>1113 6th Ave, Seattle, WA 98101</td>\n",
       "      <td>Located in the heart of downtown Seattle, the ...</td>\n",
       "      <td>147</td>\n",
       "      <td>located heart downtown seattle awardwinning cr...</td>\n",
       "    </tr>\n",
       "    <tr>\n",
       "      <th>3</th>\n",
       "      <td>Kimpton Hotel Monaco Seattle</td>\n",
       "      <td>1101 4th Ave, Seattle, WA98101</td>\n",
       "      <td>What?s near our hotel downtown Seattle locatio...</td>\n",
       "      <td>150</td>\n",
       "      <td>whats near hotel downtown seattle location bet...</td>\n",
       "    </tr>\n",
       "    <tr>\n",
       "      <th>4</th>\n",
       "      <td>The Westin Seattle</td>\n",
       "      <td>1900 5th Avenue, Seattle, Washington 98101 USA</td>\n",
       "      <td>Situated amid incredible shopping and iconic a...</td>\n",
       "      <td>151</td>\n",
       "      <td>situated amid incredible shopping iconic attra...</td>\n",
       "    </tr>\n",
       "  </tbody>\n",
       "</table>\n",
       "</div>"
      ],
      "text/plain": [
       "                             name  \\\n",
       "0  Hilton Garden Seattle Downtown   \n",
       "1          Sheraton Grand Seattle   \n",
       "2   Crowne Plaza Seattle Downtown   \n",
       "3   Kimpton Hotel Monaco Seattle    \n",
       "4              The Westin Seattle   \n",
       "\n",
       "                                           address  \\\n",
       "0  1821 Boren Avenue, Seattle Washington 98101 USA   \n",
       "1   1400 6th Avenue, Seattle, Washington 98101 USA   \n",
       "2                  1113 6th Ave, Seattle, WA 98101   \n",
       "3                   1101 4th Ave, Seattle, WA98101   \n",
       "4   1900 5th Avenue, Seattle, Washington 98101 USA   \n",
       "\n",
       "                                                desc  word_count  \\\n",
       "0  Located on the southern tip of Lake Union, the...         184   \n",
       "1  Located in the city's vibrant core, the Sherat...         152   \n",
       "2  Located in the heart of downtown Seattle, the ...         147   \n",
       "3  What?s near our hotel downtown Seattle locatio...         150   \n",
       "4  Situated amid incredible shopping and iconic a...         151   \n",
       "\n",
       "                                          clean_desc  \n",
       "0  located southern tip lake union hilton garden ...  \n",
       "1  located citys vibrant core sheraton grand seat...  \n",
       "2  located heart downtown seattle awardwinning cr...  \n",
       "3  whats near hotel downtown seattle location bet...  \n",
       "4  situated amid incredible shopping iconic attra...  "
      ]
     },
     "execution_count": 284,
     "metadata": {},
     "output_type": "execute_result"
    }
   ],
   "source": [
    "df.head()"
   ]
  },
  {
   "cell_type": "code",
   "execution_count": 285,
   "metadata": {},
   "outputs": [],
   "source": [
    "df.set_index('name', inplace = True)"
   ]
  },
  {
   "cell_type": "code",
   "execution_count": 286,
   "metadata": {},
   "outputs": [],
   "source": [
    "# TF-IDF (term frequency inverse document frequency)\n",
    "from sklearn.feature_extraction.text import TfidfVectorizer\n",
    "\n",
    "tf = TfidfVectorizer(analyzer = 'word',\n",
    "                    ngram_range = (1, 3),\n",
    "                    min_df = 0,\n",
    "                    stop_words = 'english')\n",
    "\n",
    "tfidf_matrix = tf.fit_transform(df['clean_desc'])\n",
    "\n",
    "cosine_similarities = linear_kernel(tfidf_matrix, tfidf_matrix)"
   ]
  },
  {
   "cell_type": "code",
   "execution_count": 287,
   "metadata": {},
   "outputs": [],
   "source": [
    "indices = pd.Series(df.index)\n",
    "\n",
    "def recommendations(name, cosine_similarities = cosine_similarities):\n",
    "    recommended_hotels = []\n",
    "    idx = indices[indices == name].index[0]\n",
    "    score_series = pd.Series(cosine_similarities[idx]).sort_values(ascending = False)\n",
    "    top_10_indexes = list(score_series.iloc[1:11].index)\n",
    "    \n",
    "    for i in top_10_indexes:\n",
    "        recommended_hotels.append(list(df.index)[i])\n",
    "        \n",
    "    return recommended_hotels"
   ]
  },
  {
   "cell_type": "code",
   "execution_count": 288,
   "metadata": {},
   "outputs": [
    {
     "data": {
      "text/plain": [
       "['Embassy Suites by Hilton Seattle Tacoma International Airport',\n",
       " 'DoubleTree by Hilton Hotel Seattle Airport',\n",
       " 'Seattle Airport Marriott',\n",
       " 'Motel 6 Seattle Sea-Tac Airport South',\n",
       " 'Econo Lodge SeaTac Airport North',\n",
       " 'Four Points by Sheraton Downtown Seattle Center',\n",
       " 'Knights Inn Tukwila',\n",
       " 'Econo Lodge Renton-Bellevue',\n",
       " 'Hampton Inn Seattle/Southcenter',\n",
       " 'Radisson Hotel Seattle Airport']"
      ]
     },
     "execution_count": 288,
     "metadata": {},
     "output_type": "execute_result"
    }
   ],
   "source": [
    "# Confirm search on tripadvisor \n",
    "recommendations('Hilton Seattle Airport & Conference Center')"
   ]
  },
  {
   "cell_type": "code",
   "execution_count": 289,
   "metadata": {},
   "outputs": [
    {
     "data": {
      "text/plain": [
       "['Country Inn & Suites by Radisson, Seattle-Tacoma International Airport',\n",
       " 'Red Roof Inn Seattle Airport - SEATAC',\n",
       " 'Ramada by Wyndham SeaTac Airport',\n",
       " 'DoubleTree by Hilton Hotel Seattle Airport',\n",
       " 'Best Western Seattle Airport Hotel',\n",
       " 'Homewood Suites by Hilton Seattle-Tacoma Airport/Tukwila',\n",
       " 'Holiday Inn Express & Suites Seattle-City Center',\n",
       " 'Red Lion Hotel Seattle Airport Sea-Tac',\n",
       " 'Embassy Suites by Hilton Seattle Tacoma International Airport',\n",
       " 'Four Points by Sheraton Seattle Airport South']"
      ]
     },
     "execution_count": 289,
     "metadata": {},
     "output_type": "execute_result"
    }
   ],
   "source": [
    "recommendations('Radisson Hotel Seattle Airport')"
   ]
  }
 ],
 "metadata": {
  "kernelspec": {
   "display_name": "Python 3",
   "language": "python",
   "name": "python3"
  },
  "language_info": {
   "codemirror_mode": {
    "name": "ipython",
    "version": 3
   },
   "file_extension": ".py",
   "mimetype": "text/x-python",
   "name": "python",
   "nbconvert_exporter": "python",
   "pygments_lexer": "ipython3",
   "version": "3.6.8"
  }
 },
 "nbformat": 4,
 "nbformat_minor": 2
}
