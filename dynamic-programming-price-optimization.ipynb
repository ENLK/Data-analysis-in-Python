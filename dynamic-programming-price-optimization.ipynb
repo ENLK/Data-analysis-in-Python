{
 "cells": [
  {
   "cell_type": "markdown",
   "metadata": {},
   "source": [
    "# 1) Overview \n",
    "\n",
    "- Optimization technique = dynamic programming \n",
    "> solve a problem with a limited scenario, iterative rule to expand to larger problems \n",
    "\n",
    "- Solve for optimal price, given that only 1 day is available to sell tickets BEFORE flights\n",
    "> apply to longer time-horizons 1 day at a time \n",
    "\n",
    "- Value function = best outcome achievable from any singular input state \n",
    "> v(tickets remaining, days remaining) = best revenue expected for a given number of tickets and days \n",
    "\n",
    "- Q function = includes decision input and expected revenue if it is not based on optimal decision policy\n",
    "> Q function output for T+1 days = dependent on sum of revenue from flights sold that day, revenue earned in the previous days. "
   ]
  },
  {
   "cell_type": "markdown",
   "metadata": {},
   "source": [
    "# 2) Strategy \n",
    "\n",
    "- Start near flight time \n",
    "- Iteratively work backwards \n",
    "- Check revenue from previous days from value function \n",
    "- Single choice variable in this dynamic programming problem is price or quantity\n",
    "\n",
    "### 2.1) Q & V\n",
    "\n",
    "- After obtaining Q at T + 1\n",
    "- Compute V on the same day by checking revenue associated with best decision from Q function \n",
    "- Q includes current revenue calculation & V(leftover tickets)"
   ]
  },
  {
   "cell_type": "markdown",
   "metadata": {},
   "source": [
    "# 3) Base case (1-day sale) \n",
    "\n",
    "#### *Given that *\n",
    "- Qty = demand - price \n",
    "\n",
    "#### *find price and quantity that maximizes *\n",
    "- Revenue = price * Qty\n",
    "\n",
    "#### *Re-arrange Qty equation to solve for price (single choice variable)*\n",
    "- Price = demand - Qty \n",
    "\n",
    "#### *Plug price into revenue equation*\n",
    "- Revenue = (demand - Qty) * Qty\n",
    "\n",
    "### 3.1) Demand & Revenue \n",
    "\n",
    "- Demand = given number when making daily price decisions \n",
    "- Plot revenue as equation dependent on Qty"
   ]
  },
  {
   "cell_type": "code",
   "execution_count": 1,
   "metadata": {
    "_cell_guid": "79c7e3d0-c299-4dcb-8224-4455121ee9b0",
    "_kg_hide-input": true,
    "_kg_hide-output": false,
    "_uuid": "d629ff2d2480ee46fbb7e2d37f6b5fab8052498a"
   },
   "outputs": [
    {
     "name": "stderr",
     "output_type": "stream",
     "text": [
      "/opt/conda/lib/python3.6/site-packages/matplotlib/axes/_base.py:3604: MatplotlibDeprecationWarning: \n",
      "The `ymin` argument was deprecated in Matplotlib 3.0 and will be removed in 3.2. Use `bottom` instead.\n",
      "  alternative='`bottom`', obj_type='argument')\n",
      "/opt/conda/lib/python3.6/site-packages/matplotlib/axes/_base.py:3215: MatplotlibDeprecationWarning: \n",
      "The `xmin` argument was deprecated in Matplotlib 3.0 and will be removed in 3.2. Use `left` instead.\n",
      "  alternative='`left`', obj_type='argument')\n"
     ]
    },
    {
     "data": {
      "image/png": "[encoded data removed]",
      "text/plain": [
       "<Figure size 432x288 with 1 Axes>"
      ]
     },
     "metadata": {
      "needs_background": "light"
     },
     "output_type": "display_data"
    }
   ],
   "source": [
    "import matplotlib.pyplot as plt\n",
    "import numpy as np\n",
    "\n",
    "demand_level = 150\n",
    "# only plot quantities up to demand_level. That's point where price becomes 0\n",
    "revenue = [(demand_level - q) * q for q in range(demand_level)]\n",
    "\n",
    "# Make primary plot\n",
    "plt.plot(revenue, label=\"Revenue\")\n",
    "plt.xlabel(\"Seats Sold\")\n",
    "plt.ylabel(\"Dollars\")\n",
    "plt.ylim(ymin=0)\n",
    "plt.xlim(xmin=0)\n",
    "\n",
    "# Show the revenue maximizing quantity\n",
    "optimal_q = np.argmax(revenue)\n",
    "plt.vlines(x = optimal_q, \n",
    "           ymin=0, ymax = max(revenue), color = 'red', linestyle = \"--\", \n",
    "           label=\"Optimal Quantity\")\n",
    "\n",
    "plt.legend(loc = 'lower right')\n",
    "plt.show()"
   ]
  },
  {
   "cell_type": "markdown",
   "metadata": {
    "_uuid": "42ccdf535540a342e7bc74a0500f980b4ab901fc"
   },
   "source": [
    "# 4) Q & V functions \n",
    "\n",
    "- Values of Q & V can be stored in numpy arrays \n",
    "> indexed by inputs \n",
    "\n",
    "- Q input = demand (variable affecting decision)\n",
    "\n",
    "- Demand is unknown in future days, even if V is used to examine potential revenue on those days \n",
    "> Develop 'expected value' by averaging over future revenue from a specified demand range \n",
    "\n",
    "- Discretize demand range \n",
    "> evenly spread values "
   ]
  },
  {
   "cell_type": "code",
   "execution_count": 2,
   "metadata": {
    "_uuid": "a10250dc29fdf5bef2bb1e5c3efe9dd29e6cd1ec"
   },
   "outputs": [],
   "source": [
    "n_demand_levels = 11\n",
    "min_demand_level = 100\n",
    "max_demand_level = 150\n",
    "demand_levels = np.linspace(min_demand_level, max_demand_level, n_demand_levels)\n",
    "\n",
    "max_tickets = 150\n",
    "max_days = 100\n",
    "\n",
    "# Q indices are: n_sold in day, tickets_left to start day, demand_level, days_left\n",
    "Q = np.zeros([max_tickets, max_tickets, n_demand_levels, max_days])\n",
    "# V indices are: n_left and n_days\n",
    "V = np.zeros([max_tickets, max_days])\n"
   ]
  },
  {
   "cell_type": "markdown",
   "metadata": {
    "_uuid": "f9cb30525829b0aa60565a2cd5feb943bb1dcf13"
   },
   "source": [
    "# 5) Base case: 1 day remaining \n",
    "\n",
    "- last day remaining, no concern for future values "
   ]
  },
  {
   "cell_type": "code",
   "execution_count": 3,
   "metadata": {
    "_uuid": "f1db8236e2508f7bd67e84ad29fa235c2f42367e"
   },
   "outputs": [],
   "source": [
    "for tickets_left in range(max_tickets):\n",
    "    for tickets_sold in range(tickets_left+1): # add 1 to offset 0 indexing. Allow selling all tickets\n",
    "        for demand_index, demand_level in enumerate(demand_levels):\n",
    "            # Never set negative prices\n",
    "            price = max(demand_level - tickets_sold, 0)\n",
    "            Q[tickets_sold, tickets_left, demand_index, 0] = price * tickets_sold\n",
    "    # For each demand_level, choose the optimum number to sell. Output of this is array .of size n_demand_levels\n",
    "    revenue_from_best_quantity_at_each_demand_level = Q[:, tickets_left, :, 0].max(axis=0)\n",
    "    # take the average, since we don't know demand level ahead of time and all are equally likely\n",
    "    V[tickets_left, 0] = revenue_from_best_quantity_at_each_demand_level.mean()"
   ]
  },
  {
   "cell_type": "markdown",
   "metadata": {
    "_uuid": "ac040a954c0e8e6701fd931f0f80747998f2b299"
   },
   "source": [
    "# 6) Solving for other time horizons \n",
    "\n",
    "- Iteratively calc Q & V for previous periods "
   ]
  },
  {
   "cell_type": "code",
   "execution_count": 4,
   "metadata": {
    "_uuid": "0d4116f743bbd34c08d338954d2a7e3886026719"
   },
   "outputs": [],
   "source": [
    "for days_left in range(1, max_days):\n",
    "    for tickets_left in range(max_tickets):\n",
    "        for tickets_sold in range(tickets_left):\n",
    "            for demand_index, demand_level in enumerate(demand_levels):\n",
    "                price = max(demand_level - tickets_sold, 0)\n",
    "                rev_today = price * tickets_sold\n",
    "                Q[tickets_sold, tickets_left, demand_index, days_left] = rev_today + V[tickets_left-tickets_sold, days_left-1]\n",
    "        expected_total_rev_from_best_quantity_at_each_demand_level = Q[:, tickets_left, :, days_left].max(axis=0)\n",
    "        V[tickets_left, days_left] = expected_total_rev_from_best_quantity_at_each_demand_level.mean()"
   ]
  },
  {
   "cell_type": "markdown",
   "metadata": {
    "_uuid": "b7249aa3c859d42fd23f0ed029faf7ee64056e0d"
   },
   "source": [
    "\n",
    "For any given number of tickets, days_left and demand_level, look in **Q** to find the number of tickets with the highest Q-value.\n",
    "\n",
    "Use pricing function to implement that:"
   ]
  },
  {
   "cell_type": "code",
   "execution_count": 5,
   "metadata": {
    "_uuid": "9056df8d6a803f873128b358894f1859d625bc0f"
   },
   "outputs": [],
   "source": [
    "def pricing_function(days_left, tickets_left, demand_level):\n",
    "    demand_level_index = np.abs(demand_level - demand_levels).argmin()\n",
    "    day_index = days_left - 1 # arrays are 0 indexed\n",
    "    tickets_index = int(tickets_left)  # in case it comes in as float, but need to index with it\n",
    "    relevant_Q_vals = Q[:, tickets_index, demand_level_index, day_index]\n",
    "    desired_quantity = relevant_Q_vals.argmax()# offset 0 indexing\n",
    "    price = demand_level - desired_quantity\n",
    "    return price"
   ]
  },
  {
   "cell_type": "markdown",
   "metadata": {
    "_uuid": "34d6d01735ec05cb0051f1e5f5d2476c76f39237"
   },
   "source": [
    "# 7) Score"
   ]
  },
  {
   "cell_type": "code",
   "execution_count": 6,
   "metadata": {
    "_uuid": "f9d888e47d95d6348a0810d7830421600322c0cd"
   },
   "outputs": [
    {
     "name": "stdout",
     "output_type": "stream",
     "text": [
      "Ran 200 flights starting 100 days before flight with 100 tickets. Average revenue: $16790\n",
      "Ran 200 flights starting 14 days before flight with 50 tickets. Average revenue: $7958\n",
      "Ran 200 flights starting 2 days before flight with 20 tickets. Average revenue: $2851\n",
      "Ran 200 flights starting 1 days before flight with 3 tickets. Average revenue: $431\n"
     ]
    },
    {
     "data": {
      "application/javascript": [
       "parent.postMessage({\"jupyterEvent\": \"custom.exercise_interaction\", \"data\": {\"learnTutorialId\": 117, \"interactionType\": \"check\", \"questionId\": \"Aug31OptimizationChallenge\", \"outcomeType\": \"Pass\", \"valueTowardsCompletion\": 0.7007672244717522, \"failureMessage\": null, \"learnToolsVersion\": \"Testing\"}}, \"*\")"
      ],
      "text/plain": [
       "<IPython.core.display.Javascript object>"
      ]
     },
     "metadata": {},
     "output_type": "display_data"
    },
    {
     "name": "stdout",
     "output_type": "stream",
     "text": [
      "Average revenue across all flights is $7008\n"
     ]
    }
   ],
   "source": [
    "import sys\n",
    "sys.path.append(\"../input\")\n",
    "from flight_revenue_simulator import simulate_revenue, score_me\n",
    "\n",
    "score_me(pricing_function)"
   ]
  }
 ],
 "metadata": {
  "kernelspec": {
   "display_name": "Python 3",
   "language": "python",
   "name": "python3"
  },
  "language_info": {
   "codemirror_mode": {
    "name": "ipython",
    "version": 3
   },
   "file_extension": ".py",
   "mimetype": "text/x-python",
   "name": "python",
   "nbconvert_exporter": "python",
   "pygments_lexer": "ipython3",
   "version": "3.6.6"
  }
 },
 "nbformat": 4,
 "nbformat_minor": 1
}
