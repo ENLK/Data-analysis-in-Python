{
 "cells": [
  {
   "cell_type": "code",
   "execution_count": 1,
   "metadata": {
    "_cell_guid": "b1076dfc-b9ad-4769-8c92-a6c4dae69d19",
    "_uuid": "8f2839f25d086af736a60e9eeb907d3b93b6e0e5"
   },
   "outputs": [
    {
     "name": "stdout",
     "output_type": "stream",
     "text": [
      "['household_power_consumption.txt']\n"
     ]
    }
   ],
   "source": [
    "# This Python 3 environment comes with many helpful analytics libraries installed\n",
    "# It is defined by the kaggle/python docker image: https://github.com/kaggle/docker-python\n",
    "# For example, here's several helpful packages to load in \n",
    "\n",
    "import numpy as np # linear algebra\n",
    "import pandas as pd # data processing, CSV file I/O (e.g. pd.read_csv)\n",
    "\n",
    "# Input data files are available in the \"../input/\" directory.\n",
    "# For example, running this (by clicking run or pressing Shift+Enter) will list the files in the input directory\n",
    "\n",
    "import os\n",
    "print(os.listdir(\"../input\"))\n",
    "\n",
    "# Any results you write to the current directory are saved as output."
   ]
  },
  {
   "cell_type": "code",
   "execution_count": 2,
   "metadata": {
    "_cell_guid": "79c7e3d0-c299-4dcb-8224-4455121ee9b0",
    "_uuid": "d629ff2d2480ee46fbb7e2d37f6b5fab8052498a"
   },
   "outputs": [
    {
     "name": "stderr",
     "output_type": "stream",
     "text": [
      "Using TensorFlow backend.\n"
     ]
    }
   ],
   "source": [
    "import numpy as np\n",
    "import matplotlib.pyplot as plt\n",
    "import pandas as pd\n",
    "pd.set_option('display.float_format', lambda x: '%.4f' % x)\n",
    "import seaborn as sns\n",
    "sns.set_context(\"paper\", font_scale=1.3)\n",
    "sns.set_style('white')\n",
    "\n",
    "import warnings\n",
    "warnings.filterwarnings('ignore')\n",
    "from time import time\n",
    "import matplotlib.ticker as tkr\n",
    "from scipy import stats\n",
    "from statsmodels.tsa.stattools import adfuller\n",
    "from sklearn import preprocessing\n",
    "from statsmodels.tsa.stattools import pacf\n",
    "%matplotlib inline\n",
    "\n",
    "import math\n",
    "import keras\n",
    "from keras.models import Sequential\n",
    "from keras.layers import Dense\n",
    "from keras.layers import LSTM\n",
    "from keras.layers import Dropout\n",
    "from keras.layers import *\n",
    "from sklearn.preprocessing import MinMaxScaler\n",
    "from sklearn.metrics import mean_squared_error\n",
    "from sklearn.metrics import mean_absolute_error\n",
    "from keras.callbacks import EarlyStopping"
   ]
  },
  {
   "cell_type": "code",
   "execution_count": 3,
   "metadata": {},
   "outputs": [],
   "source": [
    "df = pd.read_csv('../input/household_power_consumption.txt',\n",
    "                delimiter = ';')"
   ]
  },
  {
   "cell_type": "code",
   "execution_count": 4,
   "metadata": {},
   "outputs": [
    {
     "name": "stdout",
     "output_type": "stream",
     "text": [
      "Number of rows and columns: (2075259, 9)\n"
     ]
    },
    {
     "data": {
      "text/html": [
       "<div>\n",
       "<style scoped>\n",
       "    .dataframe tbody tr th:only-of-type {\n",
       "        vertical-align: middle;\n",
       "    }\n",
       "\n",
       "    .dataframe tbody tr th {\n",
       "        vertical-align: top;\n",
       "    }\n",
       "\n",
       "    .dataframe thead th {\n",
       "        text-align: right;\n",
       "    }\n",
       "</style>\n",
       "<table border=\"1\" class=\"dataframe\">\n",
       "  <thead>\n",
       "    <tr style=\"text-align: right;\">\n",
       "      <th></th>\n",
       "      <th>Date</th>\n",
       "      <th>Time</th>\n",
       "      <th>Global_active_power</th>\n",
       "      <th>Global_reactive_power</th>\n",
       "      <th>Voltage</th>\n",
       "      <th>Global_intensity</th>\n",
       "      <th>Sub_metering_1</th>\n",
       "      <th>Sub_metering_2</th>\n",
       "      <th>Sub_metering_3</th>\n",
       "    </tr>\n",
       "  </thead>\n",
       "  <tbody>\n",
       "    <tr>\n",
       "      <th>0</th>\n",
       "      <td>16/12/2006</td>\n",
       "      <td>17:24:00</td>\n",
       "      <td>4.216</td>\n",
       "      <td>0.418</td>\n",
       "      <td>234.840</td>\n",
       "      <td>18.400</td>\n",
       "      <td>0.000</td>\n",
       "      <td>1.000</td>\n",
       "      <td>17.0000</td>\n",
       "    </tr>\n",
       "    <tr>\n",
       "      <th>1</th>\n",
       "      <td>16/12/2006</td>\n",
       "      <td>17:25:00</td>\n",
       "      <td>5.360</td>\n",
       "      <td>0.436</td>\n",
       "      <td>233.630</td>\n",
       "      <td>23.000</td>\n",
       "      <td>0.000</td>\n",
       "      <td>1.000</td>\n",
       "      <td>16.0000</td>\n",
       "    </tr>\n",
       "    <tr>\n",
       "      <th>2</th>\n",
       "      <td>16/12/2006</td>\n",
       "      <td>17:26:00</td>\n",
       "      <td>5.374</td>\n",
       "      <td>0.498</td>\n",
       "      <td>233.290</td>\n",
       "      <td>23.000</td>\n",
       "      <td>0.000</td>\n",
       "      <td>2.000</td>\n",
       "      <td>17.0000</td>\n",
       "    </tr>\n",
       "    <tr>\n",
       "      <th>3</th>\n",
       "      <td>16/12/2006</td>\n",
       "      <td>17:27:00</td>\n",
       "      <td>5.388</td>\n",
       "      <td>0.502</td>\n",
       "      <td>233.740</td>\n",
       "      <td>23.000</td>\n",
       "      <td>0.000</td>\n",
       "      <td>1.000</td>\n",
       "      <td>17.0000</td>\n",
       "    </tr>\n",
       "    <tr>\n",
       "      <th>4</th>\n",
       "      <td>16/12/2006</td>\n",
       "      <td>17:28:00</td>\n",
       "      <td>3.666</td>\n",
       "      <td>0.528</td>\n",
       "      <td>235.680</td>\n",
       "      <td>15.800</td>\n",
       "      <td>0.000</td>\n",
       "      <td>1.000</td>\n",
       "      <td>17.0000</td>\n",
       "    </tr>\n",
       "  </tbody>\n",
       "</table>\n",
       "</div>"
      ],
      "text/plain": [
       "         Date      Time Global_active_power Global_reactive_power  Voltage  \\\n",
       "0  16/12/2006  17:24:00               4.216                 0.418  234.840   \n",
       "1  16/12/2006  17:25:00               5.360                 0.436  233.630   \n",
       "2  16/12/2006  17:26:00               5.374                 0.498  233.290   \n",
       "3  16/12/2006  17:27:00               5.388                 0.502  233.740   \n",
       "4  16/12/2006  17:28:00               3.666                 0.528  235.680   \n",
       "\n",
       "  Global_intensity Sub_metering_1 Sub_metering_2  Sub_metering_3  \n",
       "0           18.400          0.000          1.000         17.0000  \n",
       "1           23.000          0.000          1.000         16.0000  \n",
       "2           23.000          0.000          2.000         17.0000  \n",
       "3           23.000          0.000          1.000         17.0000  \n",
       "4           15.800          0.000          1.000         17.0000  "
      ]
     },
     "execution_count": 4,
     "metadata": {},
     "output_type": "execute_result"
    }
   ],
   "source": [
    "print('Number of rows and columns:', df.shape)\n",
    "df.head(5)"
   ]
  },
  {
   "cell_type": "code",
   "execution_count": 5,
   "metadata": {},
   "outputs": [
    {
     "data": {
      "text/plain": [
       "Date                         0\n",
       "Time                         0\n",
       "Global_active_power          0\n",
       "Global_reactive_power        0\n",
       "Voltage                      0\n",
       "Global_intensity             0\n",
       "Sub_metering_1               0\n",
       "Sub_metering_2               0\n",
       "Sub_metering_3           25979\n",
       "dtype: int64"
      ]
     },
     "execution_count": 5,
     "metadata": {},
     "output_type": "execute_result"
    }
   ],
   "source": [
    "df.isnull().sum()"
   ]
  },
  {
   "cell_type": "code",
   "execution_count": 6,
   "metadata": {},
   "outputs": [],
   "source": [
    "# Pre-proc & feature engineering \n",
    "\n",
    "    # Merge Date and Time \n",
    "        # change merge to datetime type \n",
    "        \n",
    "    # Convert Global active power to numeric\n",
    "        # remove missing values (1.2%)\n",
    "        \n",
    "    # Create year, quarter, month, day \n",
    "    \n",
    "    # Create weekday feature\n",
    "        # 0 = weekend \n",
    "        # 1 = weekday"
   ]
  },
  {
   "cell_type": "code",
   "execution_count": 7,
   "metadata": {},
   "outputs": [],
   "source": [
    "df['date_time'] = pd.to_datetime(df['Date'] + ' ' + df['Time'])\n",
    "\n",
    "df['Global_active_power'] = pd.to_numeric(df['Global_active_power'],\n",
    "                                         errors = 'coerce')\n",
    "\n",
    "df = df.dropna(subset = ['Global_active_power'])\n",
    "\n",
    "df['date_time'] = pd.to_datetime(df['date_time'])\n",
    "\n",
    "df['year'] = df['date_time'].apply(lambda x: x.year)\n",
    "df['quarter'] = df['date_time'].apply(lambda x:x.quarter)\n",
    "df['month'] = df['date_time'].apply(lambda x:x.month)\n",
    "df['day'] = df['date_time'].apply(lambda x:x.day)\n",
    "\n",
    "df = df.loc[:,['date_time', 'Global_active_power', \n",
    "               'year', 'quarter', 'month', 'day']]\n",
    "\n",
    "df.sort_values('date_time', inplace = True,\n",
    "              ascending = True)\n",
    "\n",
    "df = df.reset_index(drop = True)\n",
    "\n",
    "df['weekday'] = df.apply(lambda row:row['date_time'].weekday(), axis = 1)\n",
    "df['weekday'] = (df['weekday'] < 5).astype(int)\n"
   ]
  },
  {
   "cell_type": "code",
   "execution_count": 8,
   "metadata": {},
   "outputs": [
    {
     "name": "stdout",
     "output_type": "stream",
     "text": [
      "Number of rows and columns after pre-proc: (2049280, 7)\n",
      "Time series starts: 2006-12-16 17:24:00\n",
      "Time series end: 2010-12-11 23:59:00\n"
     ]
    }
   ],
   "source": [
    "print('Number of rows and columns after pre-proc:', df.shape)\n",
    "\n",
    "print('Time series starts:', df.date_time.min())\n",
    "print('Time series end:', df.date_time.max())"
   ]
  },
  {
   "cell_type": "code",
   "execution_count": 9,
   "metadata": {},
   "outputs": [],
   "source": [
    "# Variable of interest = Global_active_power history\n",
    "    # global minute-averaged active power in kilowatt "
   ]
  },
  {
   "cell_type": "code",
   "execution_count": 10,
   "metadata": {},
   "outputs": [],
   "source": [
    "# Statistical normality  / gaussian test\n",
    "    \n",
    "# D'Agostino k-squared test\n",
    "    # measures departure from normality\n",
    "    # whether sample comes from gaussian distributed population\n",
    "    \n",
    "# SciPy implementation of DA k-squared test\n",
    "\n",
    "# P-val interpretation \n",
    "    # H0 = normal distribution\n",
    "     # p <= a, reject H0, not normal\n",
    "     # p > a, fail to reject H0\n"
   ]
  },
  {
   "cell_type": "code",
   "execution_count": 11,
   "metadata": {},
   "outputs": [
    {
     "name": "stdout",
     "output_type": "stream",
     "text": [
      "statistics = 724881.795, p = 0.000\n",
      "Data does not appear Gaussian (reject H0)\n"
     ]
    }
   ],
   "source": [
    "stat, p = stats.normaltest(df.Global_active_power)\n",
    "\n",
    "print('statistics = %.3f, p = %.3f' % (stat, p))\n",
    "\n",
    "alpha = 0.5\n",
    "if p > alpha:\n",
    "    print('Data appears Gaussian (fail to reject H0)')\n",
    "else:\n",
    "    print('Data does not appear Gaussian (reject H0)')"
   ]
  },
  {
   "cell_type": "code",
   "execution_count": 12,
   "metadata": {},
   "outputs": [
    {
     "name": "stdout",
     "output_type": "stream",
     "text": [
      "Kurtosis of normal dist: 4.218671866132129\n",
      "Skewness of normal distribution: 1.7862320846320843\n"
     ]
    },
    {
     "data": {
      "image/png": "[encoded data removed]",
      "text/plain": [
       "<Figure size 432x288 with 1 Axes>"
      ]
     },
     "metadata": {
      "needs_background": "light"
     },
     "output_type": "display_data"
    }
   ],
   "source": [
    "# Kurtosis & Skewness\n",
    "    # determine if dist departs from normal \n",
    "\n",
    "sns.distplot(df.Global_active_power);\n",
    "print('Kurtosis of normal dist: {}'.format(stats.kurtosis(df.Global_active_power)))\n",
    "\n",
    "print('Skewness of normal distribution: {}'.format(stats.skew(df.Global_active_power)))"
   ]
  },
  {
   "cell_type": "code",
   "execution_count": 13,
   "metadata": {},
   "outputs": [],
   "source": [
    "# Kurtosis = describes tailness (heaviness of tails)\n",
    "    # Normal dist: kurtosis = 0, \n",
    "        # if kurtosis > 0, heavy tails \n",
    "        # kurtosis < 0, light tails\n",
    "        \n",
    "# Skewness = measures dist asymmetry\n",
    "    # -0.5 < skew < 0.5 = relatively symmetrical \n",
    "    # -1 < skew < 0.5 or 0.5 < skew < 1 = moderately skewed \n",
    "    # < -1 or > 1 = highly skewed "
   ]
  },
  {
   "cell_type": "code",
   "execution_count": 14,
   "metadata": {},
   "outputs": [
    {
     "data": {
      "image/png": "[encoded data removed]",
      "text/plain": [
       "<Figure size 864x360 with 1 Axes>"
      ]
     },
     "metadata": {
      "needs_background": "light"
     },
     "output_type": "display_data"
    }
   ],
   "source": [
    "# Time series plot \n",
    "\n",
    "# Extract 2 cols \n",
    "    # index date \n",
    "df1 = df.loc[:, ['date_time', 'Global_active_power']]\n",
    "df1.set_index('date_time', inplace = True)\n",
    "\n",
    "# plot \n",
    "df1.plot(figsize = (12, 5))\n",
    "\n",
    "plt.ylabel('Global active power')\n",
    "plt.title('GAP time series')\n",
    "plt.legend().set_visible(False)\n",
    "plt.tight_layout()\n",
    "sns.despine(top = True)\n",
    "plt.show();"
   ]
  },
  {
   "cell_type": "code",
   "execution_count": 15,
   "metadata": {},
   "outputs": [
    {
     "data": {
      "image/png": "[encoded data removed]",
      "text/plain": [
       "<Figure size 1008x360 with 2 Axes>"
      ]
     },
     "metadata": {
      "needs_background": "light"
     },
     "output_type": "display_data"
    }
   ],
   "source": [
    "# Quarterly vs. Yearly GAP \n",
    "\n",
    "plt.figure(figsize = (14, 5))\n",
    "plt.subplot(1, 2, 1)\n",
    "plt.subplots_adjust(wspace = 0.2)\n",
    "sns.boxplot(x = 'year', y = 'Global_active_power', data = df)\n",
    "plt.xlabel('year')\n",
    "plt.title('Boxplot of yearly GAP')\n",
    "\n",
    "plt.subplot(1, 2, 2)\n",
    "sns.boxplot(x = 'quarter', y = 'Global_active_power', data = df)\n",
    "plt.xlabel('quarter')\n",
    "plt.title('Boxplot of quarterly GAP')\n",
    "sns.despine(left = True)\n",
    "plt.tight_layout();"
   ]
  },
  {
   "cell_type": "code",
   "execution_count": 16,
   "metadata": {},
   "outputs": [],
   "source": [
    "# Median year power higher in 2006 \n",
    "    # even if 2006 only has December data \n",
    "\n",
    "# 2006 median consistent with quarter 1 and 4 \n",
    "    # 1 = autumn / 2 = spring / 3 = summer / 4 = winter \n",
    "    # Autumn & Winter = highest consumption "
   ]
  },
  {
   "cell_type": "code",
   "execution_count": 17,
   "metadata": {},
   "outputs": [
    {
     "data": {
      "text/html": [
       "<div>\n",
       "<style scoped>\n",
       "    .dataframe tbody tr th:only-of-type {\n",
       "        vertical-align: middle;\n",
       "    }\n",
       "\n",
       "    .dataframe tbody tr th {\n",
       "        vertical-align: top;\n",
       "    }\n",
       "\n",
       "    .dataframe thead th {\n",
       "        text-align: right;\n",
       "    }\n",
       "</style>\n",
       "<table border=\"1\" class=\"dataframe\">\n",
       "  <thead>\n",
       "    <tr style=\"text-align: right;\">\n",
       "      <th></th>\n",
       "      <th>count</th>\n",
       "      <th>mean</th>\n",
       "      <th>std</th>\n",
       "      <th>min</th>\n",
       "      <th>25%</th>\n",
       "      <th>50%</th>\n",
       "      <th>75%</th>\n",
       "      <th>max</th>\n",
       "    </tr>\n",
       "  </thead>\n",
       "  <tbody>\n",
       "    <tr>\n",
       "      <th>Global_active_power</th>\n",
       "      <td>2049280.0000</td>\n",
       "      <td>1.0916</td>\n",
       "      <td>1.0573</td>\n",
       "      <td>0.0760</td>\n",
       "      <td>0.3080</td>\n",
       "      <td>0.6020</td>\n",
       "      <td>1.5280</td>\n",
       "      <td>11.1220</td>\n",
       "    </tr>\n",
       "  </tbody>\n",
       "</table>\n",
       "</div>"
      ],
      "text/plain": [
       "                           count   mean    std    min    25%    50%    75%  \\\n",
       "Global_active_power 2049280.0000 1.0916 1.0573 0.0760 0.3080 0.6020 1.5280   \n",
       "\n",
       "                        max  \n",
       "Global_active_power 11.1220  "
      ]
     },
     "execution_count": 17,
     "metadata": {},
     "output_type": "execute_result"
    },
    {
     "data": {
      "image/png": "[encoded data removed]",
      "text/plain": [
       "<Figure size 1008x432 with 2 Axes>"
      ]
     },
     "metadata": {
      "needs_background": "light"
     },
     "output_type": "display_data"
    }
   ],
   "source": [
    "# GAP distribution \n",
    "\n",
    "plt.figure(figsize = (14, 6))\n",
    "plt.subplot(1, 2, 1)\n",
    "df['Global_active_power'].hist(bins = 50)\n",
    "plt.title('GAP distribution')\n",
    "\n",
    "plt.subplot(1, 2, 2)\n",
    "stats.probplot(df['Global_active_power'], plot = plt);\n",
    "sns.despine(left = True)\n",
    "plt.tight_layout()\n",
    "df1.describe().T"
   ]
  },
  {
   "cell_type": "code",
   "execution_count": 18,
   "metadata": {},
   "outputs": [],
   "source": [
    "#  significant departure from Gaussian \n",
    "    # probability plot : angular blue"
   ]
  }
 ],
 "metadata": {
  "kernelspec": {
   "display_name": "Python 3",
   "language": "python",
   "name": "python3"
  },
  "language_info": {
   "codemirror_mode": {
    "name": "ipython",
    "version": 3
   },
   "file_extension": ".py",
   "mimetype": "text/x-python",
   "name": "python",
   "nbconvert_exporter": "python",
   "pygments_lexer": "ipython3",
   "version": "3.6.6"
  }
 },
 "nbformat": 4,
 "nbformat_minor": 1
}
