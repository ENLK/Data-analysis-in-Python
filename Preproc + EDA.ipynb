{
 "cells": [
  {
   "cell_type": "code",
   "execution_count": 1,
   "metadata": {},
   "outputs": [],
   "source": [
    "import pandas as pd \n",
    "import numpy as np \n",
    "import plotly.express as px\n",
    "from fbprophet import Prophet\n",
    "from sklearn.metrics import mean_squared_error\n",
    "from math import sqrt\n",
    "from statsmodels.distributions.empirical_distribution import ECDF\n",
    "import datetime\n",
    "import seaborn as sns\n",
    "\n",
    "import matplotlib.dates as md\n",
    "import matplotlib.pyplot as plt\n",
    "from mpl_toolkits.axes_grid1 import host_subplot\n",
    "import mpl_toolkits.axisartist as AA\n",
    "plt.style.use(['fast', 'seaborn-whitegrid'])"
   ]
  },
  {
   "cell_type": "code",
   "execution_count": 2,
   "metadata": {},
   "outputs": [
    {
     "name": "stderr",
     "output_type": "stream",
     "text": [
      "C:\\Users\\ke117\\Anaconda3\\lib\\site-packages\\IPython\\core\\interactiveshell.py:3044: DtypeWarning:\n",
      "\n",
      "Columns (7) have mixed types. Specify dtype option on import or set low_memory=False.\n",
      "\n"
     ]
    },
    {
     "data": {
      "text/html": [
       "<div>\n",
       "<style scoped>\n",
       "    .dataframe tbody tr th:only-of-type {\n",
       "        vertical-align: middle;\n",
       "    }\n",
       "\n",
       "    .dataframe tbody tr th {\n",
       "        vertical-align: top;\n",
       "    }\n",
       "\n",
       "    .dataframe thead th {\n",
       "        text-align: right;\n",
       "    }\n",
       "</style>\n",
       "<table border=\"1\" class=\"dataframe\">\n",
       "  <thead>\n",
       "    <tr style=\"text-align: right;\">\n",
       "      <th></th>\n",
       "      <th>Store</th>\n",
       "      <th>DayOfWeek</th>\n",
       "      <th>Date</th>\n",
       "      <th>Sales</th>\n",
       "      <th>Customers</th>\n",
       "      <th>Open</th>\n",
       "      <th>Promo</th>\n",
       "      <th>StateHoliday</th>\n",
       "      <th>SchoolHoliday</th>\n",
       "    </tr>\n",
       "  </thead>\n",
       "  <tbody>\n",
       "    <tr>\n",
       "      <th>0</th>\n",
       "      <td>1</td>\n",
       "      <td>5</td>\n",
       "      <td>31/07/2015</td>\n",
       "      <td>5263</td>\n",
       "      <td>555</td>\n",
       "      <td>1</td>\n",
       "      <td>1</td>\n",
       "      <td>0</td>\n",
       "      <td>1</td>\n",
       "    </tr>\n",
       "    <tr>\n",
       "      <th>1</th>\n",
       "      <td>2</td>\n",
       "      <td>5</td>\n",
       "      <td>31/07/2015</td>\n",
       "      <td>6064</td>\n",
       "      <td>625</td>\n",
       "      <td>1</td>\n",
       "      <td>1</td>\n",
       "      <td>0</td>\n",
       "      <td>1</td>\n",
       "    </tr>\n",
       "    <tr>\n",
       "      <th>2</th>\n",
       "      <td>3</td>\n",
       "      <td>5</td>\n",
       "      <td>31/07/2015</td>\n",
       "      <td>8314</td>\n",
       "      <td>821</td>\n",
       "      <td>1</td>\n",
       "      <td>1</td>\n",
       "      <td>0</td>\n",
       "      <td>1</td>\n",
       "    </tr>\n",
       "    <tr>\n",
       "      <th>3</th>\n",
       "      <td>4</td>\n",
       "      <td>5</td>\n",
       "      <td>31/07/2015</td>\n",
       "      <td>13995</td>\n",
       "      <td>1498</td>\n",
       "      <td>1</td>\n",
       "      <td>1</td>\n",
       "      <td>0</td>\n",
       "      <td>1</td>\n",
       "    </tr>\n",
       "    <tr>\n",
       "      <th>4</th>\n",
       "      <td>5</td>\n",
       "      <td>5</td>\n",
       "      <td>31/07/2015</td>\n",
       "      <td>4822</td>\n",
       "      <td>559</td>\n",
       "      <td>1</td>\n",
       "      <td>1</td>\n",
       "      <td>0</td>\n",
       "      <td>1</td>\n",
       "    </tr>\n",
       "  </tbody>\n",
       "</table>\n",
       "</div>"
      ],
      "text/plain": [
       "   Store  DayOfWeek        Date  Sales  Customers  Open  Promo StateHoliday  \\\n",
       "0      1          5  31/07/2015   5263        555     1      1            0   \n",
       "1      2          5  31/07/2015   6064        625     1      1            0   \n",
       "2      3          5  31/07/2015   8314        821     1      1            0   \n",
       "3      4          5  31/07/2015  13995       1498     1      1            0   \n",
       "4      5          5  31/07/2015   4822        559     1      1            0   \n",
       "\n",
       "   SchoolHoliday  \n",
       "0              1  \n",
       "1              1  \n",
       "2              1  \n",
       "3              1  \n",
       "4              1  "
      ]
     },
     "execution_count": 2,
     "metadata": {},
     "output_type": "execute_result"
    }
   ],
   "source": [
    "train = pd.read_csv('DA1920_train.csv')\n",
    "store = pd.read_csv('clean_store.csv')\n",
    "train.shape\n",
    "train.head()"
   ]
  },
  {
   "cell_type": "code",
   "execution_count": 3,
   "metadata": {},
   "outputs": [
    {
     "data": {
      "text/plain": [
       "0    855087\n",
       "0    131072\n",
       "a     20260\n",
       "b      6690\n",
       "c      4100\n",
       "Name: StateHoliday, dtype: int64"
      ]
     },
     "execution_count": 3,
     "metadata": {},
     "output_type": "execute_result"
    }
   ],
   "source": [
    "train.dtypes\n",
    "train['StateHoliday'].value_counts()"
   ]
  },
  {
   "cell_type": "code",
   "execution_count": 4,
   "metadata": {},
   "outputs": [],
   "source": [
    "train['StateHoliday'] = train['StateHoliday'].replace(['0'], 0)"
   ]
  },
  {
   "cell_type": "code",
   "execution_count": 5,
   "metadata": {
    "scrolled": true
   },
   "outputs": [],
   "source": [
    "store.isna().any()\n",
    "store = store.drop(['Promofactor', 'Assortfactor', 'PromoYear'], axis = 1)"
   ]
  },
  {
   "cell_type": "code",
   "execution_count": 6,
   "metadata": {},
   "outputs": [],
   "source": [
    "merge = pd.merge(train, store, on = 'Store', how = 'inner')"
   ]
  },
  {
   "cell_type": "code",
   "execution_count": 7,
   "metadata": {},
   "outputs": [
    {
     "data": {
      "text/html": [
       "<div>\n",
       "<style scoped>\n",
       "    .dataframe tbody tr th:only-of-type {\n",
       "        vertical-align: middle;\n",
       "    }\n",
       "\n",
       "    .dataframe tbody tr th {\n",
       "        vertical-align: top;\n",
       "    }\n",
       "\n",
       "    .dataframe thead th {\n",
       "        text-align: right;\n",
       "    }\n",
       "</style>\n",
       "<table border=\"1\" class=\"dataframe\">\n",
       "  <thead>\n",
       "    <tr style=\"text-align: right;\">\n",
       "      <th></th>\n",
       "      <th>Store</th>\n",
       "      <th>DayOfWeek</th>\n",
       "      <th>Date</th>\n",
       "      <th>Sales</th>\n",
       "      <th>Customers</th>\n",
       "      <th>Open</th>\n",
       "      <th>Promo</th>\n",
       "      <th>StateHoliday</th>\n",
       "      <th>SchoolHoliday</th>\n",
       "      <th>Unnamed: 0</th>\n",
       "      <th>StoreType</th>\n",
       "      <th>Assortment</th>\n",
       "      <th>CompetitionDistance</th>\n",
       "      <th>CompetitionOpenSinceMonth</th>\n",
       "      <th>CompetitionOpenSinceYear</th>\n",
       "      <th>Promo2</th>\n",
       "      <th>Promo2SinceWeek</th>\n",
       "      <th>Promo2SinceYear</th>\n",
       "      <th>PromoInterval</th>\n",
       "    </tr>\n",
       "  </thead>\n",
       "  <tbody>\n",
       "    <tr>\n",
       "      <th>0</th>\n",
       "      <td>1</td>\n",
       "      <td>5</td>\n",
       "      <td>31/07/2015</td>\n",
       "      <td>5263</td>\n",
       "      <td>555</td>\n",
       "      <td>1</td>\n",
       "      <td>1</td>\n",
       "      <td>0</td>\n",
       "      <td>1</td>\n",
       "      <td>1</td>\n",
       "      <td>c</td>\n",
       "      <td>a</td>\n",
       "      <td>1270</td>\n",
       "      <td>9</td>\n",
       "      <td>2008</td>\n",
       "      <td>0</td>\n",
       "      <td>x</td>\n",
       "      <td>x</td>\n",
       "      <td>x</td>\n",
       "    </tr>\n",
       "    <tr>\n",
       "      <th>1</th>\n",
       "      <td>1</td>\n",
       "      <td>4</td>\n",
       "      <td>30/07/2015</td>\n",
       "      <td>5020</td>\n",
       "      <td>546</td>\n",
       "      <td>1</td>\n",
       "      <td>1</td>\n",
       "      <td>0</td>\n",
       "      <td>1</td>\n",
       "      <td>1</td>\n",
       "      <td>c</td>\n",
       "      <td>a</td>\n",
       "      <td>1270</td>\n",
       "      <td>9</td>\n",
       "      <td>2008</td>\n",
       "      <td>0</td>\n",
       "      <td>x</td>\n",
       "      <td>x</td>\n",
       "      <td>x</td>\n",
       "    </tr>\n",
       "    <tr>\n",
       "      <th>2</th>\n",
       "      <td>1</td>\n",
       "      <td>3</td>\n",
       "      <td>29/07/2015</td>\n",
       "      <td>4782</td>\n",
       "      <td>523</td>\n",
       "      <td>1</td>\n",
       "      <td>1</td>\n",
       "      <td>0</td>\n",
       "      <td>1</td>\n",
       "      <td>1</td>\n",
       "      <td>c</td>\n",
       "      <td>a</td>\n",
       "      <td>1270</td>\n",
       "      <td>9</td>\n",
       "      <td>2008</td>\n",
       "      <td>0</td>\n",
       "      <td>x</td>\n",
       "      <td>x</td>\n",
       "      <td>x</td>\n",
       "    </tr>\n",
       "    <tr>\n",
       "      <th>3</th>\n",
       "      <td>1</td>\n",
       "      <td>2</td>\n",
       "      <td>28/07/2015</td>\n",
       "      <td>5011</td>\n",
       "      <td>560</td>\n",
       "      <td>1</td>\n",
       "      <td>1</td>\n",
       "      <td>0</td>\n",
       "      <td>1</td>\n",
       "      <td>1</td>\n",
       "      <td>c</td>\n",
       "      <td>a</td>\n",
       "      <td>1270</td>\n",
       "      <td>9</td>\n",
       "      <td>2008</td>\n",
       "      <td>0</td>\n",
       "      <td>x</td>\n",
       "      <td>x</td>\n",
       "      <td>x</td>\n",
       "    </tr>\n",
       "    <tr>\n",
       "      <th>4</th>\n",
       "      <td>1</td>\n",
       "      <td>1</td>\n",
       "      <td>27/07/2015</td>\n",
       "      <td>6102</td>\n",
       "      <td>612</td>\n",
       "      <td>1</td>\n",
       "      <td>1</td>\n",
       "      <td>0</td>\n",
       "      <td>1</td>\n",
       "      <td>1</td>\n",
       "      <td>c</td>\n",
       "      <td>a</td>\n",
       "      <td>1270</td>\n",
       "      <td>9</td>\n",
       "      <td>2008</td>\n",
       "      <td>0</td>\n",
       "      <td>x</td>\n",
       "      <td>x</td>\n",
       "      <td>x</td>\n",
       "    </tr>\n",
       "  </tbody>\n",
       "</table>\n",
       "</div>"
      ],
      "text/plain": [
       "   Store  DayOfWeek        Date  Sales  Customers  Open  Promo StateHoliday  \\\n",
       "0      1          5  31/07/2015   5263        555     1      1            0   \n",
       "1      1          4  30/07/2015   5020        546     1      1            0   \n",
       "2      1          3  29/07/2015   4782        523     1      1            0   \n",
       "3      1          2  28/07/2015   5011        560     1      1            0   \n",
       "4      1          1  27/07/2015   6102        612     1      1            0   \n",
       "\n",
       "   SchoolHoliday  Unnamed: 0 StoreType Assortment  CompetitionDistance  \\\n",
       "0              1           1         c          a                 1270   \n",
       "1              1           1         c          a                 1270   \n",
       "2              1           1         c          a                 1270   \n",
       "3              1           1         c          a                 1270   \n",
       "4              1           1         c          a                 1270   \n",
       "\n",
       "   CompetitionOpenSinceMonth  CompetitionOpenSinceYear  Promo2  \\\n",
       "0                          9                      2008       0   \n",
       "1                          9                      2008       0   \n",
       "2                          9                      2008       0   \n",
       "3                          9                      2008       0   \n",
       "4                          9                      2008       0   \n",
       "\n",
       "  Promo2SinceWeek Promo2SinceYear PromoInterval  \n",
       "0               x               x             x  \n",
       "1               x               x             x  \n",
       "2               x               x             x  \n",
       "3               x               x             x  \n",
       "4               x               x             x  "
      ]
     },
     "execution_count": 7,
     "metadata": {},
     "output_type": "execute_result"
    }
   ],
   "source": [
    "merge.head()"
   ]
  },
  {
   "cell_type": "code",
   "execution_count": 8,
   "metadata": {},
   "outputs": [],
   "source": [
    "merge.to_csv('allstore.csv', index = False)"
   ]
  },
  {
   "cell_type": "code",
   "execution_count": null,
   "metadata": {},
   "outputs": [
    {
     "data": {
      "text/html": [
       "<div>\n",
       "<style scoped>\n",
       "    .dataframe tbody tr th:only-of-type {\n",
       "        vertical-align: middle;\n",
       "    }\n",
       "\n",
       "    .dataframe tbody tr th {\n",
       "        vertical-align: top;\n",
       "    }\n",
       "\n",
       "    .dataframe thead th {\n",
       "        text-align: right;\n",
       "    }\n",
       "</style>\n",
       "<table border=\"1\" class=\"dataframe\">\n",
       "  <thead>\n",
       "    <tr style=\"text-align: right;\">\n",
       "      <th></th>\n",
       "      <th>Store</th>\n",
       "      <th>DayOfWeek</th>\n",
       "      <th>Date</th>\n",
       "      <th>Sales</th>\n",
       "      <th>Customers</th>\n",
       "      <th>Open</th>\n",
       "      <th>Promo</th>\n",
       "      <th>StateHoliday</th>\n",
       "      <th>SchoolHoliday</th>\n",
       "      <th>Unnamed: 0</th>\n",
       "      <th>StoreType</th>\n",
       "      <th>Assortment</th>\n",
       "      <th>CompetitionDistance</th>\n",
       "      <th>CompetitionOpenSinceMonth</th>\n",
       "      <th>CompetitionOpenSinceYear</th>\n",
       "      <th>Promo2</th>\n",
       "      <th>Promo2SinceWeek</th>\n",
       "      <th>Promo2SinceYear</th>\n",
       "      <th>PromoInterval</th>\n",
       "    </tr>\n",
       "  </thead>\n",
       "  <tbody>\n",
       "    <tr>\n",
       "      <th>0</th>\n",
       "      <td>1</td>\n",
       "      <td>5</td>\n",
       "      <td>31/07/2015</td>\n",
       "      <td>5263</td>\n",
       "      <td>555</td>\n",
       "      <td>1</td>\n",
       "      <td>1</td>\n",
       "      <td>0</td>\n",
       "      <td>1</td>\n",
       "      <td>1</td>\n",
       "      <td>c</td>\n",
       "      <td>a</td>\n",
       "      <td>1270</td>\n",
       "      <td>9</td>\n",
       "      <td>2008</td>\n",
       "      <td>0</td>\n",
       "      <td>x</td>\n",
       "      <td>x</td>\n",
       "      <td>x</td>\n",
       "    </tr>\n",
       "    <tr>\n",
       "      <th>1</th>\n",
       "      <td>1</td>\n",
       "      <td>4</td>\n",
       "      <td>30/07/2015</td>\n",
       "      <td>5020</td>\n",
       "      <td>546</td>\n",
       "      <td>1</td>\n",
       "      <td>1</td>\n",
       "      <td>0</td>\n",
       "      <td>1</td>\n",
       "      <td>1</td>\n",
       "      <td>c</td>\n",
       "      <td>a</td>\n",
       "      <td>1270</td>\n",
       "      <td>9</td>\n",
       "      <td>2008</td>\n",
       "      <td>0</td>\n",
       "      <td>x</td>\n",
       "      <td>x</td>\n",
       "      <td>x</td>\n",
       "    </tr>\n",
       "    <tr>\n",
       "      <th>2</th>\n",
       "      <td>1</td>\n",
       "      <td>3</td>\n",
       "      <td>29/07/2015</td>\n",
       "      <td>4782</td>\n",
       "      <td>523</td>\n",
       "      <td>1</td>\n",
       "      <td>1</td>\n",
       "      <td>0</td>\n",
       "      <td>1</td>\n",
       "      <td>1</td>\n",
       "      <td>c</td>\n",
       "      <td>a</td>\n",
       "      <td>1270</td>\n",
       "      <td>9</td>\n",
       "      <td>2008</td>\n",
       "      <td>0</td>\n",
       "      <td>x</td>\n",
       "      <td>x</td>\n",
       "      <td>x</td>\n",
       "    </tr>\n",
       "    <tr>\n",
       "      <th>3</th>\n",
       "      <td>1</td>\n",
       "      <td>2</td>\n",
       "      <td>28/07/2015</td>\n",
       "      <td>5011</td>\n",
       "      <td>560</td>\n",
       "      <td>1</td>\n",
       "      <td>1</td>\n",
       "      <td>0</td>\n",
       "      <td>1</td>\n",
       "      <td>1</td>\n",
       "      <td>c</td>\n",
       "      <td>a</td>\n",
       "      <td>1270</td>\n",
       "      <td>9</td>\n",
       "      <td>2008</td>\n",
       "      <td>0</td>\n",
       "      <td>x</td>\n",
       "      <td>x</td>\n",
       "      <td>x</td>\n",
       "    </tr>\n",
       "    <tr>\n",
       "      <th>4</th>\n",
       "      <td>1</td>\n",
       "      <td>1</td>\n",
       "      <td>27/07/2015</td>\n",
       "      <td>6102</td>\n",
       "      <td>612</td>\n",
       "      <td>1</td>\n",
       "      <td>1</td>\n",
       "      <td>0</td>\n",
       "      <td>1</td>\n",
       "      <td>1</td>\n",
       "      <td>c</td>\n",
       "      <td>a</td>\n",
       "      <td>1270</td>\n",
       "      <td>9</td>\n",
       "      <td>2008</td>\n",
       "      <td>0</td>\n",
       "      <td>x</td>\n",
       "      <td>x</td>\n",
       "      <td>x</td>\n",
       "    </tr>\n",
       "  </tbody>\n",
       "</table>\n",
       "</div>"
      ],
      "text/plain": [
       "   Store  DayOfWeek        Date  Sales  Customers  Open  Promo StateHoliday  \\\n",
       "0      1          5  31/07/2015   5263        555     1      1            0   \n",
       "1      1          4  30/07/2015   5020        546     1      1            0   \n",
       "2      1          3  29/07/2015   4782        523     1      1            0   \n",
       "3      1          2  28/07/2015   5011        560     1      1            0   \n",
       "4      1          1  27/07/2015   6102        612     1      1            0   \n",
       "\n",
       "   SchoolHoliday  Unnamed: 0 StoreType Assortment  CompetitionDistance  \\\n",
       "0              1           1         c          a                 1270   \n",
       "1              1           1         c          a                 1270   \n",
       "2              1           1         c          a                 1270   \n",
       "3              1           1         c          a                 1270   \n",
       "4              1           1         c          a                 1270   \n",
       "\n",
       "   CompetitionOpenSinceMonth  CompetitionOpenSinceYear  Promo2  \\\n",
       "0                          9                      2008       0   \n",
       "1                          9                      2008       0   \n",
       "2                          9                      2008       0   \n",
       "3                          9                      2008       0   \n",
       "4                          9                      2008       0   \n",
       "\n",
       "  Promo2SinceWeek Promo2SinceYear PromoInterval  \n",
       "0               x               x             x  \n",
       "1               x               x             x  \n",
       "2               x               x             x  \n",
       "3               x               x             x  \n",
       "4               x               x             x  "
      ]
     },
     "execution_count": 9,
     "metadata": {},
     "output_type": "execute_result"
    }
   ],
   "source": [
    "df = pd.read_csv('allstore.csv')\n",
    "df.head()"
   ]
  },
  {
   "cell_type": "code",
   "execution_count": null,
   "metadata": {},
   "outputs": [],
   "source": [
    "df.isnull().any()\n",
    "df = df.drop(['Unnamed: 0'], axis = 1)"
   ]
  },
  {
   "cell_type": "markdown",
   "metadata": {},
   "source": [
    "# Feature engineering "
   ]
  },
  {
   "cell_type": "code",
   "execution_count": null,
   "metadata": {},
   "outputs": [],
   "source": [
    "# Dates \n",
    "df['Date'] = pd.to_datetime(df['Date'])\n",
    "df['quarter'] = df['Date'].apply(lambda x: x.quarter)\n",
    "\n",
    "df['weekday'] = df.apply(lambda row: row['Date'].weekday(), axis = 1)\n",
    "df['weekday'] = (df['weekday'] < 5).astype(int)\n",
    "\n",
    "df.set_index('Date', inplace = True)\n",
    "\n",
    "df['year'] = df.index.year\n",
    "df['month'] = df.index.month\n",
    "df['day'] = df.index.day\n",
    "df['week_of_year'] = df.index.weekofyear\n",
    "\n",
    "df['day_of_year'] = df.index.dayofyear\n",
    "df['day_of_week'] = df.index.dayofweek\n",
    "df.head()"
   ]
  },
  {
   "cell_type": "markdown",
   "metadata": {},
   "source": [
    "# Kurtosis & Skewness\n",
    "- kurtosis close to 0 = Normal\n",
    "- Skewness between -0.5 & 0.5 = symmetry "
   ]
  },
  {
   "cell_type": "code",
   "execution_count": null,
   "metadata": {},
   "outputs": [],
   "source": [
    "sns.distplot(df.Sales);\n",
    "\n",
    "print('Kurtosis:{}'.format(stats.kurtosis(df.Sales)))\n",
    "print('Skewness:{}'.format(stats.skew(df.Sales)))"
   ]
  },
  {
   "cell_type": "code",
   "execution_count": null,
   "metadata": {},
   "outputs": [],
   "source": [
    "plt.figure(figsize=(14,6))\n",
    "plt.subplot(1,2,1)\n",
    "df['Sales'].hist(bins=50)\n",
    "plt.title('Sales Distribution')\n",
    "plt.subplot(1,2,2)\n",
    "stats.probplot(df['Sales'], plot=plt);\n",
    "\n",
    "# Does not look normally distributed "
   ]
  },
  {
   "cell_type": "markdown",
   "metadata": {},
   "source": [
    "# Resampling over time "
   ]
  },
  {
   "cell_type": "code",
   "execution_count": null,
   "metadata": {},
   "outputs": [],
   "source": [
    "df1 = df.loc[:, ['Date', 'Sales']]\n",
    "\n",
    "fig = plt.figure(figsize=(18,16))\n",
    "fig.subplots_adjust(hspace=.4)\n",
    "ax1 = fig.add_subplot(5,1,1)\n",
    "ax1.plot(df1['Sales'].resample('D').mean(),linewidth = 1)\n",
    "ax1.set_title('Mean Sales resampled over day')\n",
    "ax1.tick_params(axis='both', which='major')\n",
    "\n",
    "ax2 = fig.add_subplot(5,1,2, sharex=ax1)\n",
    "ax2.plot(df1['Sales'].resample('W').mean(),linewidth=1)\n",
    "ax2.set_title('Mean Sales resampled over week')\n",
    "ax2.tick_params(axis='both', which='major')\n",
    "\n",
    "ax3 = fig.add_subplot(5,1,3, sharex=ax1)\n",
    "ax3.plot(df1['Sales'].resample('M').mean(),linewidth=1)\n",
    "ax3.set_title('Mean Sales resampled over month')\n",
    "ax3.tick_params(axis='both', which='major')\n",
    "\n",
    "ax4  = fig.add_subplot(5,1,4, sharex=ax1)\n",
    "ax4.plot(df1['Sales'].resample('Q').mean(),linewidth=1)\n",
    "ax4.set_title('Mean Sales resampled over quarter')\n",
    "ax4.tick_params(axis='both', which='major')\n",
    "\n",
    "ax5  = fig.add_subplot(5,1,5, sharex=ax1)\n",
    "ax5.plot(df1['Sales'].resample('A').mean(),linewidth=1)\n",
    "ax5.set_title('Mean Sales resampled over year')\n",
    "ax5.tick_params(axis='both', which='major');"
   ]
  },
  {
   "cell_type": "code",
   "execution_count": null,
   "metadata": {},
   "outputs": [],
   "source": [
    "plt.figure(figsize=(14,8))\n",
    "plt.subplot(2,2,1)\n",
    "df.groupby('year').Sales.agg('mean').plot()\n",
    "plt.xlabel('')\n",
    "plt.title('Mean Sales by Year')\n",
    "\n",
    "plt.subplot(2,2,2)\n",
    "df.groupby('quarter').Sales.agg('mean').plot()\n",
    "plt.xlabel('')\n",
    "plt.title('Mean Sales by Quarter')\n",
    "\n",
    "plt.subplot(2,2,3)\n",
    "df.groupby('month').Sales.agg('mean').plot()\n",
    "plt.xlabel('')\n",
    "plt.title('Mean Sales by Month')\n",
    "\n",
    "plt.subplot(2,2,4)\n",
    "df.groupby('day_of_week').Sales.agg('mean').plot()\n",
    "plt.xlabel('')\n",
    "plt.title('Mean Sales by Day of week');"
   ]
  },
  {
   "cell_type": "code",
   "execution_count": null,
   "metadata": {},
   "outputs": [],
   "source": [
    "# df = df.reset_index(drop = True)\n",
    "\n",
    "pd.pivot_table(df, values = \"Sales\", \n",
    "               columns = \"year\", index = \"month\").plot(subplots = True,\n",
    "                                                       figsize=(12, 12), \n",
    "                                                       layout=(3, 5), \n",
    "                                                       sharey=True);"
   ]
  },
  {
   "cell_type": "code",
   "execution_count": null,
   "metadata": {},
   "outputs": [],
   "source": [
    "plt.figure(figsize=(14,5))\n",
    "plt.subplot(2,2,1)\n",
    "plt.subplots_adjust(wspace=0.2)\n",
    "\n",
    "sns.boxplot(x=\"year\", y=\"Sales\", data=df)\n",
    "plt.xlabel('year')\n",
    "plt.title('Box plot of Yearly Sales')\n",
    "sns.despine(left=True)\n",
    "plt.tight_layout()\n",
    "\n",
    "plt.subplot(2,2,2)\n",
    "sns.boxplot(x=\"quarter\", y=\"Sales\", data=df)\n",
    "plt.xlabel('quarter')\n",
    "plt.title('Box plot of Quarterly Sales')\n",
    "sns.despine(left=True)\n",
    "plt.tight_layout()\n",
    "\n",
    "plt.subplot(2,2,3)\n",
    "sns.boxplot(x=\"month\", y=\"Sales\", data=df)\n",
    "plt.xlabel('month')\n",
    "plt.title('Box plot of monthly Sales')\n",
    "sns.despine(left=True)\n",
    "plt.tight_layout();\n",
    "\n",
    "plt.subplot(2,2,4)\n",
    "sns.boxplot(x=\"day_of_week\", y=\"Sales\", data=df)\n",
    "plt.xlabel('day_of_week')\n",
    "plt.title('Box plot of day of week Sales')\n",
    "sns.despine(left=True)\n",
    "plt.tight_layout();"
   ]
  },
  {
   "cell_type": "markdown",
   "metadata": {},
   "source": [
    "# StateHoliday "
   ]
  },
  {
   "cell_type": "code",
   "execution_count": null,
   "metadata": {},
   "outputs": [],
   "source": [
    "def SH(c):\n",
    "    if c['StateHoliday'] == 'a':\n",
    "        return 1\n",
    "    elif c['StateHoliday'] == 'b':\n",
    "        return 1\n",
    "    elif c['StateHoliday'] == 'c':\n",
    "        return 1\n",
    "    else:\n",
    "        return 0\n",
    "    \n",
    "df['IsStateHoliday'] = df.apply(SH, axis = 1)"
   ]
  },
  {
   "cell_type": "code",
   "execution_count": null,
   "metadata": {},
   "outputs": [],
   "source": [
    "g = sns.FacetGrid(df, \n",
    "                 col = 'IsStateHoliday', \n",
    "                 height = 4, aspect = .8)\n",
    "\n",
    "g.map(sns.barplot, 'IsStateHoliday', 'Sales');"
   ]
  },
  {
   "cell_type": "code",
   "execution_count": null,
   "metadata": {},
   "outputs": [],
   "source": [
    "data = pd.concat([df['StoreType'], df['Sales'], df['IsStateHoliday']], axis=1)\n",
    "plt.figure(figsize=(20,6))\n",
    "plt.title('Box Plot of Sales by StoreType and StateHoliday')\n",
    "fig = sns.boxplot(x='StoreType', y='Sales', \n",
    "                  data=data, showfliers=False, hue=\"IsStateHoliday\")"
   ]
  },
  {
   "cell_type": "code",
   "execution_count": null,
   "metadata": {},
   "outputs": [],
   "source": [
    "df.head()"
   ]
  },
  {
   "cell_type": "code",
   "execution_count": null,
   "metadata": {},
   "outputs": [],
   "source": [
    "dic={0:'Weekend',1:'Weekday'}\n",
    "df['Day'] = df.weekday.map(dic)"
   ]
  },
  {
   "cell_type": "code",
   "execution_count": null,
   "metadata": {},
   "outputs": [],
   "source": [
    "# Weekend / Weekday\n",
    "\n",
    "dic={0:'Weekend',1:'Weekday'}\n",
    "df['Day'] = df.weekday.map(dic)\n",
    "a=plt.figure(figsize=(9,4)) \n",
    "\n",
    "plt1=sns.boxplot('year','Sales',\n",
    "                 hue='Day',\n",
    "                 width=0.6,\n",
    "                 fliersize=3,\n",
    "                 data=df)     \n",
    "\n",
    "a.legend(loc='upper center', bbox_to_anchor=(0.5, 1.00), shadow=True, ncol=2)\n",
    "sns.despine(left=True, bottom=True) \n",
    "plt.xlabel('')\n",
    "plt.tight_layout()                                                                                                                  \n",
    "plt.legend().set_visible(False);"
   ]
  },
  {
   "cell_type": "code",
   "execution_count": null,
   "metadata": {},
   "outputs": [],
   "source": [
    "plt1=sns.factorplot('year','Sales',hue='Day',\n",
    "                    data=df, size=4, aspect=1.5, legend=False)                                                                                                                                                                                                                                                                                                                                             \n",
    "plt.title('Factor Plot of Sales by Weekend/Weekday')                                                             \n",
    "plt.tight_layout()                                                                                                                  \n",
    "sns.despine(left=True, bottom=True) \n",
    "plt.legend(loc='right');"
   ]
  },
  {
   "cell_type": "code",
   "execution_count": null,
   "metadata": {},
   "outputs": [],
   "source": [
    "sales_df = pd.DataFrame(data={'Sales':df['Sales'], \n",
    "                              'IsStateHoliday':df['IsStateHoliday']})\n",
    "\n",
    "# GroupBy to see sales difference between 0 and 1 (StateHoliday)\n",
    "sales_df['Sales'] = sales_df['Sales'].groupby(sales_df['IsStateHoliday']).transform('sum')"
   ]
  },
  {
   "cell_type": "code",
   "execution_count": null,
   "metadata": {},
   "outputs": [],
   "source": [
    "sns.barplot(x='IsStateHoliday', y='Sales', data=sales_df).set_yscale('log')\n",
    "\n",
    "#sns.barplot(x='IsStateHoliday', y='Sales', data=sales_df)"
   ]
  },
  {
   "cell_type": "markdown",
   "metadata": {},
   "source": [
    "# Stat test \n",
    "\n",
    "- D'Agostino K-sq test\n",
    "    - quantify if data is drawn from Gaussian / Normal distribution\n",
    "   \n",
    "- Dickey-Fuller\n",
    "    - Stationarity test"
   ]
  },
  {
   "cell_type": "code",
   "execution_count": null,
   "metadata": {},
   "outputs": [],
   "source": [
    "import math\n",
    "from scipy import stats \n",
    "from statsmodels.tsa.stattools import adfuller\n",
    "from statsmodels.tsa.stattools import pacf\n",
    "\n",
    "stat, p = stats.normaltest(df.Sales)\n",
    "\n",
    "# H0 = not normal \n",
    "# H1 = normal \n",
    "# P <= alpha: reject H0 in favor of H1 \n",
    "# P > alpha: fail to reject H0\n",
    "print('Statistics = %.3f, p = %.3f' % (stat, p))\n",
    "\n",
    "alpha = .05\n",
    "2\n",
    "if p > alpha:\n",
    "    print('Not normally distributed (do not reject H0)')\n",
    "else:\n",
    "    print('Is normally distributed (reject H0)')"
   ]
  },
  {
   "cell_type": "code",
   "execution_count": null,
   "metadata": {},
   "outputs": [],
   "source": [
    "df1 = pd.read_csv('allstore.csv')\n",
    "df1.head()"
   ]
  },
  {
   "cell_type": "code",
   "execution_count": null,
   "metadata": {},
   "outputs": [],
   "source": [
    "# Dickey-Fuller \n",
    "df1=df.resample('D', how=np.mean)\n",
    "\n",
    "def test_stationarity(timeseries):\n",
    "    rolmean = timeseries.rolling(window=30).mean() # 30 days \n",
    "    rolstd = timeseries.rolling(window=30).std()\n",
    "    \n",
    "    plt.figure(figsize=(27,9))\n",
    "    sns.despine(left=True)\n",
    "    orig = plt.plot(timeseries, color='gold',label='Original')\n",
    "    mean = plt.plot(rolmean, color='green', label='Rolling Mean')\n",
    "    std = plt.plot(rolstd, color='red', label = 'Rolling Std')\n",
    "\n",
    "    plt.legend(loc='best'); plt.title('Rolling Mean & Standard Deviation')\n",
    "    plt.show()\n",
    "    \n",
    "    print ('<Results of Dickey-Fuller Test>')\n",
    "    dftest = adfuller(timeseries, autolag='AIC')\n",
    "    dfoutput = pd.Series(dftest[0:4],\n",
    "                         index=['Test Statistic','p-value','#Lags Used','Number of Observations Used'])\n",
    "    for key,value in dftest[4].items():\n",
    "        dfoutput['Critical Value (%s)'%key] = value\n",
    "    print(dfoutput)\n",
    "    \n",
    "test_stationarity(df1.Sales.dropna())"
   ]
  },
  {
   "cell_type": "markdown",
   "metadata": {},
   "source": [
    "#### p-val > 0.05 = Do not reject H0\n",
    "- H0: data has unit root and is non-stationary \n",
    "\n",
    "#### p-val < 0.05 = Reject H0 \n",
    "- data does not have unit root and is stationary\n",
    "\n",
    "#### critical values \n",
    "- must be close to test statistic "
   ]
  },
  {
   "cell_type": "code",
   "execution_count": null,
   "metadata": {},
   "outputs": [],
   "source": [
    "df.head()"
   ]
  },
  {
   "cell_type": "code",
   "execution_count": null,
   "metadata": {},
   "outputs": [],
   "source": [
    "df.reset_index(inplace=True)\n",
    "df.head()"
   ]
  },
  {
   "cell_type": "code",
   "execution_count": null,
   "metadata": {},
   "outputs": [],
   "source": [
    "df.to_csv('model_data.csv', index = False)"
   ]
  },
  {
   "cell_type": "markdown",
   "metadata": {},
   "source": [
    "# Encoding cats "
   ]
  },
  {
   "cell_type": "code",
   "execution_count": null,
   "metadata": {},
   "outputs": [],
   "source": [
    "df = pd.read_csv('model_data.csv')\n",
    "df.sort_values(by = ['Date'], inplace = True)\n",
    "df.head()"
   ]
  },
  {
   "cell_type": "code",
   "execution_count": null,
   "metadata": {},
   "outputs": [],
   "source": [
    "x = pd.get_dummies(df, columns = ['StateHoliday','StoreType'])\n",
    "x.head()"
   ]
  },
  {
   "cell_type": "markdown",
   "metadata": {},
   "source": [
    "# Test data"
   ]
  },
  {
   "cell_type": "code",
   "execution_count": null,
   "metadata": {},
   "outputs": [],
   "source": [
    "test = pd.read_csv('DA1920_test.csv')"
   ]
  },
  {
   "cell_type": "code",
   "execution_count": 9,
   "metadata": {},
   "outputs": [],
   "source": [
    "from datetime import datetime\n",
    "\n",
    "dates = pd.date_range(start = '08/01/2015',\n",
    "                     end = '17/09/2015',\n",
    "                     freq = 'D')"
   ]
  },
  {
   "cell_type": "code",
   "execution_count": 10,
   "metadata": {},
   "outputs": [],
   "source": [
    "te = pd.DataFrame(dates, columns = ['Date'])\n",
    "\n",
    "# te['Store'] = train['Store']"
   ]
  },
  {
   "cell_type": "code",
   "execution_count": 12,
   "metadata": {},
   "outputs": [
    {
     "data": {
      "text/html": [
       "<div>\n",
       "<style scoped>\n",
       "    .dataframe tbody tr th:only-of-type {\n",
       "        vertical-align: middle;\n",
       "    }\n",
       "\n",
       "    .dataframe tbody tr th {\n",
       "        vertical-align: top;\n",
       "    }\n",
       "\n",
       "    .dataframe thead th {\n",
       "        text-align: right;\n",
       "    }\n",
       "</style>\n",
       "<table border=\"1\" class=\"dataframe\">\n",
       "  <thead>\n",
       "    <tr style=\"text-align: right;\">\n",
       "      <th></th>\n",
       "      <th>Date</th>\n",
       "    </tr>\n",
       "  </thead>\n",
       "  <tbody>\n",
       "    <tr>\n",
       "      <th>0</th>\n",
       "      <td>2015-08-01</td>\n",
       "    </tr>\n",
       "    <tr>\n",
       "      <th>1</th>\n",
       "      <td>2015-08-02</td>\n",
       "    </tr>\n",
       "    <tr>\n",
       "      <th>2</th>\n",
       "      <td>2015-08-03</td>\n",
       "    </tr>\n",
       "    <tr>\n",
       "      <th>3</th>\n",
       "      <td>2015-08-04</td>\n",
       "    </tr>\n",
       "    <tr>\n",
       "      <th>4</th>\n",
       "      <td>2015-08-05</td>\n",
       "    </tr>\n",
       "  </tbody>\n",
       "</table>\n",
       "</div>"
      ],
      "text/plain": [
       "        Date\n",
       "0 2015-08-01\n",
       "1 2015-08-02\n",
       "2 2015-08-03\n",
       "3 2015-08-04\n",
       "4 2015-08-05"
      ]
     },
     "execution_count": 12,
     "metadata": {},
     "output_type": "execute_result"
    }
   ],
   "source": [
    "te.head()"
   ]
  },
  {
   "cell_type": "code",
   "execution_count": null,
   "metadata": {},
   "outputs": [],
   "source": []
  }
 ],
 "metadata": {
  "kernelspec": {
   "display_name": "Python 3",
   "language": "python",
   "name": "python3"
  },
  "language_info": {
   "codemirror_mode": {
    "name": "ipython",
    "version": 3
   },
   "file_extension": ".py",
   "mimetype": "text/x-python",
   "name": "python",
   "nbconvert_exporter": "python",
   "pygments_lexer": "ipython3",
   "version": "3.6.8"
  }
 },
 "nbformat": 4,
 "nbformat_minor": 2
}
